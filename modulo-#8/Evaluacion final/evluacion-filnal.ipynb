{
 "cells": [
  {
   "cell_type": "code",
   "execution_count": 1,
   "metadata": {},
   "outputs": [],
   "source": [
    "# Proyecto: Análisis de Datos de Vuelos con PySpark\n",
    "\n",
    "# En este ejercicio, usarás el conjunto de datos de vuelos \n",
    "# de la Administración Federal de Aviación de los Estados \n",
    "# Unidos (FAA) para realizar un análisis básico de los vuelos.\n"
   ]
  },
  {
   "cell_type": "code",
   "execution_count": 2,
   "metadata": {},
   "outputs": [],
   "source": [
    "# Obtén los Datos\n",
    "\n",
    "# Descarga un conjunto de datos de vuelos de la FAA. \n",
    "# Aquí está un enlace a los datos: \n",
    "# http://stat-computing.org/dataexpo/2009/the-data.html\n",
    "\n",
    "# Para este ejercicio, puedes descargar el conjunto de datos de 2008.\n"
   ]
  },
  {
   "cell_type": "code",
   "execution_count": 3,
   "metadata": {},
   "outputs": [],
   "source": [
    "import numpy as np\n",
    "import matplotlib.pyplot as plt\n",
    "\n",
    "from keras.models import Sequential\n",
    "from keras.layers import Input, Dense\n",
    "from keras.utils import to_categorical\n",
    "from keras.models import Model\n",
    "\n",
    "import warnings\n",
    "warnings.filterwarnings('ignore')\n"
   ]
  },
  {
   "cell_type": "code",
   "execution_count": 4,
   "metadata": {},
   "outputs": [],
   "source": [
    "import pyspark \n",
    "from pyspark import SparkContext\n",
    "sc =SparkContext()\n",
    "\n",
    "from pyspark import SQLContext\n",
    "sqlContext = SQLContext(sc)"
   ]
  },
  {
   "cell_type": "code",
   "execution_count": 5,
   "metadata": {},
   "outputs": [],
   "source": [
    "#\n",
    "# MUY IMPORTANTE:\n",
    "#\n",
    "# Para que funcione el ejercicio, debes descargar el archivo\n",
    "# 2008.rar y guardar y descomprimir el archivo 2008.csv en la\n",
    "# misma carpeta donde se encuentra este archivo .ipynb\n",
    "\n",
    "\n",
    "# Lee los datos con PySpark. \n",
    "df = sqlContext.read.csv(\"2008.csv\", sep = \",\", inferSchema = True, header = True)"
   ]
  },
  {
   "cell_type": "code",
   "execution_count": 6,
   "metadata": {},
   "outputs": [
    {
     "name": "stdout",
     "output_type": "stream",
     "text": [
      "+----+-----+----------+---------+-------+----------+-------+----------+-------------+---------+-------+-----------------+--------------+-------+--------+--------+------+----+--------+------+-------+---------+----------------+--------+------------+------------+--------+-------------+-----------------+\n",
      "|Year|Month|DayofMonth|DayOfWeek|DepTime|CRSDepTime|ArrTime|CRSArrTime|UniqueCarrier|FlightNum|TailNum|ActualElapsedTime|CRSElapsedTime|AirTime|ArrDelay|DepDelay|Origin|Dest|Distance|TaxiIn|TaxiOut|Cancelled|CancellationCode|Diverted|CarrierDelay|WeatherDelay|NASDelay|SecurityDelay|LateAircraftDelay|\n",
      "+----+-----+----------+---------+-------+----------+-------+----------+-------------+---------+-------+-----------------+--------------+-------+--------+--------+------+----+--------+------+-------+---------+----------------+--------+------------+------------+--------+-------------+-----------------+\n",
      "|2008|    1|         3|        4|   1343|      1325|   1451|      1435|           WN|      588| N240WN|               68|            70|     55|      16|      18|   HOU| LIT|     393|     4|      9|        0|            null|       0|          16|           0|       0|            0|                0|\n",
      "|2008|    1|         3|        4|   1125|      1120|   1247|      1245|           WN|     1343| N523SW|               82|            85|     71|       2|       5|   HOU| MAF|     441|     3|      8|        0|            null|       0|          NA|          NA|      NA|           NA|               NA|\n",
      "|2008|    1|         3|        4|   2009|      2015|   2136|      2140|           WN|     3841| N280WN|               87|            85|     71|      -4|      -6|   HOU| MAF|     441|     2|     14|        0|            null|       0|          NA|          NA|      NA|           NA|               NA|\n",
      "|2008|    1|         3|        4|    903|       855|   1203|      1205|           WN|        3| N308SA|              120|           130|    108|      -2|       8|   HOU| MCO|     848|     5|      7|        0|            null|       0|          NA|          NA|      NA|           NA|               NA|\n",
      "|2008|    1|         3|        4|   1423|      1400|   1726|      1710|           WN|       25| N462WN|              123|           130|    107|      16|      23|   HOU| MCO|     848|     6|     10|        0|            null|       0|          16|           0|       0|            0|                0|\n",
      "+----+-----+----------+---------+-------+----------+-------+----------+-------------+---------+-------+-----------------+--------------+-------+--------+--------+------+----+--------+------+-------+---------+----------------+--------+------------+------------+--------+-------------+-----------------+\n",
      "only showing top 5 rows\n",
      "\n"
     ]
    }
   ],
   "source": [
    "# Explorar los Datos\n",
    "# Explora los datos para familiarizarte con ellos. Aquí hay algunas cosas que podrías hacer:\n",
    "\n",
    "# Mostrar las primeras filas del objeto con los datos.\n",
    "df.show(5)\n"
   ]
  },
  {
   "cell_type": "code",
   "execution_count": 7,
   "metadata": {},
   "outputs": [
    {
     "name": "stdout",
     "output_type": "stream",
     "text": [
      "----------------------------\n",
      "Número de filas: 2389217\n",
      "Número de columnas: 29\n",
      "----------------------------\n"
     ]
    }
   ],
   "source": [
    "# Ver la cantidad de filas y columnas del objeto con los datos.\n",
    "\n",
    "# get rows\n",
    "num_filas = df.count()\n",
    "print(\"----------------------------\")\n",
    "print(\"Número de filas:\", num_filas)\n",
    "\n",
    "\n",
    "# get columns\n",
    "num_columnas = len(df.columns)\n",
    "print(\"Número de columnas:\", num_columnas)\n",
    "print(\"----------------------------\")\n"
   ]
  },
  {
   "cell_type": "code",
   "execution_count": 8,
   "metadata": {},
   "outputs": [
    {
     "name": "stdout",
     "output_type": "stream",
     "text": [
      "root\n",
      " |-- Year: integer (nullable = true)\n",
      " |-- Month: integer (nullable = true)\n",
      " |-- DayofMonth: integer (nullable = true)\n",
      " |-- DayOfWeek: integer (nullable = true)\n",
      " |-- DepTime: string (nullable = true)\n",
      " |-- CRSDepTime: integer (nullable = true)\n",
      " |-- ArrTime: string (nullable = true)\n",
      " |-- CRSArrTime: integer (nullable = true)\n",
      " |-- UniqueCarrier: string (nullable = true)\n",
      " |-- FlightNum: integer (nullable = true)\n",
      " |-- TailNum: string (nullable = true)\n",
      " |-- ActualElapsedTime: string (nullable = true)\n",
      " |-- CRSElapsedTime: string (nullable = true)\n",
      " |-- AirTime: string (nullable = true)\n",
      " |-- ArrDelay: string (nullable = true)\n",
      " |-- DepDelay: string (nullable = true)\n",
      " |-- Origin: string (nullable = true)\n",
      " |-- Dest: string (nullable = true)\n",
      " |-- Distance: integer (nullable = true)\n",
      " |-- TaxiIn: string (nullable = true)\n",
      " |-- TaxiOut: string (nullable = true)\n",
      " |-- Cancelled: integer (nullable = true)\n",
      " |-- CancellationCode: string (nullable = true)\n",
      " |-- Diverted: integer (nullable = true)\n",
      " |-- CarrierDelay: string (nullable = true)\n",
      " |-- WeatherDelay: string (nullable = true)\n",
      " |-- NASDelay: string (nullable = true)\n",
      " |-- SecurityDelay: string (nullable = true)\n",
      " |-- LateAircraftDelay: string (nullable = true)\n",
      "\n"
     ]
    }
   ],
   "source": [
    "# Mostrar el esquema del objeto con los datos. Qué tipo de objeto es?\n",
    "\n",
    "df.printSchema()\n"
   ]
  },
  {
   "cell_type": "code",
   "execution_count": 9,
   "metadata": {},
   "outputs": [
    {
     "name": "stdout",
     "output_type": "stream",
     "text": [
      "Filas con valores nulos en la columna 'TailNum': 42452\n",
      "Filas con valores nulos en la columna 'CancellationCode': 2324775\n",
      "----------------------------\n",
      "Eliminando filas con valores nulos... ['TailNum', 'CancellationCode']\n",
      "['Year', 'Month', 'DayofMonth', 'DayOfWeek', 'DepTime', 'CRSDepTime', 'ArrTime', 'CRSArrTime', 'UniqueCarrier', 'FlightNum', 'ActualElapsedTime', 'CRSElapsedTime', 'AirTime', 'ArrDelay', 'DepDelay', 'Origin', 'Dest', 'Distance', 'TaxiIn', 'TaxiOut', 'Cancelled', 'Diverted', 'CarrierDelay', 'WeatherDelay', 'NASDelay', 'SecurityDelay', 'LateAircraftDelay']\n"
     ]
    }
   ],
   "source": [
    "# Limpieza de Datos\n",
    "\n",
    "# Asegúrate de que los datos estén limpios. Puedes necesitar hacer cosas como:\n",
    "\n",
    "# Eliminar filas con datos faltantes.\n",
    "from pyspark.sql.functions import col\n",
    "\n",
    "columnas = df.columns\n",
    "\n",
    "# Revisar las cantidad de filas con NA para cada columna\n",
    "#============================================================================\n",
    "col_drop = []\n",
    "for columna in columnas:\n",
    "    df_na = df.filter(col(columna).isNull()).count()\n",
    "    if df_na > 0:\n",
    "        col_drop.append(columna) # agregar a la lista de columnas a eliminar\n",
    "        print(f\"Filas con valores nulos en la columna '{columna}': {df_na}\")\n",
    "\n",
    "\n",
    "# drop rows with NA\n",
    "print (\"----------------------------\")\n",
    "print (\"Eliminando filas con valores nulos...\", col_drop)\n",
    "\n",
    "df_clean = df = df.drop(*col_drop)\n",
    "print(df_clean.columns)"
   ]
  },
  {
   "cell_type": "code",
   "execution_count": 10,
   "metadata": {},
   "outputs": [
    {
     "name": "stdout",
     "output_type": "stream",
     "text": [
      "Filas con valores nulos como texto en la columna 'DepTime': 64442\n",
      "Filas con valores nulos como texto en la columna 'ArrTime': 70096\n",
      "Filas con valores nulos como texto en la columna 'ActualElapsedTime': 70096\n",
      "Filas con valores nulos como texto en la columna 'CRSElapsedTime': 407\n",
      "Filas con valores nulos como texto en la columna 'AirTime': 70096\n",
      "Filas con valores nulos como texto en la columna 'ArrDelay': 70096\n",
      "Filas con valores nulos como texto en la columna 'DepDelay': 64442\n",
      "Filas con valores nulos como texto en la columna 'Origin': 40481\n",
      "Filas con valores nulos como texto en la columna 'Dest': 40497\n",
      "Filas con valores nulos como texto en la columna 'TaxiIn': 70096\n",
      "Filas con valores nulos como texto en la columna 'TaxiOut': 64442\n",
      "Filas con valores nulos como texto en la columna 'CarrierDelay': 1804634\n",
      "Filas con valores nulos como texto en la columna 'WeatherDelay': 1804634\n",
      "Filas con valores nulos como texto en la columna 'NASDelay': 1804634\n",
      "Filas con valores nulos como texto en la columna 'SecurityDelay': 1804634\n",
      "Filas con valores nulos como texto en la columna 'LateAircraftDelay': 1804634\n"
     ]
    }
   ],
   "source": [
    "\n",
    "columnas = df_clean.columns\n",
    "# check rows with NA as string\n",
    "for columna in columnas:\n",
    "    df_na = df_clean.filter(col(columna).like(\"%NA%\")).count()\n",
    "    if df_na > 0:\n",
    "        print(f\"Filas con valores nulos como texto en la columna '{columna}': {df_na}\")\n",
    "\n"
   ]
  },
  {
   "cell_type": "code",
   "execution_count": 11,
   "metadata": {},
   "outputs": [
    {
     "name": "stdout",
     "output_type": "stream",
     "text": [
      "+----+-----+----------+---------+-------+----------+-------+----------+-------------+---------+-----------------+--------------+-------+--------+--------+------+----+--------+------+-------+---------+--------+------------+------------+--------+-------------+-----------------+\n",
      "|Year|Month|DayofMonth|DayOfWeek|DepTime|CRSDepTime|ArrTime|CRSArrTime|UniqueCarrier|FlightNum|ActualElapsedTime|CRSElapsedTime|AirTime|ArrDelay|DepDelay|Origin|Dest|Distance|TaxiIn|TaxiOut|Cancelled|Diverted|CarrierDelay|WeatherDelay|NASDelay|SecurityDelay|LateAircraftDelay|\n",
      "+----+-----+----------+---------+-------+----------+-------+----------+-------------+---------+-----------------+--------------+-------+--------+--------+------+----+--------+------+-------+---------+--------+------------+------------+--------+-------------+-----------------+\n",
      "|2008|    1|         3|        4|   1343|      1325|   1451|      1435|           WN|      588|               68|            70|     55|      16|      18|   HOU| LIT|     393|     4|      9|        0|       0|          16|           0|       0|            0|                0|\n",
      "|2008|    1|         3|        4|   1125|      1120|   1247|      1245|           WN|     1343|               82|            85|     71|       2|       5|   HOU| MAF|     441|     3|      8|        0|       0|          NA|          NA|      NA|           NA|               NA|\n",
      "|2008|    1|         3|        4|   2009|      2015|   2136|      2140|           WN|     3841|               87|            85|     71|      -4|      -6|   HOU| MAF|     441|     2|     14|        0|       0|          NA|          NA|      NA|           NA|               NA|\n",
      "|2008|    1|         3|        4|    903|       855|   1203|      1205|           WN|        3|              120|           130|    108|      -2|       8|   HOU| MCO|     848|     5|      7|        0|       0|          NA|          NA|      NA|           NA|               NA|\n",
      "|2008|    1|         3|        4|   1423|      1400|   1726|      1710|           WN|       25|              123|           130|    107|      16|      23|   HOU| MCO|     848|     6|     10|        0|       0|          16|           0|       0|            0|                0|\n",
      "+----+-----+----------+---------+-------+----------+-------+----------+-------------+---------+-----------------+--------------+-------+--------+--------+------+----+--------+------+-------+---------+--------+------------+------------+--------+-------------+-----------------+\n",
      "only showing top 5 rows\n",
      "\n"
     ]
    }
   ],
   "source": [
    "columnas = ['ActualElapsedTime', 'Dest']\n",
    "\n",
    "# check rows with NA as string\n",
    "for columna in columnas:\n",
    "    if df_clean.schema[columna].dataType == 'string':\n",
    "        df_clean = df_clean.filter(~col(columna).like(\"%NA%\"))\n",
    "\n",
    "df_clean.show(5)"
   ]
  },
  {
   "cell_type": "code",
   "execution_count": 12,
   "metadata": {},
   "outputs": [
    {
     "name": "stdout",
     "output_type": "stream",
     "text": [
      "root\n",
      " |-- Year: integer (nullable = true)\n",
      " |-- Month: integer (nullable = true)\n",
      " |-- DayofMonth: integer (nullable = true)\n",
      " |-- DayOfWeek: integer (nullable = true)\n",
      " |-- DepTime: string (nullable = true)\n",
      " |-- CRSDepTime: integer (nullable = true)\n",
      " |-- ArrTime: string (nullable = true)\n",
      " |-- CRSArrTime: integer (nullable = true)\n",
      " |-- UniqueCarrier: string (nullable = true)\n",
      " |-- FlightNum: integer (nullable = true)\n",
      " |-- ActualElapsedTime: integer (nullable = true)\n",
      " |-- CRSElapsedTime: string (nullable = true)\n",
      " |-- AirTime: string (nullable = true)\n",
      " |-- ArrDelay: string (nullable = true)\n",
      " |-- DepDelay: string (nullable = true)\n",
      " |-- Origin: string (nullable = true)\n",
      " |-- Dest: string (nullable = true)\n",
      " |-- Distance: integer (nullable = true)\n",
      " |-- TaxiIn: string (nullable = true)\n",
      " |-- TaxiOut: string (nullable = true)\n",
      " |-- Cancelled: integer (nullable = true)\n",
      " |-- Diverted: integer (nullable = true)\n",
      " |-- CarrierDelay: string (nullable = true)\n",
      " |-- WeatherDelay: string (nullable = true)\n",
      " |-- NASDelay: string (nullable = true)\n",
      " |-- SecurityDelay: string (nullable = true)\n",
      " |-- LateAircraftDelay: string (nullable = true)\n",
      "\n"
     ]
    }
   ],
   "source": [
    "# Convertir columnas a los tipos de datos correctos.\n",
    "\n",
    "from pyspark.sql import types\n",
    "\n",
    "df_clean = df_clean.withColumn('ActualElapsedTime', df_clean['ActualElapsedTime'].cast(types.IntegerType()))\n",
    "\n",
    "df_clean.printSchema()\n"
   ]
  },
  {
   "cell_type": "code",
   "execution_count": 13,
   "metadata": {},
   "outputs": [
    {
     "name": "stdout",
     "output_type": "stream",
     "text": [
      "El tiempo máximo de vuelo es: 905 minutos\n",
      "El tiempo máximo de vuelo es: 15.08 horas **\n",
      "Es mas apropiado en horas, ya que es mas facil de interpretar...\n"
     ]
    }
   ],
   "source": [
    "# Análisis de Datos\n",
    "\n",
    "#¿Cuál es el vuelo más largo? Que unidad de tiempo es más apropiada? De qué depende? Seleccione una.\n",
    "from pyspark.sql import functions as F\n",
    "\n",
    "max_vuelo = df_clean.select(F.max(\"ActualElapsedTime\")).first()[0]\n",
    "print(f\"El tiempo máximo de vuelo es: {max_vuelo} minutos\")\n",
    "\n",
    "df_with_hours = df_clean.withColumn(\"ActualElapsedTime_hours\", F.col(\"ActualElapsedTime\") / 60)\n",
    "\n",
    "max_vuelo_hrs = df_with_hours.select(F.max(\"ActualElapsedTime_hours\")).first()[0]\n",
    "print(f\"El tiempo máximo de vuelo es: {max_vuelo_hrs:.2f} horas **\")\n",
    "\n",
    "print(\"Es mas apropiado en horas, ya que es mas facil de interpretar...\")\n"
   ]
  },
  {
   "cell_type": "code",
   "execution_count": 14,
   "metadata": {},
   "outputs": [
    {
     "name": "stdout",
     "output_type": "stream",
     "text": [
      "La aerolínea con más vuelos es: WN, con 398966 viajes\n"
     ]
    }
   ],
   "source": [
    "#¿Cuál es la aerolínea con más vuelos?\n",
    "\n",
    "# get flights by airline\n",
    "df_vuelos_aerolinas = df_with_hours.groupBy(\"UniqueCarrier\").count()\n",
    "\n",
    "# get max flights\n",
    "max_aerolinea = df_vuelos_aerolinas.select(F.max(\"count\")).first()[0]\n",
    "\n",
    "#get airline with max flights\n",
    "df_max_aerolinea = df_vuelos_aerolinas.filter(F.col(\"count\") == max_aerolinea)\n",
    "aerolinea = df_max_aerolinea.collect()[0][0]\n",
    "vuelos = df_max_aerolinea.collect()[0][1]\n",
    "\n",
    "print(f\"La aerolínea con más vuelos es: {aerolinea}, con {vuelos} viajes\")"
   ]
  },
  {
   "cell_type": "code",
   "execution_count": 15,
   "metadata": {},
   "outputs": [
    {
     "name": "stdout",
     "output_type": "stream",
     "text": [
      "El destino con más vuelos es: ATL, con 136950 viajes\n"
     ]
    }
   ],
   "source": [
    "#¿Cuál es el destino más popular?\n",
    "\n",
    "# get flights by destination\n",
    "df_vuelos_destino = df_with_hours.groupBy(\"Dest\").count()\n",
    "\n",
    "# get max flights\n",
    "max_destino = df_vuelos_destino.select(F.max(\"count\")).first()[0]\n",
    "\n",
    "# get destination with max flights\n",
    "df_max_destino = df_vuelos_destino.filter(F.col(\"count\") == max_destino)\n",
    "\n",
    "destino = df_max_destino.collect()[0][0]\n",
    "vuelos = df_max_destino.collect()[0][1]\n",
    "\n",
    "print(f\"El destino con más vuelos es: {destino}, con {vuelos} viajes\")"
   ]
  },
  {
   "cell_type": "code",
   "execution_count": 16,
   "metadata": {},
   "outputs": [
    {
     "name": "stdout",
     "output_type": "stream",
     "text": [
      "El día con más vuelos es: Miércoles, con 365560 viajes\n"
     ]
    }
   ],
   "source": [
    "#¿Qué día de la semana tiene más vuelos?\n",
    "\n",
    "# get flights by day of week\n",
    "df_vuelos_dia = df_with_hours.groupBy(\"DayOfWeek\").count()\n",
    "\n",
    "# get max flights\n",
    "max_dia = df_vuelos_dia.select(F.max(\"count\")).first()[0]\n",
    "\n",
    "# get day with max flights\n",
    "df_max_dia = df_vuelos_dia.filter(F.col(\"count\") == max_dia)\n",
    "\n",
    "# change day number to day name\n",
    "df_max_dia = df_max_dia.withColumn(\"DayOfWeek\", F.when(F.col(\"DayOfWeek\") == 1, \"Lunes\")\\\n",
    "    .when(F.col(\"DayOfWeek\") == 2, \"Martes\")\\\n",
    "    .when(F.col(\"DayOfWeek\") == 3, \"Miércoles\")\\\n",
    "    .when(F.col(\"DayOfWeek\") == 4, \"Jueves\")\\\n",
    "    .when(F.col(\"DayOfWeek\") == 5, \"Viernes\")\\\n",
    "    .when(F.col(\"DayOfWeek\") == 6, \"Sábado\")\\\n",
    "    .when(F.col(\"DayOfWeek\") == 7, \"Domingo\"))\n",
    "\n",
    "\n",
    "\n",
    "\n",
    "# get day with max flights\n",
    "dia = df_max_dia.collect()[0][0]\n",
    "vuelos = df_max_dia.collect()[0][1]\n",
    "\n",
    "print(f\"El día con más vuelos es: {dia}, con {vuelos} viajes\")\n"
   ]
  },
  {
   "cell_type": "code",
   "execution_count": 17,
   "metadata": {},
   "outputs": [],
   "source": [
    "# close spark session\n",
    "sc.stop()"
   ]
  }
 ],
 "metadata": {
  "kernelspec": {
   "display_name": "Python 3",
   "language": "python",
   "name": "python3"
  },
  "language_info": {
   "codemirror_mode": {
    "name": "ipython",
    "version": 3
   },
   "file_extension": ".py",
   "mimetype": "text/x-python",
   "name": "python",
   "nbconvert_exporter": "python",
   "pygments_lexer": "ipython3",
   "version": "3.10.11"
  },
  "orig_nbformat": 4
 },
 "nbformat": 4,
 "nbformat_minor": 2
}
