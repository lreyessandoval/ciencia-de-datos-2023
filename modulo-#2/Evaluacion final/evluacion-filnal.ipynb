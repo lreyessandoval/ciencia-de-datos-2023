{
 "cells": [
  {
   "cell_type": "code",
   "execution_count": 9,
   "metadata": {},
   "outputs": [
    {
     "name": "stdout",
     "output_type": "stream",
     "text": [
      "            state abbreviation\n",
      "46       Virginia           VA\n",
      "47     Washington           WA\n",
      "48  West Virginia           WV\n",
      "49      Wisconsin           WI\n",
      "50        Wyoming           WY\n",
      "        state  area (sq. mi)\n",
      "0     Alabama          52423\n",
      "1      Alaska         656425\n",
      "2     Arizona         114006\n",
      "3    Arkansas          53182\n",
      "4  California         163707\n",
      "  state/region     ages  year  population\n",
      "0           AL  under18  2012   1117489.0\n",
      "1           AL    total  2012   4817528.0\n",
      "2           AL  under18  2010   1130966.0\n",
      "3           AL    total  2010   4785570.0\n",
      "4           AL  under18  2011   1125763.0\n"
     ]
    }
   ],
   "source": [
    "#2. Revise los datos cargados y realice las modificaciones necesarias para empezar a trabajar\n",
    "\n",
    "print(df1.head())\n",
    "print(df2.head())\n",
    "print(df3.head())\n",
    "\n"
   ]
  },
  {
   "cell_type": "code",
   "execution_count": null,
   "metadata": {},
   "outputs": [],
   "source": [
    "#3. Elimine las columnas que no aportan información\n",
    "\n",
    "#???"
   ]
  },
  {
   "cell_type": "code",
   "execution_count": 14,
   "metadata": {},
   "outputs": [
    {
     "name": "stdout",
     "output_type": "stream",
     "text": [
      "                              mean        min        max  count\n",
      "state/region ages                                              \n",
      "AK           total    6.462048e+05   553290.0   735132.0     24\n",
      "             under18  1.866730e+05   177502.0   192636.0     24\n",
      "AL           total    4.484528e+06  4050055.0  4833722.0     24\n",
      "             under18  1.111197e+06  1050041.0  1134927.0     24\n",
      "AR           total    2.693178e+06  2356586.0  2959373.0     24\n",
      "...                            ...        ...        ...    ...\n",
      "WI           under18  1.344394e+06  1302869.0  1370440.0     24\n",
      "WV           total    1.823426e+06  1792548.0  1856680.0     24\n",
      "             under18  4.049168e+05   381678.0   436797.0     24\n",
      "WY           total    5.103280e+05   453690.0   582658.0     24\n",
      "             under18  1.322450e+05   123974.0   137733.0     24\n",
      "\n",
      "[106 rows x 4 columns]\n"
     ]
    }
   ],
   "source": [
    "#4. Agrupe por state/region y ages, para luego agregar usando promedio, mínimo, máximo y contar\n",
    "\n",
    "print(df3.groupby(['state/region','ages'])['population'].agg(['mean','min','max','count']))\n",
    "\n",
    "\n"
   ]
  },
  {
   "cell_type": "code",
   "execution_count": 35,
   "metadata": {},
   "outputs": [
    {
     "name": "stdout",
     "output_type": "stream",
     "text": [
      "   state/region   pop / area\n",
      "0            AK     0.984431\n",
      "1            AL    85.545045\n",
      "2            AR    50.640774\n",
      "3            AZ    46.441414\n",
      "4            CA   209.729195\n",
      "5            CO    41.876976\n",
      "6            CT   620.653454\n",
      "7            DC  8633.371936\n",
      "8            DE   410.937777\n",
      "9            FL   250.867464\n",
      "10           GA   140.920964\n",
      "11           HI   114.886930\n",
      "12           IA    52.205844\n",
      "13           ID    15.995962\n",
      "14           IL   213.591570\n",
      "15           IN   168.100295\n",
      "16           KS    32.837619\n",
      "17           KY   100.871657\n",
      "18           LA    85.661046\n",
      "19           MA   600.473899\n",
      "20           MD   434.173551\n",
      "21           ME    36.366939\n",
      "22           MI   101.504344\n",
      "23           MN    56.966751\n",
      "24           MO    80.900599\n",
      "25           MS    58.425931\n",
      "26           MT     6.229075\n",
      "27           NC   153.856481\n",
      "28           ND     9.249240\n",
      "29           NE    22.322478\n",
      "30           NH   132.460971\n",
      "31           NJ   965.454149\n",
      "32           NM    15.205630\n",
      "33           NV    18.964557\n",
      "34           NY   347.421846\n",
      "35           OH   253.019954\n",
      "36           OK    49.924540\n",
      "37           OR    35.189296\n",
      "38           PA   268.565664\n",
      "39           RI   674.655852\n",
      "40           SC   128.769307\n",
      "41           SD     9.925185\n",
      "42           TN   136.682968\n",
      "43           TX    80.439992\n",
      "44           UT    27.337324\n",
      "45           VA   169.475551\n",
      "46           VT    63.048596\n",
      "47           WA    84.184271\n",
      "48           WI    82.409353\n",
      "49           WV    75.251790\n",
      "50           WY     5.217118\n"
     ]
    },
    {
     "name": "stderr",
     "output_type": "stream",
     "text": [
      "C:\\Users\\Luis Reyes\\AppData\\Local\\Temp\\ipykernel_19280\\846786070.py:8: SettingWithCopyWarning: \n",
      "A value is trying to be set on a copy of a slice from a DataFrame.\n",
      "Try using .loc[row_indexer,col_indexer] = value instead\n",
      "\n",
      "See the caveats in the documentation: https://pandas.pydata.org/pandas-docs/stable/user_guide/indexing.html#returning-a-view-versus-a-copy\n",
      "  df_totales['pop / area'] = df_totales['population']/df_totales['area (sq. mi)']\n"
     ]
    }
   ],
   "source": [
    "# 6. Calcule la población por área para cada estado. Para esto agrupe por state/region y \n",
    "# calcule el promedio de la población. Guarde dicha información en un data frame con las columnas 'state' y 'pop / area'\n",
    "# (hint: puede extraer los valores de un objeto groupby, finalizando su sentencia con .values, o extraer sus etiquetas con .index)\n",
    "\n",
    "# filtrar ages = 'total'\n",
    "df_totales = df[df['ages']=='total']\n",
    "\n",
    "df_totales['pop / area'] = df_totales['population']/df_totales['area (sq. mi)']\n",
    "\n",
    "\n",
    "# agrupar por state/region\n",
    "df_agrupado_state_region = df_totales.groupby('state/region')['pop / area'].mean()\n",
    "\n",
    "# crear dataframe\n",
    "df_resultados = pd.DataFrame({'state/region':df_agrupado_state_region.index, 'pop / area':df_agrupado_state_region.values})\n",
    "\n",
    "print(df_resultados)\n",
    "\n",
    "\n"
   ]
  },
  {
   "cell_type": "code",
   "execution_count": 37,
   "metadata": {},
   "outputs": [
    {
     "name": "stdout",
     "output_type": "stream",
     "text": [
      "                state  area (sq. mi) state/region     ages  year  population\n",
      "abbreviation                                                                \n",
      "AL            Alabama          52423           AL  under18  2012   1117489.0\n",
      "AL            Alabama          52423           AL    total  2012   4817528.0\n",
      "AL            Alabama          52423           AL  under18  2010   1130966.0\n",
      "AL            Alabama          52423           AL    total  2010   4785570.0\n",
      "AL            Alabama          52423           AL  under18  2011   1125763.0\n"
     ]
    }
   ],
   "source": [
    "#7. Finalmente, cree un dataframe que posea: El estado, el área, la\n",
    "# población, la población por área y como índice la abreviación del\n",
    "# nombre del estado.\n",
    "\n",
    "df_final = df.set_index('abbreviation')\n",
    "\n",
    "print(df_final.head())\n",
    "\n",
    "      \n",
    "\n",
    "\n"
   ]
  }
 ],
 "metadata": {
  "kernelspec": {
   "display_name": "Python 3",
   "language": "python",
   "name": "python3"
  },
  "language_info": {
   "codemirror_mode": {
    "name": "ipython",
    "version": 3
   },
   "file_extension": ".py",
   "mimetype": "text/x-python",
   "name": "python",
   "nbconvert_exporter": "python",
   "pygments_lexer": "ipython3",
   "version": "3.10.11"
  },
  "orig_nbformat": 4
 },
 "nbformat": 4,
 "nbformat_minor": 2
}
