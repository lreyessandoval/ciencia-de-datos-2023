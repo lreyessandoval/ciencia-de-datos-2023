{
 "cells": [
  {
   "cell_type": "code",
   "execution_count": null,
   "metadata": {},
   "outputs": [],
   "source": [
    "# ¿Qué es Git?\n",
    "\n",
    "# R: Es un sistema de control de versiones que permite el trabajo colaborativo en proyectos de software.\n",
    "\n",
    "# ¿Para qué se puede usar?\n",
    "\n",
    "# R: Para el trabajo colaborativo en proyectos de software manteniendo un historial de cambios y permitiendo la recuperación de versiones anteriores.\n",
    "\n",
    "\n",
    "# ¿Qué se hace con los entornos en este espacio?\n",
    "\n",
    "# R: Se protegen los archivos de los cambios que se realicen en el repositorio.\n",
    " \n"
   ]
  }
 ],
 "metadata": {
  "language_info": {
   "name": "python"
  },
  "orig_nbformat": 4
 },
 "nbformat": 4,
 "nbformat_minor": 2
}
