{
 "cells": [
  {
   "cell_type": "code",
   "execution_count": 1,
   "metadata": {},
   "outputs": [
    {
     "name": "stdout",
     "output_type": "stream",
     "text": [
      "La probabilidad de que durante el año la cantidad total de pasajeros sea de al menos de 699500 es de: 94.79%\n"
     ]
    }
   ],
   "source": [
    "# CONTEXTO\n",
    "# 1.- Cierta compañía aérea ha requerido de sus servicios profesionales para llevar a\n",
    "# cabo un estudio relacionado con la cantidad de pasajeros que llegan al país en\n",
    "# vuelos internacionales, dicho estudio tiene relación con la enfermedad de COVID-\n",
    "# 19. De acuerdo a la información que maneja la compañía, la cantidad de pasajeros\n",
    "# que llegan en vuelos internacionales se comporta aproximadamente normal con\n",
    "# una media de 120 pasajeros y una varianza de 25.\n",
    "\n",
    "#a. Asumiendo que cada día llegan a Santiago 16 vuelos internacionales,\n",
    "# determine la probabilidad de que durante el año (52 semanas) la cantidad\n",
    "# total de pasajeros sea de al menos de 699500.\n",
    "\n",
    "import numpy as np\n",
    "import matplotlib.pyplot as plt\n",
    "import scipy.stats as st\n",
    "import pandas as pd\n",
    "import seaborn as sns\n",
    "import math\n",
    "\n",
    "\n",
    "# Datos\n",
    "n = 16\n",
    "media = 120\n",
    "varianza = 25\n",
    "desviacion = math.sqrt(varianza)\n",
    "semanas = 52\n",
    "total_pasajeros = 699500\n",
    "\n",
    "media_anual = (((media*n)*7)*semanas)\n",
    "\n",
    "\n",
    "# Calculo de la probabilidad\n",
    "probabilidad = st.norm.cdf(total_pasajeros, media_anual, desviacion*math.sqrt(n*7*semanas))\n",
    "print(f'La probabilidad de que durante el año la cantidad total de pasajeros sea de al menos de {total_pasajeros} es de: {probabilidad*100:.2f}%')\n",
    "\n",
    "\n"
   ]
  },
  {
   "cell_type": "code",
   "execution_count": 2,
   "metadata": {},
   "outputs": [
    {
     "name": "stdout",
     "output_type": "stream",
     "text": [
      "La probabilidad que menos de un 5% sean niños es de: 6.57%\n"
     ]
    }
   ],
   "source": [
    "#b. De acuerdo con registros históricos se sabe que aproximadamente un 7%\n",
    "# de los pasajeros son niños. Considerando un potencial de 400 pasajeros que\n",
    "# llegarían en los próximos días, determine la probabilidad que menos de un\n",
    "# 5% sean niños.\n",
    "\n",
    "\n",
    "# Datos\n",
    "porcentaje_ninos = 0.07\n",
    "total_pasajeros = 400\n",
    "porcentaje_ninos_5 = 0.05\n",
    "\n",
    "# Calculo de la probabilidad\n",
    "probabilidad = st.binom.cdf(porcentaje_ninos_5*total_pasajeros, total_pasajeros, porcentaje_ninos)\n",
    "print(f\"La probabilidad que menos de un 5% sean niños es de: {probabilidad*100:.2f}%\")\n"
   ]
  },
  {
   "cell_type": "code",
   "execution_count": 3,
   "metadata": {},
   "outputs": [
    {
     "name": "stdout",
     "output_type": "stream",
     "text": [
      "El valor p es de: 0.0028\n",
      "Con un nivel de significancia de 0.05 se rechaza la hipotesis nula\n"
     ]
    }
   ],
   "source": [
    "# 2.- Una empresa que se dedica a hacer en cuestas se queja de que un agente\n",
    "# realiza en promedio 53 encuestas por semana. Se ha introducido una forma más\n",
    "# moderna de realizar las encuestas y la empresa quiere evaluar su efectividad. Los\n",
    "# números de encuestas realizadas en una semana por una muestra aleatoria de\n",
    "# agentes son:\n",
    "\n",
    "# 53 57 50 55 58 54 60 52 59 62 60 60 51 59\n",
    "\n",
    "# En el nivel de significancia 0,05, puede concluirse que la cantidad media de entrevistas realizadas por los agentes es superior a 53 por semana? Evalúe el valor p.\n",
    "\n",
    "\n",
    "# Datos\n",
    "encuestas = np.array([53, 57, 50, 55, 58, 54, 60, 52, 59, 62, 60, 60, 51, 59])\n",
    "media = 53\n",
    "alpha = 0.05\n",
    "\n",
    "# Calculo de la probabilidad\n",
    "_, p_value = st.ttest_1samp(encuestas, media, alternative='greater')\n",
    "\n",
    "print(f'El valor p es de: {p_value:.4f}')\n",
    "if p_value < alpha:\n",
    "    print(f'Con un nivel de significancia de {alpha} se rechaza la hipotesis nula')\n",
    "else:\n",
    "    print(f'Con un nivel de significancia de {alpha} no se rechaza la hipotesis nula')\n",
    "\n"
   ]
  },
  {
   "cell_type": "code",
   "execution_count": null,
   "metadata": {},
   "outputs": [],
   "source": [
    "# Inferencia estadística\n",
    "# Es el proceso de deducir propiedades de una población a partir de una muestra.\n",
    "\n",
    "\n",
    "# Test de Hipótesis\n",
    "# Es una regla de decisión para aceptar o rechazar una hipótesis estadística en función de la información contenida en una muestra.\n",
    "\n",
    "\n",
    "# El valor P\n",
    "# Corresponde a la probabilidad de obtener un valor de la estadística de prueba."
   ]
  }
 ],
 "metadata": {
  "kernelspec": {
   "display_name": "Python 3",
   "language": "python",
   "name": "python3"
  },
  "language_info": {
   "codemirror_mode": {
    "name": "ipython",
    "version": 3
   },
   "file_extension": ".py",
   "mimetype": "text/x-python",
   "name": "python",
   "nbconvert_exporter": "python",
   "pygments_lexer": "ipython3",
   "version": "3.10.11"
  },
  "orig_nbformat": 4
 },
 "nbformat": 4,
 "nbformat_minor": 2
}
