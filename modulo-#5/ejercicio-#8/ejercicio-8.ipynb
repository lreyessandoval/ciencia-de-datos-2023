{
 "cells": [
  {
   "cell_type": "code",
   "execution_count": null,
   "metadata": {},
   "outputs": [],
   "source": [
    "# Elaborar un modelo predictivo aplicando el algoritmo clasificador\n",
    "# SVM para resolver un problema de clasificación utilizando\n",
    "# lenguaje Python.\n",
    "\n",
    "# Obtenga la base IRIS del paquete datasets de la librería sklearn, para\n",
    "# realizar un análisis de SVM.\n",
    "\n",
    "# 1. Obtenga un resumen estadístico de los datos, además de sus distribuciones gráficas.\n",
    "\n",
    "\n",
    "import pandas as pd\n",
    "import numpy as np\n",
    "import matplotlib.pyplot as plt\n",
    "import seaborn as sns\n",
    "from sklearn import datasets\n",
    "from sklearn import svm\n",
    "from sklearn.model_selection import train_test_split\n",
    "from sklearn.metrics import confusion_matrix\n",
    "from sklearn.metrics import classification_report\n",
    "from sklearn.metrics import accuracy_score\n",
    "\n",
    "# Cargamos la base de datos\n",
    "iris = datasets.load_iris()\n",
    "\n",
    "# Convertimos la base de datos en un dataframe\n",
    "df = pd.DataFrame(iris.data, columns=iris.feature_names)\n",
    "\n",
    "# Agregamos la columna de la especie\n",
    "df['Especie'] = pd.Categorical.from_codes(iris.target, iris.target_names)\n",
    "\n",
    "# Mostramos los primeros 5 registros\n",
    "print(df.head())\n",
    "\n",
    "# Mostramos un resumen estadístico de los datos\n",
    "print(df.describe())\n",
    "\n",
    "# Mostramos las distribuciones gráficas\n",
    "sns.pairplot(df, hue='Especie')\n",
    "plt.show()\n",
    "\n",
    "\n"
   ]
  },
  {
   "cell_type": "code",
   "execution_count": null,
   "metadata": {},
   "outputs": [],
   "source": [
    "# 2. Separe la base de train/test en 90/10\n"
   ]
  },
  {
   "cell_type": "code",
   "execution_count": null,
   "metadata": {},
   "outputs": [],
   "source": [
    "# 3. Ajuste un SVM con los siguientes kernel:\n",
    "# a. \"linear\"\n",
    "# b. \"rbf\"\n",
    "# c. \"poly\"\n",
    "\n"
   ]
  },
  {
   "cell_type": "code",
   "execution_count": null,
   "metadata": {},
   "outputs": [],
   "source": [
    "# 4. Entregue el gráfico de cada uno de los modelos para los diferentes kernel."
   ]
  }
 ],
 "metadata": {
  "language_info": {
   "name": "python"
  },
  "orig_nbformat": 4
 },
 "nbformat": 4,
 "nbformat_minor": 2
}
