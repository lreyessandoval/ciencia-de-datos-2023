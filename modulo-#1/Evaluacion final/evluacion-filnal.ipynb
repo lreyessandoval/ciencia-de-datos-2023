{
 "cells": [
  {
   "cell_type": "code",
   "execution_count": 31,
   "metadata": {},
   "outputs": [
    {
     "name": "stdout",
     "output_type": "stream",
     "text": [
      "Las notas de la canción son:  C D E F#\n",
      "Sus notas musicales numéricas son:  1 3 5 7\n"
     ]
    }
   ],
   "source": [
    "#-------------------------------------------------------\n",
    "# Name: Luis Reyes Sandoval\n",
    "# Date: 21/04/2023\n",
    "# Description: Evaluación final Modulo #1\n",
    "# Version: 1.0\n",
    "#-------------------------------------------------------\n",
    "\n",
    "\n",
    "#función para convertir una canción en notas musicales...\n",
    "def teclanum(cancion):\n",
    "    # parametros\n",
    "    notas = ['C', 'D', 'E', 'F', 'G', 'A', 'B']  # notas\n",
    "    valores = [1, 3, 5, 6, 8, 10, 12]  # valores\n",
    "    valores_sostenidos = [2, 4, 7, 9, 11]  # valores validos de notas sostenidas #\n",
    "\n",
    "    notas_musicales = []\n",
    "    letras=[]\n",
    "    for letra in cancion:\n",
    "        if letra in notas:\n",
    "            # recupera el index de la letra\n",
    "            i = notas.index(letra)\n",
    "            notas_musicales.append(int(valores[i]))\n",
    "            letras.append(letra)\n",
    "        else:\n",
    "            if letra == '#':\n",
    "                if ((notas_musicales[-1]+1) in valores_sostenidos):\n",
    "                    notas_musicales[-1] += 1\n",
    "                else:\n",
    "                    raise Exception(f'Nota sostenida invalida {letras[-1]}#...')\n",
    "            else:\n",
    "                raise Exception(f'Nota invalida {letra}...')\n",
    "            \n",
    "    #convertir notas musicales a cadena de caracteres\n",
    "    notas_musicales = ' '.join(str(nota) for nota in notas_musicales)\n",
    "    return notas_musicales\n",
    "\n",
    "\n",
    "# programa principal\n",
    "try:\n",
    "    # ingresar una cancion\n",
    "    cancion = input('Ingrese una canción: ').upper().replace(' ', '')\n",
    "\n",
    "    # convertir la canción en una matriz\n",
    "    notas_musicales = teclanum(cancion)\n",
    "\n",
    "    # imprimir cancion como cadena de caracteres\n",
    "    if(len(cancion.replace('#','')) == 1):\n",
    "        print('La nota de la canción es: ', cancion)\n",
    "        print('La nota musical numérica es: ', notas_musicales)\n",
    "    if(len(cancion.replace('#','')) > 1):\n",
    "        print('Las notas de la canción son: ', ' '.join(str(nota) for nota in list(cancion)).replace(' #','#'))\n",
    "        print('Sus notas musicales numéricas son: ', notas_musicales)  \n",
    "\n",
    "except Exception as e:\n",
    "    print(e)\n",
    "\n"
   ]
  }
 ],
 "metadata": {
  "kernelspec": {
   "display_name": "Python 3",
   "language": "python",
   "name": "python3"
  },
  "language_info": {
   "codemirror_mode": {
    "name": "ipython",
    "version": 3
   },
   "file_extension": ".py",
   "mimetype": "text/x-python",
   "name": "python",
   "nbconvert_exporter": "python",
   "pygments_lexer": "ipython3",
   "version": "3.10.11"
  },
  "orig_nbformat": 4
 },
 "nbformat": 4,
 "nbformat_minor": 2
}
