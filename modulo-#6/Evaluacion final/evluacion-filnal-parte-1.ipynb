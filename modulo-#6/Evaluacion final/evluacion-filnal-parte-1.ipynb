{
 "cells": [
  {
   "attachments": {},
   "cell_type": "markdown",
   "metadata": {},
   "source": [
    "PARTE 1"
   ]
  },
  {
   "cell_type": "code",
   "execution_count": 1,
   "metadata": {},
   "outputs": [],
   "source": [
    "# Parte 1\n",
    "\n",
    "# 1. La principal diferencia entre los métodos supervisados (I) y no supervisados (II) es que:\n",
    "\n",
    "#R:  c) (I) usan la variable respuesta para entrenar el modelo.\n",
    "\n",
    "# 2. Considere las siguientes afirmaciones:\n",
    "# (i) PCA es un método no supervisado.\n",
    "# (ii) Todos los componentes principales de un PCA son ortogonales entre si.\n",
    "# (iii) PCA busca las direcciones en las que los datos tienen la mayor varianza.\n",
    "# (iv) El número máximo de componentes principales es menor o igual al número de variables.\n",
    "\n",
    "# Elija la opción con el mayor número de ítems correctos:\n",
    "# R: a) (i) e (iii).\n",
    "\n",
    "# 3. Como parte de un análisis de datos se analizaron 11 indicadores económicos y sociales de 96\n",
    "# países. \n",
    "\n",
    "# R: d) No es posible interpretar los resultados anteriores debido a que es un error haber utilizado\n",
    "# la matriz de correlación y en su lugar se debería haber utilizado la matriz de covarianzas.\n"
   ]
  },
  {
   "cell_type": "code",
   "execution_count": 2,
   "metadata": {},
   "outputs": [],
   "source": [
    "# 4. Considere las siguientes observaciones:\n",
    "\n",
    "# i 1 2 3 4 5 6 7 8\n",
    "# Xi 10 8 34 9 46 68 80 50\n",
    "# Yi 4 99 44 50 77 30 25 35\n",
    "# Zi 50 31 86 57 75 14 40 60\n",
    "\n",
    "# Sin escalar las variables, describa tres iteraciones del algoritmo K-means para k = 2. Use los\n",
    "# centroides C1 = (47.5, 37.5, 21.8) y C2 = (53.2, 22.4, 75.3).\n",
    "\n",
    "# Observación: El objetivo del ejercicio es saber si comprenden cómo funcionan internamente el\n",
    "# algoritmo, así que no basta con sólo la respuesta en Python u otro lenguaje. Aunque sí se\n",
    "# pueden apoyar en algún software para los cálculos de cada paso.\n",
    "\n",
    "# 5. Enuncie al menos tres diferencias entre el análisis factorial y el método de componentes\n",
    "# principales.\n",
    "\n"
   ]
  },
  {
   "cell_type": "code",
   "execution_count": 3,
   "metadata": {},
   "outputs": [],
   "source": [
    "import numpy as np\n",
    "\n",
    "#Set Data\n",
    "x = [10,8,34,9,46,68,80,50]\n",
    "y = [4,99,44,50,77,30,25,35]\n",
    "z = [50,31,86,57,75,14,40,60]\n",
    "\n",
    "data = np.array(list(zip(x, y, z)))\n",
    "\n",
    "c1 = np.array([47.5,37.5,21.8])\n",
    "c2 = np.array([53.2,22.4,75.3])\n",
    "\n",
    "centroides = np.array([c1,c2])"
   ]
  },
  {
   "cell_type": "code",
   "execution_count": 4,
   "metadata": {},
   "outputs": [
    {
     "name": "stdout",
     "output_type": "stream",
     "text": [
      "Centroide 1: [array([ 8, 99, 31]), array([ 9, 50, 57]), array([68, 30, 14]), array([80, 25, 40])]\n",
      "Centroide 2: [array([10,  4, 50]), array([34, 44, 86]), array([46, 77, 75]), array([50, 35, 60])]\n",
      "Nuevo centroide 1: [41.25 51.   35.5 ]\n",
      "Nuevo centroide 2: [35.   40.   67.75]\n"
     ]
    }
   ],
   "source": [
    "# IT:1\n",
    "#Cálculo distancia euclidiana\n",
    "\n",
    "def euclidean_distance(punto, centroide):\n",
    "    return np.sqrt(np.sum((punto - centroide)**2))\n",
    "\n",
    "distancias = []\n",
    "puntos = []\n",
    "for punto in data:\n",
    "    distance = [euclidean_distance(punto, centroide) for centroide in centroides]\n",
    "    punto = punto\n",
    "    distancias.append(distance)\n",
    "    puntos.append(punto)\n",
    "\n",
    "# Asignar centroide\n",
    "\n",
    "clusters = [[] for _ in range(len(centroides))]\n",
    "\n",
    "for i in range(len(puntos)):\n",
    "    distancia = distancias[i]\n",
    "    punto = puntos[i]\n",
    "    centroide_asignado = np.argmin(distancia)\n",
    "    clusters[centroide_asignado].append(punto)\n",
    "\n",
    "for i, cluster in enumerate(clusters):\n",
    "    print(f\"Centroide {i+1}: {cluster}\")\n",
    "\n",
    "#Cálculo de nuevos centroides\n",
    "new_centroids = []\n",
    "\n",
    "for cluster in clusters:\n",
    "    new_centroid = np.mean(cluster, axis=0)\n",
    "    new_centroids.append(new_centroid)\n",
    "        \n",
    "# Imprimir nuevos centroides\n",
    "for i, centroid in enumerate(new_centroids):\n",
    "    print(f\"Nuevo centroide {i+1}: {centroid}\")\n"
   ]
  },
  {
   "cell_type": "code",
   "execution_count": 5,
   "metadata": {},
   "outputs": [
    {
     "name": "stdout",
     "output_type": "stream",
     "text": [
      "Centroide 1: [array([ 8, 99, 31]), array([68, 30, 14]), array([80, 25, 40])]\n",
      "Centroide 2: [array([10,  4, 50]), array([34, 44, 86]), array([ 9, 50, 57]), array([46, 77, 75]), array([50, 35, 60])]\n",
      "Nuevo centroide 1: [52.         51.33333333 28.33333333]\n",
      "Nuevo centroide 2: [29.8 42.  65.6]\n"
     ]
    }
   ],
   "source": [
    "#IT#2\n",
    "#Cálculo distancia euclidiana\n",
    "\n",
    "distancias = []\n",
    "puntos = []\n",
    "for punto in data:\n",
    "    distance = [euclidean_distance(punto, centroide) for centroide in new_centroids]\n",
    "    punto = punto\n",
    "    distancias.append(distance)\n",
    "    puntos.append(punto)\n",
    "\n",
    "# Asignar centroide\n",
    "\n",
    "clusters_2 = [[] for _ in range(len(new_centroids))]\n",
    "\n",
    "for i in range(len(puntos)):\n",
    "    distancia = distancias[i]\n",
    "    punto = puntos[i]\n",
    "    centroide_asignado = np.argmin(distancia)\n",
    "    clusters_2[centroide_asignado].append(punto)\n",
    "\n",
    "for i, cluster in enumerate(clusters_2):\n",
    "    print(f\"Centroide {i+1}: {cluster}\")\n",
    "\n",
    "#Cálculo de nuevos centroides\n",
    "new_centroids2 = []\n",
    "\n",
    "for cluster in clusters_2:\n",
    "    new_centroid2 = np.mean(cluster, axis=0)\n",
    "    new_centroids2.append(new_centroid2)\n",
    "        \n",
    "# Imprimir nuevos centroides\n",
    "for i, centroid in enumerate(new_centroids2):\n",
    "    print(f\"Nuevo centroide {i+1}: {centroid}\")\n"
   ]
  },
  {
   "cell_type": "code",
   "execution_count": 6,
   "metadata": {},
   "outputs": [
    {
     "name": "stdout",
     "output_type": "stream",
     "text": [
      "Centroide 1: [array([ 8, 99, 31]), array([68, 30, 14]), array([80, 25, 40])]\n",
      "Centroide 2: [array([10,  4, 50]), array([34, 44, 86]), array([ 9, 50, 57]), array([46, 77, 75]), array([50, 35, 60])]\n",
      "Nuevo centroide 1: [52.         51.33333333 28.33333333]\n",
      "Nuevo centroide 2: [29.8 42.  65.6]\n",
      "Puntos asignados a cada centroide:\n",
      "Cluster 1:\n",
      "[ 8 99 31]\n",
      "[68 30 14]\n",
      "[80 25 40]\n",
      "Cluster 2:\n",
      "[10  4 50]\n",
      "[34 44 86]\n",
      "[ 9 50 57]\n",
      "[46 77 75]\n",
      "[50 35 60]\n"
     ]
    }
   ],
   "source": [
    "# IT#3\n",
    "#Iteración 3\n",
    "#Cálculo distancia euclidiana\n",
    "\n",
    "distancias = []\n",
    "puntos = []\n",
    "for punto in data:\n",
    "    distance = [euclidean_distance(punto, centroide) for centroide in new_centroids2]\n",
    "    punto = punto\n",
    "    distancias.append(distance)\n",
    "    puntos.append(punto)\n",
    "\n",
    "# Asignar cada punto a un centroide\n",
    "\n",
    "clusters_3 = [[] for _ in range(len(new_centroids2))]\n",
    "\n",
    "for i in range(len(puntos)):\n",
    "    distancia = distancias[i]\n",
    "    punto = puntos[i]\n",
    "    centroide_asignado = np.argmin(distancia)\n",
    "    clusters_3[centroide_asignado].append(punto)\n",
    "\n",
    "for i, cluster in enumerate(clusters_3):\n",
    "    print(f\"Centroide {i+1}: {cluster}\")\n",
    "\n",
    "#Cálculo de nuevos centroides\n",
    "new_centroids3 = []\n",
    "\n",
    "for cluster in clusters_3:\n",
    "    new_centroid3 = np.mean(cluster, axis=0)\n",
    "    new_centroids3.append(new_centroid3)\n",
    "        \n",
    "# Imprimir nuevos centroides\n",
    "for i, centroid in enumerate(new_centroids3):\n",
    "    print(f\"Nuevo centroide {i+1}: {centroid}\")\n",
    "\n",
    "print(\"Puntos asignados a cada centroide:\")\n",
    "for i, cluster in enumerate(clusters_3):\n",
    "    print(f\"Cluster {i+1}:\")\n",
    "    for point in cluster:\n",
    "        print(point)"
   ]
  },
  {
   "cell_type": "code",
   "execution_count": 7,
   "metadata": {},
   "outputs": [],
   "source": [
    "# 5. Enuncie al menos tres diferencias entre el análisis factorial y el método de componentes\n",
    "# principales.\n",
    "\n",
    "# 1. El análisis factorial busca identificar variables latentes y PAC busca construir nuevas variables no correlacionadas, representando los datos en un espacio de menor dimensión.\n",
    "# 2. El análisis factorial asume una relación lineal entre las variables latentes y las observadas. En el caso del PAC no asume ninguna relación.\n",
    "# 3. El análisis factorial requiere que los datos sean cuantitativos u ordinales, en el caso del PAC recibe distintos tipos de datos.\n"
   ]
  },
  {
   "cell_type": "code",
   "execution_count": 8,
   "metadata": {},
   "outputs": [],
   "source": [
    "# 6. ¿Qué significa que el método de clusterización sea jerárquico?\n",
    "\n",
    "# Significa que los clusters se van formando de manera jerárquica, es decir, se van formando clusters de clusters.\n"
   ]
  }
 ],
 "metadata": {
  "kernelspec": {
   "display_name": "Python 3",
   "language": "python",
   "name": "python3"
  },
  "language_info": {
   "codemirror_mode": {
    "name": "ipython",
    "version": 3
   },
   "file_extension": ".py",
   "mimetype": "text/x-python",
   "name": "python",
   "nbconvert_exporter": "python",
   "pygments_lexer": "ipython3",
   "version": "3.10.11"
  },
  "orig_nbformat": 4
 },
 "nbformat": 4,
 "nbformat_minor": 2
}
