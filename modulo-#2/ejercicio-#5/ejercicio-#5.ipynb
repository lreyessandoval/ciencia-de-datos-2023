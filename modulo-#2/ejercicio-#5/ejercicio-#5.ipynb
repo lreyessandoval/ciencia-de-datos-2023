{
 "cells": [
  {
   "cell_type": "code",
   "execution_count": 2,
   "metadata": {},
   "outputs": [
    {
     "name": "stdout",
     "output_type": "stream",
     "text": [
      " B  I  N  G  O\n",
      " 1 17 31 48 61\n",
      " 3 18 32 49 62\n",
      " 9 19  0 52 69\n",
      "10 24 40 54 72\n",
      "13 29 44 57 73\n"
     ]
    }
   ],
   "source": [
    "# generar una carton de bingo\n",
    "# 1. generar una matriz de 5x5 con numeros aleatorios entre 1 y 90\n",
    "# 2. reemplazar los numeros repetidos por 0\n",
    "# 3. reemplazar los numeros que no estan en el rango 1-90 por 0\n",
    "\n",
    "\n",
    "import numpy as np\n",
    "import random\n",
    "import pandas as pd\n",
    "\n",
    "\n",
    "def generar_carton():\n",
    "    B = generar_numeros(1, 15, 5)\n",
    "    I = generar_numeros(16, 30, 5)\n",
    "    N = generar_numeros(31, 45, 5)\n",
    "    G = generar_numeros(46, 60, 5)\n",
    "    O = generar_numeros(61, 75, 5)\n",
    "\n",
    "\n",
    "    carton = np.concatenate((B, I, N, G, O), axis=0)\n",
    "\n",
    "    # transponer la matriz\n",
    "    carton = carton.T\n",
    "    # convertir la matriz en un dataframe\n",
    "    df = pd.DataFrame(carton)\n",
    "\n",
    "    # agregar los nombres de las columnas\n",
    "    df.columns = ['B', 'I', 'N', 'G', 'O']\n",
    "\n",
    "    df['N'][2] = '0'\n",
    "    return df\n",
    "\n",
    "\n",
    "def generar_numeros(desde, hasta, cantidad):\n",
    "    columna = np.random.randint(desde, hasta, (1, cantidad))\n",
    "    # verificar que no haya numeros repetidos\n",
    "    while len(np.unique(columna)) != cantidad:\n",
    "        columna = np.random.randint(desde, hasta, (1, cantidad))\n",
    "\n",
    "    return np.sort(columna)\n",
    "\n",
    "\n",
    "carton = generar_carton()\n",
    "\n",
    "# imprimir df sin indices\n",
    "print(carton.to_string(index=False))\n"
   ]
  },
  {
   "cell_type": "code",
   "execution_count": null,
   "metadata": {},
   "outputs": [],
   "source": [
    "#¿Qué son los datos perdidos en Python?\n",
    "# Los datos perdidos en Python son valores que no existen en un conjunto de datos. Los datos perdidos pueden ser nada (es decir, NaN, Ninguno en Python) o valores que no se pueden medir o calcular. Los datos perdidos son un problema común en el análisis de datos y la ciencia de datos en general. Los datos perdidos pueden tener un gran impacto en los resultados de un análisis. Por lo tanto, es importante identificar y tratar los datos perdidos antes de realizar un análisis.\n",
    "\n",
    "#¿Cómo manipular datos perdidos?\n",
    "# Hay varias formas de manipular datos perdidos. La forma más común es eliminar las filas o columnas que contienen datos perdidos. Otra forma es reemplazar los datos perdidos por un valor que tenga sentido en el contexto del análisis. Por ejemplo, si los datos perdidos son valores numéricos, puede reemplazarlos por cero. Si los datos perdidos son valores categóricos, puede reemplazarlos por la categoría más común. Otra forma de manipular datos perdidos es utilizar un algoritmo de aprendizaje automático que maneje los datos perdidos de forma nativa. Por ejemplo, los árboles de decisión pueden manejar datos perdidos de forma nativa.\n"
   ]
  }
 ],
 "metadata": {
  "kernelspec": {
   "display_name": "Python 3",
   "language": "python",
   "name": "python3"
  },
  "language_info": {
   "codemirror_mode": {
    "name": "ipython",
    "version": 3
   },
   "file_extension": ".py",
   "mimetype": "text/x-python",
   "name": "python",
   "nbconvert_exporter": "python",
   "pygments_lexer": "ipython3",
   "version": "3.10.11"
  },
  "orig_nbformat": 4
 },
 "nbformat": 4,
 "nbformat_minor": 2
}
