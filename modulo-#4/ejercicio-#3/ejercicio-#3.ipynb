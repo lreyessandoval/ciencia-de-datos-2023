{
 "cells": [
  {
   "attachments": {},
   "cell_type": "markdown",
   "metadata": {},
   "source": [
    "Caso 1: Muestreo estratificado con afijación proporcional"
   ]
  },
  {
   "cell_type": "code",
   "execution_count": 38,
   "metadata": {},
   "outputs": [
    {
     "name": "stdout",
     "output_type": "stream",
     "text": [
      "  Estratos     n  muestra\n",
      "0    18-30  7500      375\n",
      "1    31-45  8400      420\n",
      "2    46-60  5700      285\n",
      "3      60+  3000      150\n",
      "El tamaño de la muestra total es:  1230\n"
     ]
    }
   ],
   "source": [
    "#Se desea tomar una muestra aleatoria estratificada de las personas mayores\n",
    "# de edad de un municipio, cuyos estratos son los siguientes intervalos de\n",
    "# edades, en años: de 18 a 30, de 31 a 45, de 46 a 60 y mayores de 60. En el\n",
    "# primer intervalo hay 7500 personas, en el segundo hay 8400, en el tercero\n",
    "# 5700 y en el cuarto 3000.\n",
    "# \n",
    "# Calcule el tamaño de la muestra total y su composición, sabiendo que el\n",
    "# muestreo se hace con afijación proporcional y se han elegido al azar 375\n",
    "# personas del primer estrato.\n",
    "\n",
    "import numpy as np\n",
    "import pandas as pd\n",
    "import matplotlib.pyplot as plt\n",
    "import seaborn as sns\n",
    "import scipy.stats as stats\n",
    "import math\n",
    "import random\n",
    "import statistics as st\n",
    "\n",
    "# Datos:\n",
    "estratos = ['18-30', '31-45', '46-60', '60+']\n",
    "n = [7500, 8400, 5700, 3000]\n",
    "\n",
    "#crear dataframe\n",
    "df = pd.DataFrame({'Estratos': estratos, 'n': n})\n",
    "df['muestra'] = [375, 0, 0, 0]\n",
    "\n",
    "# Calcule el tamaño de la muestra total y su composición, sabiendo que el\n",
    "# muestreo se hace con afijación proporcional y se han elegido al azar 375\n",
    "# personas del primer estrato. para esto utilice la libreria stats de scipy\n",
    "\n",
    "# Calculo de la muestra proporcional\n",
    "for i in range(1,len(df)):\n",
    "    df.loc[i,'muestra'] = (df.loc[i-1, 'muestra'] * df.loc[i,'n']) / df.loc[i-1,'n'] \n",
    "\n",
    "\n",
    "print(df)\n",
    "\n",
    "# Calcule el tamaño de la muestra total\n",
    "print('El tamaño de la muestra total es: ', df['muestra'].sum())\n"
   ]
  },
  {
   "cell_type": "code",
   "execution_count": 39,
   "metadata": {},
   "outputs": [
    {
     "name": "stdout",
     "output_type": "stream",
     "text": [
      "La probabilidad de que para una muestra de tamaño n=5, se obtenga medio menor que 7 es: 0.0001\n"
     ]
    }
   ],
   "source": [
    "# Si el contenido en gr. de un determinado medicamento X sigue una\n",
    "# distribución N(7.5,0.3), calcular la probabilidad de que para una muestra de\n",
    "# tamaño n=5, se obtenga medio menor que 7, Pr ( X ≤ 7).\n",
    "\n",
    "from scipy.stats import norm\n",
    "\n",
    "# Datos:\n",
    "mu = 7.5\n",
    "sigma = 0.3\n",
    "n = 5\n",
    "x = 7\n",
    "\n",
    "# Calculo de la probabilidad\n",
    "z = round(((x - mu) / (sigma / math.sqrt(n))),2)  \n",
    "\n",
    "# Pr(X ≤ 7) = Pr(Z ≤ -3.73) = Pr(Z ≥ 3.73) (por simetría)\n",
    "probabilidad = norm.cdf(z) # Calculo de la probabilidad\n",
    "\n",
    "print(f'La probabilidad de que para una muestra de tamaño n={n}, se obtenga medio menor que {x} es: {probabilidad:.4f}')\n",
    "\n"
   ]
  },
  {
   "cell_type": "code",
   "execution_count": null,
   "metadata": {},
   "outputs": [],
   "source": [
    "# Técnicas de muestreo\n",
    "# Se refiere a la selección de una muestra de una población finita o infinita.\n",
    "\n",
    "# Muestreo probabilístico\n",
    "# Se basa en la teoría de la probabilidad y se caracteriza por el hecho de que cada elemento de la población tiene una probabilidad conocida de ser seleccionado en la muestra.\n",
    "\n",
    "# Muestreo no probabilístico\n",
    "# Se basa en el juicio del investigador y no en la teoría de la probabilidad. En este tipo de muestreo no se conoce la probabilidad de que cada elemento de la población sea seleccionado en la muestra.\n"
   ]
  }
 ],
 "metadata": {
  "kernelspec": {
   "display_name": "Python 3",
   "language": "python",
   "name": "python3"
  },
  "language_info": {
   "codemirror_mode": {
    "name": "ipython",
    "version": 3
   },
   "file_extension": ".py",
   "mimetype": "text/x-python",
   "name": "python",
   "nbconvert_exporter": "python",
   "pygments_lexer": "ipython3",
   "version": "3.10.11"
  },
  "orig_nbformat": 4
 },
 "nbformat": 4,
 "nbformat_minor": 2
}
