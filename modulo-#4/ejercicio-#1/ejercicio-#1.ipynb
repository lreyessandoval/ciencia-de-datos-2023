{
 "cells": [
  {
   "attachments": {},
   "cell_type": "markdown",
   "metadata": {},
   "source": [
    "Caso 1:"
   ]
  },
  {
   "cell_type": "code",
   "execution_count": 190,
   "metadata": {},
   "outputs": [
    {
     "name": "stdout",
     "output_type": "stream",
     "text": [
      "La probabilidad de obtener el 6 en un lanzamiento es 0.2847\n"
     ]
    }
   ],
   "source": [
    "# Un dado está trucado, de forma que las probabilidades de obtener las distintas\n",
    "# caras son proporcionales a los números de estas.\n",
    "# Hallar:\n",
    "\n",
    "#La probabilidad de obtener el 6 en un lanzamiento.\n",
    "\n",
    "import random\n",
    "import pandas as pd\n",
    "\n",
    "def roll_tricky_dice(): \n",
    "    return random.choices([1, 2, 2, 3, 3, 3, 4, 4, 4, 4, 5, 5, 5, 5, 5, 6, 6, 6, 6, 6, 6])[0]\n",
    "\n",
    "\n",
    "number_to_get = 6\n",
    "num_trials = 1_000_000\n",
    "num_successes = 0\n",
    "\n",
    "for i in range(num_trials):\n",
    "    if roll_tricky_dice() == number_to_get:\n",
    "        num_successes += 1\n",
    "\n",
    "# calcular la probabilidad\n",
    "probability = num_successes / num_trials\n",
    "\n",
    "print(f'La probabilidad de obtener el {number_to_get} en un lanzamiento es {probability:.4f}')\n"
   ]
  },
  {
   "cell_type": "code",
   "execution_count": 191,
   "metadata": {},
   "outputs": [
    {
     "name": "stdout",
     "output_type": "stream",
     "text": [
      "La probabilidad de obtener un numero impar en un lanzamiento es 0.4287\n"
     ]
    }
   ],
   "source": [
    "# La probabilidad de conseguir un número impar en un lanzamiento.\n",
    "\n",
    "#identificar si un numero impar\n",
    "\n",
    "num_trials = 1_000_000\n",
    "num_successes = 0\n",
    "\n",
    "for i in range(num_trials):\n",
    "    if (roll_tricky_dice() % 2 != 0): #si el residuo de la division es diferente de 0 es impar\n",
    "        num_successes += 1\n",
    "\n",
    "# calcular la probabilidad\n",
    "probability = num_successes / num_trials\n",
    "\n",
    "print(f'La probabilidad de obtener un numero impar en un lanzamiento es {probability:.4f}')"
   ]
  },
  {
   "attachments": {},
   "cell_type": "markdown",
   "metadata": {},
   "source": [
    "Caso 2"
   ]
  },
  {
   "cell_type": "code",
   "execution_count": 192,
   "metadata": {},
   "outputs": [
    {
     "name": "stdout",
     "output_type": "stream",
     "text": [
      "La probabilidad de que salga el 7 es 0.1668\n"
     ]
    }
   ],
   "source": [
    "# Se lanzan dos dados al aire y se anota la suma de los puntos obtenidos. Se pide:\n",
    "# probabilidad de que salga el 7.\n",
    "\n",
    "def roll_dice():\n",
    "    return random.choices([1, 2, 3, 4, 5, 6])[0]\n",
    "\n",
    "num_trials = 1_000_000\n",
    "num_successes = 0\n",
    "\n",
    "for i in range(num_trials):\n",
    "    if (roll_dice() + roll_dice()) == 7:\n",
    "        num_successes += 1\n",
    "\n",
    "# calcular la probabilidad\n",
    "probability = num_successes / num_trials\n",
    "\n",
    "print(f'La probabilidad de que salga el 7 es {probability:.4f}')"
   ]
  },
  {
   "cell_type": "code",
   "execution_count": 193,
   "metadata": {},
   "outputs": [
    {
     "name": "stdout",
     "output_type": "stream",
     "text": [
      "La probabilidad de que el número obtenido sea par es 0.5002\n"
     ]
    }
   ],
   "source": [
    "# La probabilidad de que el número obtenido sea par.\n",
    "num_trials = 1_000_000\n",
    "num_successes = 0\n",
    "\n",
    "for i in range(num_trials):\n",
    "    if (roll_dice() + roll_dice()) % 2 == 0: #si el residuo de la division es 0 es par\n",
    "        num_successes += 1\n",
    "\n",
    "# calcular la probabilidad\n",
    "probability = num_successes / num_trials\n",
    "\n",
    "print(f'La probabilidad de que el número obtenido sea par es {probability:.4f}')"
   ]
  },
  {
   "cell_type": "code",
   "execution_count": 194,
   "metadata": {},
   "outputs": [
    {
     "name": "stdout",
     "output_type": "stream",
     "text": [
      "La probabilidad de que el número obtenido sea múltiplo de 3 es 0.3335\n"
     ]
    }
   ],
   "source": [
    "# La probabilidad de que el número obtenido sea múltiplo de 3\n",
    "\n",
    "num_trials = 1_000_000\n",
    "num_successes = 0\n",
    "\n",
    "for i in range(num_trials):\n",
    "    if (roll_dice() + roll_dice()) % 3 == 0: # si el residuo de la division es 0 es multiplo de 3\n",
    "        num_successes += 1\n",
    "\n",
    "# calcular la probabilidad\n",
    "probability = num_successes / num_trials\n",
    "\n",
    "print(f'La probabilidad de que el número obtenido sea múltiplo de 3 es {probability:.4f}')\n"
   ]
  },
  {
   "attachments": {},
   "cell_type": "markdown",
   "metadata": {},
   "source": [
    "Caso 3"
   ]
  },
  {
   "cell_type": "code",
   "execution_count": 196,
   "metadata": {},
   "outputs": [
    {
     "name": "stdout",
     "output_type": "stream",
     "text": [
      "La probabilidad de que salgan dos caras y una cruz es 0.3748\n"
     ]
    }
   ],
   "source": [
    "\n",
    "# Se lanzan al aire 3 monedas iguales. Calcula la probabilidad de que salgan dos\n",
    "# caras y una cruz.\n",
    "\n",
    "def flip_coin():\n",
    "    return random.choices([1, 0])[0] # donde: 1 = cara, 0 = cruz\n",
    "\n",
    "num_trials = 1_000_000\n",
    "num_successes = 0\n",
    "\n",
    "for i in range(num_trials):\n",
    "    if (flip_coin() + flip_coin() + flip_coin()) == 2:\n",
    "        num_successes += 1\n",
    "\n",
    "# calcular la probabilidad\n",
    "probability = num_successes / num_trials\n",
    "\n",
    "print(f'La probabilidad de que salgan dos caras y una cruz es {probability:.4f}')\n",
    "\n",
    "\n"
   ]
  },
  {
   "attachments": {},
   "cell_type": "markdown",
   "metadata": {},
   "source": [
    "Caso 4"
   ]
  },
  {
   "cell_type": "code",
   "execution_count": 197,
   "metadata": {},
   "outputs": [
    {
     "name": "stdout",
     "output_type": "stream",
     "text": [
      "La probabilidad de que la bola sea blanca y de la primera bolsa es 0.3001\n"
     ]
    }
   ],
   "source": [
    "#Una bolsa contiene 2 bolas negras y 3 bolas blancas. \n",
    "#Otra bolsa tiene 4 bolas negras y 2 blancas. \n",
    "#Se elige una de las bolsas al azar y se extrae una bola.\n",
    "#Calcular la probabilidad de:\n",
    "\n",
    "#a.- La bola es blanca y de la primera bolsa.\n",
    "\n",
    "def choose_bag():\n",
    "    return random.choices([1, 2])[0] # donde: 1 = bolsa 1, 2 = bolsa 2\n",
    "\n",
    "def pick_ball(bag):\n",
    "    if (bag==1):\n",
    "        return random.choices([0,0,1,1,1])[0] # donde: 1 = blanca, 0 = negra\n",
    "    if (bag==2):\n",
    "        return random.choices([0,0,0,0,1,1])[0] # donde: 1 = blanca, 0 = negra\n",
    "\n",
    "num_trials = 1_000_000\n",
    "num_successes = 0\n",
    "\n",
    "for i in range(num_trials):\n",
    "    if (choose_bag() ) == 1:\n",
    "        if (pick_ball(1) == 1):\n",
    "            num_successes += 1\n",
    "\n",
    "# calcular la probabilidad\n",
    "probability = num_successes / num_trials\n",
    "\n",
    "print(f'La probabilidad de que la bola sea blanca y de la primera bolsa es {probability:.4f}')\n"
   ]
  },
  {
   "cell_type": "code",
   "execution_count": 198,
   "metadata": {},
   "outputs": [
    {
     "name": "stdout",
     "output_type": "stream",
     "text": [
      "La probabilidad de que la bola sea blanca es 0.4670\n"
     ]
    }
   ],
   "source": [
    "#b.- La bola es blanca.\n",
    "\n",
    "num_trials = 1_000_000\n",
    "num_successes = 0\n",
    "\n",
    "for i in range(num_trials):\n",
    "    if (pick_ball(choose_bag()) == 1):\n",
    "        num_successes += 1\n",
    "\n",
    "# calcular la probabilidad\n",
    "probability = num_successes / num_trials\n",
    "\n",
    "print(f'La probabilidad de que la bola sea blanca es {probability:.4f}')\n"
   ]
  },
  {
   "cell_type": "code",
   "execution_count": 199,
   "metadata": {},
   "outputs": [
    {
     "name": "stdout",
     "output_type": "stream",
     "text": [
      "La probabilidad de que la bola sea negra y de la segunda bolsa es 0.3331\n"
     ]
    }
   ],
   "source": [
    "#c.- Si la bola es negra, ¿cuál es la probabilidad de que sea de la segunda bolsa?\n",
    "\n",
    "num_trials = 1_000_000\n",
    "num_successes = 0\n",
    "\n",
    "for i in range(num_trials):\n",
    "    if (choose_bag() ) == 2:\n",
    "        if (pick_ball(2) == 0):\n",
    "            num_successes += 1\n",
    "\n",
    "# calcular la probabilidad\n",
    "probability = num_successes / num_trials\n",
    "\n",
    "print(f'La probabilidad de que la bola sea negra y de la segunda bolsa es {probability:.4f}')\n"
   ]
  }
 ],
 "metadata": {
  "kernelspec": {
   "display_name": "Python 3",
   "language": "python",
   "name": "python3"
  },
  "language_info": {
   "codemirror_mode": {
    "name": "ipython",
    "version": 3
   },
   "file_extension": ".py",
   "mimetype": "text/x-python",
   "name": "python",
   "nbconvert_exporter": "python",
   "pygments_lexer": "ipython3",
   "version": "3.10.11"
  },
  "orig_nbformat": 4
 },
 "nbformat": 4,
 "nbformat_minor": 2
}
