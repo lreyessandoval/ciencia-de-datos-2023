{
 "cells": [
  {
   "cell_type": "code",
   "execution_count": 273,
   "id": "4612df89",
   "metadata": {},
   "outputs": [],
   "source": [
    "# Elaborar un modelo predictivo a partir de un set de\n",
    "# datos utilizando técnicas de aprendizaje de máquina\n",
    "# supervisado implementados en lenguaje Python para\n",
    "# resolver un problema.\n",
    "\n",
    "# Utilizaremos un set de datos de las policias de New York del año 2009 y\n",
    "# 2010. (2009_1perc.csv y 2010_1perc.csv) los cuales nos darán información\n",
    "# de los procedimientos policiales realizados. Además se le entregará el\n",
    "# diccionario de variables para que pueda consultar que significa cada\n",
    "# categoría dentro de las variables.\n",
    "# La variable respuesta 'arstmade' informa si los procedimientos policiales\n",
    "# han terminado en arresto o no, y el objetivo será realizar un modelo de\n",
    "# Machine Learning para predecir si un futuro procedimiento terminará en\n",
    "# arresto.\n"
   ]
  },
  {
   "cell_type": "code",
   "execution_count": 274,
   "id": "9bd483a3",
   "metadata": {},
   "outputs": [],
   "source": [
    "# 1.- Enliste todas las librerias que utilizará\n",
    "# Nota: Se recomienda ir actualizando la lista conforme las necesidades vaya\n",
    "# teniendo durante el desarrollo de la prueba\n",
    "\n",
    "#Importar librerías\n",
    "import seaborn as sns\n",
    "from sklearn.naive_bayes import GaussianNB\n",
    "from sklearn.metrics import confusion_matrix, accuracy_score\n",
    "from sklearn.preprocessing import StandardScaler\n",
    "from sklearn import preprocessing\n",
    "from sklearn.model_selection import GridSearchCV\n",
    "import matplotlib.pyplot as plt\n",
    "import pandas as pd\n",
    "from sklearn.model_selection import train_test_split\n",
    "from sklearn.linear_model import LogisticRegression"
   ]
  },
  {
   "cell_type": "code",
   "execution_count": 275,
   "id": "443eaf8c",
   "metadata": {},
   "outputs": [],
   "source": [
    "# 2.- Importación y revisión de los datos\n",
    "# Importe ambos sets. Dado que la fuente de datos proviene de la misma base,\n",
    "# tienen las mismas columnas. Consolide ambos sets y reporte una\n",
    "# exploración básica de los datos (numero de filas/columnas, tipos de datos,\n",
    "# estadísticas básicas, casos perdidos)\n",
    "\n",
    "\n",
    "df_2009 = pd.read_csv(\"2009_1perc.csv\")\n",
    "df_2010 = pd.read_csv(\"2010_1perc.csv\")"
   ]
  },
  {
   "cell_type": "code",
   "execution_count": 276,
   "id": "9361d250",
   "metadata": {},
   "outputs": [
    {
     "name": "stdout",
     "output_type": "stream",
     "text": [
      "(5812, 112)\n",
      "\n",
      "(6013, 112)\n"
     ]
    }
   ],
   "source": [
    "#Info de los data set\n",
    "print(df_2009.shape)\n",
    "print()\n",
    "print(df_2010.shape)"
   ]
  },
  {
   "cell_type": "code",
   "execution_count": 277,
   "id": "a0ef4b2e",
   "metadata": {},
   "outputs": [
    {
     "name": "stdout",
     "output_type": "stream",
     "text": [
      "<class 'pandas.core.frame.DataFrame'>\n",
      "RangeIndex: 5812 entries, 0 to 5811\n",
      "Columns: 112 entries, Unnamed: 0 to detailcm\n",
      "dtypes: float64(1), int64(19), object(92)\n",
      "memory usage: 5.0+ MB\n",
      "None\n",
      "\n",
      "<class 'pandas.core.frame.DataFrame'>\n",
      "RangeIndex: 6013 entries, 0 to 6012\n",
      "Columns: 112 entries, Unnamed: 0 to detailcm\n",
      "dtypes: int64(17), object(95)\n",
      "memory usage: 5.1+ MB\n",
      "None\n"
     ]
    }
   ],
   "source": [
    "#Info de los data set\n",
    "print(df_2009.info())\n",
    "print()\n",
    "print(df_2010.info())"
   ]
  },
  {
   "cell_type": "code",
   "execution_count": 278,
   "id": "3c94dbe0",
   "metadata": {},
   "outputs": [
    {
     "name": "stdout",
     "output_type": "stream",
     "text": [
      "          Unnamed: 0    year          pct       ser_num      datestop   \n",
      "count    5812.000000  5812.0  5812.000000   5812.000000  5.812000e+03  \\\n",
      "mean   291666.632485  2009.0    69.051617   5769.119924  6.255350e+06   \n",
      "std    167435.992474     0.0    32.846903   5524.955522  3.447243e+06   \n",
      "min        52.000000  2009.0     1.000000      1.000000  1.012009e+06   \n",
      "25%    147489.750000  2009.0    42.000000   1902.750000  3.172009e+06   \n",
      "50%    292821.500000  2009.0    73.000000   4347.000000  6.142009e+06   \n",
      "75%    436008.750000  2009.0   102.000000   7616.750000  9.192009e+06   \n",
      "max    580847.000000  2009.0   123.000000  31694.000000  1.231201e+07   \n",
      "\n",
      "          timestop       perobs      perstop  compyear  comppct       repcmd   \n",
      "count  5812.000000  5812.000000  5812.000000    5812.0   5812.0  5812.000000  \\\n",
      "mean   1426.219202     2.665893     5.501893       0.0      0.0   252.115795   \n",
      "std     736.239726     4.816704     5.922592       0.0      0.0   305.058678   \n",
      "min       0.000000     0.000000     1.000000       0.0      0.0     1.000000   \n",
      "25%    1030.000000     1.000000     3.000000       0.0      0.0    70.000000   \n",
      "50%    1605.000000     1.000000     5.000000       0.0      0.0   105.000000   \n",
      "75%    2035.000000     3.000000     5.000000       0.0      0.0   178.000000   \n",
      "max    2830.000000   200.000000   200.000000       0.0      0.0   879.000000   \n",
      "\n",
      "            revcmd           dob          age      ht_feet      ht_inch   \n",
      "count  5812.000000  5.812000e+03  5812.000000  5812.000000  5812.000000  \\\n",
      "mean    249.074845  6.941142e+06    28.874054     5.188231     6.414315   \n",
      "std     306.222306  3.552806e+06    26.067172     0.402213     3.446479   \n",
      "min       1.000000  1.011900e+06     1.000000     3.000000     0.000000   \n",
      "25%      67.000000  4.061986e+06    19.000000     5.000000     4.000000   \n",
      "50%     103.000000  7.121980e+06    25.000000     5.000000     7.000000   \n",
      "75%     178.750000  1.012198e+07    34.000000     5.000000     9.000000   \n",
      "max     879.000000  1.231199e+07   999.000000     7.000000    11.000000   \n",
      "\n",
      "            weight      addrpct  linecm     detailcm  \n",
      "count  5812.000000  5812.000000  5812.0  5812.000000  \n",
      "mean    169.942533    69.051617     1.0    37.488644  \n",
      "std      37.653637    32.846903     0.0    25.059538  \n",
      "min       1.000000     1.000000     1.0     6.000000  \n",
      "25%     150.000000    42.000000     1.0    20.000000  \n",
      "50%     170.000000    73.000000     1.0    28.000000  \n",
      "75%     180.000000   102.000000     1.0    46.000000  \n",
      "max     999.000000   123.000000     1.0   113.000000  \n",
      "\n",
      "       recstat inout trhsloc crimsusp typeofid explnstp othpers arstmade   \n",
      "count     5812  5812    5812     5812     5812     5812    5812     5812  \\\n",
      "unique       2     2       4      388        4        2       2        2   \n",
      "top          A     O       P      CPW        P        Y       N        N   \n",
      "freq      3713  4389    4147      814     3246     5810    4678     5464   \n",
      "\n",
      "       arstoffn sumissue  ... aptnum      city state   zip sector  beat  post   \n",
      "count      5812     5812  ...   5812      5812  5812  5812   5812  5812  5812  \\\n",
      "unique      164        2  ...      1         5     1     1     19    34    83   \n",
      "top                    N  ...         BROOKLYN                  A               \n",
      "freq       5464     5454  ...   5812      2061  5812  5812    578  3622  5268   \n",
      "\n",
      "       xcoord ycoord dettypcm  \n",
      "count    5812   5812     5812  \n",
      "unique   4346   4430        1  \n",
      "top                        CM  \n",
      "freq      168    168     5812  \n",
      "\n",
      "[4 rows x 92 columns]\n"
     ]
    }
   ],
   "source": [
    "#Describe df_2009\n",
    "print(df_2009.describe())\n",
    "print()\n",
    "print(df_2009.describe(include = \"object\"))"
   ]
  },
  {
   "cell_type": "code",
   "execution_count": 279,
   "id": "d9321308",
   "metadata": {},
   "outputs": [
    {
     "name": "stdout",
     "output_type": "stream",
     "text": [
      "          Unnamed: 0    year          pct       ser_num      datestop   \n",
      "count    6013.000000  6013.0  6013.000000   6013.000000  6.013000e+03  \\\n",
      "mean   300156.684184  2010.0    68.213870   5629.246300  6.469452e+06   \n",
      "std    173941.822364     0.0    33.218863   4764.331369  3.408437e+06   \n",
      "min       135.000000  2010.0     1.000000      1.000000  1.012010e+06   \n",
      "25%    147573.000000  2010.0    42.000000   2071.000000  3.302010e+06   \n",
      "50%    299643.000000  2010.0    72.000000   4393.000000  6.182010e+06   \n",
      "75%    450268.000000  2010.0   102.000000   8038.000000  9.262010e+06   \n",
      "max    601281.000000  2010.0   123.000000  28078.000000  1.231201e+07   \n",
      "\n",
      "          timestop       perobs      perstop  compyear  comppct       repcmd   \n",
      "count  6013.000000  6013.000000  6013.000000    6013.0   6013.0  6013.000000  \\\n",
      "mean   1401.649426     2.643273     5.792283       0.0      0.0   234.886912   \n",
      "std     752.702505    12.840711    12.383224       0.0      0.0   290.362984   \n",
      "min       0.000000     0.000000     1.000000       0.0      0.0     1.000000   \n",
      "25%     930.000000     1.000000     3.000000       0.0      0.0    69.000000   \n",
      "50%    1604.000000     1.000000     5.000000       0.0      0.0   106.000000   \n",
      "75%    2035.000000     2.000000     5.000000       0.0      0.0   175.000000   \n",
      "max    2359.000000   926.000000   857.000000       0.0      0.0   879.000000   \n",
      "\n",
      "            revcmd           dob          age      ht_feet      ht_inch   \n",
      "count  6013.000000  6.013000e+03  6013.000000  6013.000000  6013.000000  \\\n",
      "mean    229.235157  7.678712e+06    29.059870     5.178613     6.401962   \n",
      "std     292.338809  3.857909e+06    31.948786     0.395452     3.365698   \n",
      "min       1.000000  1.011900e+06     1.000000     3.000000     0.000000   \n",
      "25%      62.000000  4.181986e+06    19.000000     5.000000     4.000000   \n",
      "50%     102.000000  8.131990e+06    24.000000     5.000000     7.000000   \n",
      "75%     173.000000  1.205197e+07    34.000000     5.000000     9.000000   \n",
      "max     879.000000  1.231200e+07   999.000000     7.000000    11.000000   \n",
      "\n",
      "            weight  \n",
      "count  6013.000000  \n",
      "mean    170.239647  \n",
      "std      36.750557  \n",
      "min       1.000000  \n",
      "25%     150.000000  \n",
      "50%     170.000000  \n",
      "75%     180.000000  \n",
      "max     999.000000  \n",
      "\n",
      "       recstat inout trhsloc crimsusp typeofid explnstp othpers arstmade   \n",
      "count     6013  6013    6013     6013     6013     6013    6013     6013  \\\n",
      "unique       2     2       3      406        4        2       2        2   \n",
      "top          A     O       P      FEL        P        Y       N        N   \n",
      "freq      3494  4670    4722     1051     3270     6004    4741     5613   \n",
      "\n",
      "       arstoffn sumissue  ...   zip addrpct sector  beat  post xcoord ycoord   \n",
      "count      6013     6013  ...  6013    6013   6013  6013  6013   6013   6013  \\\n",
      "unique      151        2  ...     1      77     19    63   142   4553   4619   \n",
      "top                    N  ...            75      B                             \n",
      "freq       5614     5567  ...  6013     290    666  3822  5383    249    249   \n",
      "\n",
      "       dettypcm linecm detailcm  \n",
      "count      6013   6013     6013  \n",
      "unique        2      2       81  \n",
      "top          CM      1       20  \n",
      "freq       6012   6012     1376  \n",
      "\n",
      "[4 rows x 95 columns]\n"
     ]
    }
   ],
   "source": [
    "#Describe df_2010\n",
    "print(df_2010.describe())\n",
    "print()\n",
    "print(df_2010.describe(include = \"object\"))"
   ]
  },
  {
   "cell_type": "code",
   "execution_count": 280,
   "id": "62fd6000",
   "metadata": {},
   "outputs": [
    {
     "name": "stdout",
     "output_type": "stream",
     "text": [
      "Unnamed: 0    0\n",
      "year          0\n",
      "pct           0\n",
      "ser_num       0\n",
      "datestop      0\n",
      "             ..\n",
      "xcoord        0\n",
      "ycoord        0\n",
      "dettypcm      0\n",
      "linecm        0\n",
      "detailcm      0\n",
      "Length: 112, dtype: int64\n",
      "\n",
      "Unnamed: 0    0\n",
      "year          0\n",
      "pct           0\n",
      "ser_num       0\n",
      "datestop      0\n",
      "             ..\n",
      "xcoord        0\n",
      "ycoord        0\n",
      "dettypcm      0\n",
      "linecm        0\n",
      "detailcm      0\n",
      "Length: 112, dtype: int64\n"
     ]
    }
   ],
   "source": [
    "#Casos perdidos\n",
    "print(df_2009.isna().sum())\n",
    "print()\n",
    "print(df_2010.isna().sum())"
   ]
  },
  {
   "cell_type": "code",
   "execution_count": 281,
   "id": "dcb7f42a",
   "metadata": {},
   "outputs": [
    {
     "name": "stdout",
     "output_type": "stream",
     "text": [
      "Los tipos de datos son diferentes en las siguientes columnas:\n",
      "perobs\n",
      "addrpct\n",
      "linecm\n",
      "detailcm\n"
     ]
    }
   ],
   "source": [
    "#Comparar tipos de datos de df's\n",
    "# Obtener los tipos de datos de cada DataFrame\n",
    "dtypes1 = df_2009.dtypes\n",
    "dtypes2 = df_2010.dtypes\n",
    "\n",
    "# Comparar los tipos de datos columna por columna\n",
    "diferentes = []\n",
    "for columna in dtypes1.index:\n",
    "    if dtypes1[columna] != dtypes2[columna]:\n",
    "        diferentes.append(columna)\n",
    "\n",
    "# Imprimir las columnas con tipos de datos diferentes\n",
    "if len(diferentes) == 0:\n",
    "    print(\"Los tipos de datos son iguales en todas las columnas.\")\n",
    "else:\n",
    "    print(\"Los tipos de datos son diferentes en las siguientes columnas:\")\n",
    "    for columna in diferentes:\n",
    "        print(columna)"
   ]
  },
  {
   "cell_type": "code",
   "execution_count": 282,
   "id": "d0f8ee2d",
   "metadata": {},
   "outputs": [
    {
     "name": "stdout",
     "output_type": "stream",
     "text": [
      "perobs 2009: float64, perobs 2010: int64\n",
      "addrpct 2009: int64, addrpct 2010: object\n",
      "linecm 2009: int64, linecm 2010: object\n",
      "detailcm 2009: int64, detailcm 2010: object\n"
     ]
    }
   ],
   "source": [
    "#Revisar el tipo de datos de variables no coincidentes\n",
    "print(f\"perobs 2009: {df_2009['perobs'].dtype}, perobs 2010: {df_2010['perobs'].dtype}\")\n",
    "print(f\"addrpct 2009: {df_2009['addrpct'].dtype}, addrpct 2010: {df_2010['addrpct'].dtype}\")\n",
    "print(f\"linecm 2009: {df_2009['linecm'].dtype}, linecm 2010: {df_2010['linecm'].dtype}\")\n",
    "print(f\"detailcm 2009: {df_2009['detailcm'].dtype}, detailcm 2010: {df_2010['detailcm'].dtype}\")"
   ]
  },
  {
   "cell_type": "code",
   "execution_count": 283,
   "id": "c6ea0675",
   "metadata": {},
   "outputs": [],
   "source": [
    "#Transformar todas las variables no concordantes en object\n",
    "df_2009['perobs'] = df_2009['perobs'].astype(object)\n",
    "df_2010['perobs'] = df_2010['perobs'].astype(object)\n",
    "df_2009['addrpct'] = df_2009['addrpct'].astype(object)\n",
    "df_2010['addrpct'] = df_2010['addrpct'].astype(object)\n",
    "df_2009['linecm'] = df_2009['linecm'].astype(object)\n",
    "df_2010['linecm'] = df_2010['linecm'].astype(object)\n",
    "df_2009['detailcm'] = df_2009['detailcm'].astype(object)\n",
    "df_2010['detailcm'] = df_2010['detailcm'].astype(object)"
   ]
  },
  {
   "cell_type": "code",
   "execution_count": 284,
   "id": "e35da881",
   "metadata": {},
   "outputs": [
    {
     "data": {
      "text/html": [
       "<div>\n",
       "<style scoped>\n",
       "    .dataframe tbody tr th:only-of-type {\n",
       "        vertical-align: middle;\n",
       "    }\n",
       "\n",
       "    .dataframe tbody tr th {\n",
       "        vertical-align: top;\n",
       "    }\n",
       "\n",
       "    .dataframe thead th {\n",
       "        text-align: right;\n",
       "    }\n",
       "</style>\n",
       "<table border=\"1\" class=\"dataframe\">\n",
       "  <thead>\n",
       "    <tr style=\"text-align: right;\">\n",
       "      <th></th>\n",
       "      <th>Unnamed: 0</th>\n",
       "      <th>year</th>\n",
       "      <th>pct</th>\n",
       "      <th>ser_num</th>\n",
       "      <th>datestop</th>\n",
       "      <th>timestop</th>\n",
       "      <th>recstat</th>\n",
       "      <th>inout</th>\n",
       "      <th>trhsloc</th>\n",
       "      <th>perobs</th>\n",
       "      <th>...</th>\n",
       "      <th>zip</th>\n",
       "      <th>addrpct</th>\n",
       "      <th>sector</th>\n",
       "      <th>beat</th>\n",
       "      <th>post</th>\n",
       "      <th>xcoord</th>\n",
       "      <th>ycoord</th>\n",
       "      <th>dettypcm</th>\n",
       "      <th>linecm</th>\n",
       "      <th>detailcm</th>\n",
       "    </tr>\n",
       "  </thead>\n",
       "  <tbody>\n",
       "    <tr>\n",
       "      <th>0</th>\n",
       "      <td>178048</td>\n",
       "      <td>2009</td>\n",
       "      <td>41</td>\n",
       "      <td>1779</td>\n",
       "      <td>4032009</td>\n",
       "      <td>130</td>\n",
       "      <td>A</td>\n",
       "      <td>O</td>\n",
       "      <td>P</td>\n",
       "      <td>1.0</td>\n",
       "      <td>...</td>\n",
       "      <td></td>\n",
       "      <td>41</td>\n",
       "      <td>G</td>\n",
       "      <td>7</td>\n",
       "      <td></td>\n",
       "      <td>1013067</td>\n",
       "      <td>0238633</td>\n",
       "      <td>CM</td>\n",
       "      <td>1</td>\n",
       "      <td>20</td>\n",
       "    </tr>\n",
       "    <tr>\n",
       "      <th>1</th>\n",
       "      <td>498873</td>\n",
       "      <td>2009</td>\n",
       "      <td>108</td>\n",
       "      <td>5805</td>\n",
       "      <td>10292009</td>\n",
       "      <td>1050</td>\n",
       "      <td>A</td>\n",
       "      <td>O</td>\n",
       "      <td>P</td>\n",
       "      <td>3.0</td>\n",
       "      <td>...</td>\n",
       "      <td></td>\n",
       "      <td>108</td>\n",
       "      <td>J</td>\n",
       "      <td></td>\n",
       "      <td></td>\n",
       "      <td>1012043</td>\n",
       "      <td>0212157</td>\n",
       "      <td>CM</td>\n",
       "      <td>1</td>\n",
       "      <td>14</td>\n",
       "    </tr>\n",
       "    <tr>\n",
       "      <th>2</th>\n",
       "      <td>463573</td>\n",
       "      <td>2009</td>\n",
       "      <td>43</td>\n",
       "      <td>8340</td>\n",
       "      <td>10062009</td>\n",
       "      <td>1450</td>\n",
       "      <td>1</td>\n",
       "      <td>O</td>\n",
       "      <td>P</td>\n",
       "      <td>1.0</td>\n",
       "      <td>...</td>\n",
       "      <td></td>\n",
       "      <td>43</td>\n",
       "      <td>E</td>\n",
       "      <td></td>\n",
       "      <td></td>\n",
       "      <td>1017599</td>\n",
       "      <td>0240200</td>\n",
       "      <td>CM</td>\n",
       "      <td>1</td>\n",
       "      <td>20</td>\n",
       "    </tr>\n",
       "    <tr>\n",
       "      <th>3</th>\n",
       "      <td>43626</td>\n",
       "      <td>2009</td>\n",
       "      <td>77</td>\n",
       "      <td>932</td>\n",
       "      <td>1232009</td>\n",
       "      <td>1843</td>\n",
       "      <td>A</td>\n",
       "      <td>O</td>\n",
       "      <td>P</td>\n",
       "      <td>5.0</td>\n",
       "      <td>...</td>\n",
       "      <td></td>\n",
       "      <td>77</td>\n",
       "      <td>J</td>\n",
       "      <td>4</td>\n",
       "      <td>35</td>\n",
       "      <td>1002625</td>\n",
       "      <td>0183442</td>\n",
       "      <td>CM</td>\n",
       "      <td>1</td>\n",
       "      <td>24</td>\n",
       "    </tr>\n",
       "    <tr>\n",
       "      <th>4</th>\n",
       "      <td>563921</td>\n",
       "      <td>2009</td>\n",
       "      <td>110</td>\n",
       "      <td>11224</td>\n",
       "      <td>12132009</td>\n",
       "      <td>1655</td>\n",
       "      <td>A</td>\n",
       "      <td>O</td>\n",
       "      <td>P</td>\n",
       "      <td>3.0</td>\n",
       "      <td>...</td>\n",
       "      <td></td>\n",
       "      <td>110</td>\n",
       "      <td>H</td>\n",
       "      <td></td>\n",
       "      <td></td>\n",
       "      <td>1024535</td>\n",
       "      <td>0209890</td>\n",
       "      <td>CM</td>\n",
       "      <td>1</td>\n",
       "      <td>20</td>\n",
       "    </tr>\n",
       "  </tbody>\n",
       "</table>\n",
       "<p>5 rows × 112 columns</p>\n",
       "</div>"
      ],
      "text/plain": [
       "   Unnamed: 0  year  pct  ser_num  datestop  timestop recstat inout trhsloc   \n",
       "0      178048  2009   41     1779   4032009       130       A     O       P  \\\n",
       "1      498873  2009  108     5805  10292009      1050       A     O       P   \n",
       "2      463573  2009   43     8340  10062009      1450       1     O       P   \n",
       "3       43626  2009   77      932   1232009      1843       A     O       P   \n",
       "4      563921  2009  110    11224  12132009      1655       A     O       P   \n",
       "\n",
       "  perobs  ... zip  addrpct sector beat post   xcoord   ycoord dettypcm linecm   \n",
       "0    1.0  ...           41      G    7       1013067  0238633       CM      1  \\\n",
       "1    3.0  ...          108      J            1012043  0212157       CM      1   \n",
       "2    1.0  ...           43      E            1017599  0240200       CM      1   \n",
       "3    5.0  ...           77      J    4   35  1002625  0183442       CM      1   \n",
       "4    3.0  ...          110      H            1024535  0209890       CM      1   \n",
       "\n",
       "   detailcm  \n",
       "0        20  \n",
       "1        14  \n",
       "2        20  \n",
       "3        24  \n",
       "4        20  \n",
       "\n",
       "[5 rows x 112 columns]"
      ]
     },
     "execution_count": 284,
     "metadata": {},
     "output_type": "execute_result"
    }
   ],
   "source": [
    "df_consolidado = pd.concat([df_2009, df_2010], ignore_index=True)\n",
    "df_consolidado.head(5)"
   ]
  },
  {
   "cell_type": "code",
   "execution_count": 285,
   "id": "73da801a",
   "metadata": {},
   "outputs": [
    {
     "name": "stdout",
     "output_type": "stream",
     "text": [
      "perobs consolidado: object\n",
      "addrpct consolidado: object\n",
      "linecm consolidado: object\n",
      "detailcm consolidado: object\n"
     ]
    }
   ],
   "source": [
    "#Revisar el tipo de datos de variables no coincidentes\n",
    "print(f\"perobs consolidado: {df_consolidado['perobs'].dtypes}\")\n",
    "print(f\"addrpct consolidado: {df_consolidado['addrpct'].dtypes}\")\n",
    "print(f\"linecm consolidado: {df_consolidado['linecm'].dtypes}\")\n",
    "print(f\"detailcm consolidado: {df_consolidado['detailcm'].dtypes}\")"
   ]
  },
  {
   "cell_type": "code",
   "execution_count": 286,
   "id": "0a3fa1cc",
   "metadata": {},
   "outputs": [],
   "source": [
    "#Castear a numeric\n",
    "df_consolidado['perobs'] = pd.to_numeric(df_consolidado[\"perobs\"], errors='coerce')\n",
    "df_consolidado['addrpct'] = pd.to_numeric(df_consolidado['addrpct'], errors='coerce')\n",
    "df_consolidado['linecm'] = pd.to_numeric(df_consolidado['linecm'], errors='coerce')\n",
    "df_consolidado['detailcm'] = pd.to_numeric(df_consolidado['detailcm'], errors='coerce')\n"
   ]
  },
  {
   "cell_type": "code",
   "execution_count": 287,
   "id": "4b68738d",
   "metadata": {},
   "outputs": [
    {
     "data": {
      "text/plain": [
       "(11825, 112)"
      ]
     },
     "execution_count": 287,
     "metadata": {},
     "output_type": "execute_result"
    }
   ],
   "source": [
    "df_consolidado.shape\n"
   ]
  },
  {
   "cell_type": "code",
   "execution_count": 288,
   "id": "f9c84e1a",
   "metadata": {},
   "outputs": [],
   "source": [
    "# 3.- Preprocesamiento de datos\n",
    "# Habrá notado que los datos parecen tener ciertas inconsistencias. Siga los\n",
    "# siguientes pasos para limpiar este set:"
   ]
  },
  {
   "cell_type": "code",
   "execution_count": 289,
   "id": "e67b281f",
   "metadata": {},
   "outputs": [
    {
     "data": {
      "text/html": [
       "<div>\n",
       "<style scoped>\n",
       "    .dataframe tbody tr th:only-of-type {\n",
       "        vertical-align: middle;\n",
       "    }\n",
       "\n",
       "    .dataframe tbody tr th {\n",
       "        vertical-align: top;\n",
       "    }\n",
       "\n",
       "    .dataframe thead th {\n",
       "        text-align: right;\n",
       "    }\n",
       "</style>\n",
       "<table border=\"1\" class=\"dataframe\">\n",
       "  <thead>\n",
       "    <tr style=\"text-align: right;\">\n",
       "      <th></th>\n",
       "      <th>recstat</th>\n",
       "      <th>inout</th>\n",
       "      <th>trhsloc</th>\n",
       "      <th>crimsusp</th>\n",
       "      <th>typeofid</th>\n",
       "      <th>explnstp</th>\n",
       "      <th>othpers</th>\n",
       "      <th>arstmade</th>\n",
       "      <th>arstoffn</th>\n",
       "      <th>sumissue</th>\n",
       "      <th>...</th>\n",
       "      <th>aptnum</th>\n",
       "      <th>city</th>\n",
       "      <th>state</th>\n",
       "      <th>zip</th>\n",
       "      <th>sector</th>\n",
       "      <th>beat</th>\n",
       "      <th>post</th>\n",
       "      <th>xcoord</th>\n",
       "      <th>ycoord</th>\n",
       "      <th>dettypcm</th>\n",
       "    </tr>\n",
       "  </thead>\n",
       "  <tbody>\n",
       "    <tr>\n",
       "      <th>0</th>\n",
       "      <td>A</td>\n",
       "      <td>O</td>\n",
       "      <td>P</td>\n",
       "      <td>CPW</td>\n",
       "      <td>P</td>\n",
       "      <td>Y</td>\n",
       "      <td>N</td>\n",
       "      <td>N</td>\n",
       "      <td></td>\n",
       "      <td>N</td>\n",
       "      <td>...</td>\n",
       "      <td></td>\n",
       "      <td>BRONX</td>\n",
       "      <td></td>\n",
       "      <td></td>\n",
       "      <td>G</td>\n",
       "      <td>7</td>\n",
       "      <td></td>\n",
       "      <td>1013067</td>\n",
       "      <td>0238633</td>\n",
       "      <td>CM</td>\n",
       "    </tr>\n",
       "    <tr>\n",
       "      <th>1</th>\n",
       "      <td>A</td>\n",
       "      <td>O</td>\n",
       "      <td>P</td>\n",
       "      <td>BURG</td>\n",
       "      <td>P</td>\n",
       "      <td>Y</td>\n",
       "      <td>Y</td>\n",
       "      <td>N</td>\n",
       "      <td></td>\n",
       "      <td>N</td>\n",
       "      <td>...</td>\n",
       "      <td></td>\n",
       "      <td>QUEENS</td>\n",
       "      <td></td>\n",
       "      <td></td>\n",
       "      <td>J</td>\n",
       "      <td></td>\n",
       "      <td></td>\n",
       "      <td>1012043</td>\n",
       "      <td>0212157</td>\n",
       "      <td>CM</td>\n",
       "    </tr>\n",
       "    <tr>\n",
       "      <th>2</th>\n",
       "      <td>1</td>\n",
       "      <td>O</td>\n",
       "      <td>P</td>\n",
       "      <td>MISD</td>\n",
       "      <td>V</td>\n",
       "      <td>Y</td>\n",
       "      <td>N</td>\n",
       "      <td>N</td>\n",
       "      <td></td>\n",
       "      <td>N</td>\n",
       "      <td>...</td>\n",
       "      <td></td>\n",
       "      <td>BRONX</td>\n",
       "      <td></td>\n",
       "      <td></td>\n",
       "      <td>E</td>\n",
       "      <td></td>\n",
       "      <td></td>\n",
       "      <td>1017599</td>\n",
       "      <td>0240200</td>\n",
       "      <td>CM</td>\n",
       "    </tr>\n",
       "    <tr>\n",
       "      <th>3</th>\n",
       "      <td>A</td>\n",
       "      <td>O</td>\n",
       "      <td>P</td>\n",
       "      <td>MIS</td>\n",
       "      <td>P</td>\n",
       "      <td>Y</td>\n",
       "      <td>N</td>\n",
       "      <td>N</td>\n",
       "      <td></td>\n",
       "      <td>N</td>\n",
       "      <td>...</td>\n",
       "      <td></td>\n",
       "      <td>BROOKLYN</td>\n",
       "      <td></td>\n",
       "      <td></td>\n",
       "      <td>J</td>\n",
       "      <td>4</td>\n",
       "      <td>35</td>\n",
       "      <td>1002625</td>\n",
       "      <td>0183442</td>\n",
       "      <td>CM</td>\n",
       "    </tr>\n",
       "    <tr>\n",
       "      <th>4</th>\n",
       "      <td>A</td>\n",
       "      <td>O</td>\n",
       "      <td>P</td>\n",
       "      <td>CPW</td>\n",
       "      <td>P</td>\n",
       "      <td>Y</td>\n",
       "      <td>Y</td>\n",
       "      <td>N</td>\n",
       "      <td></td>\n",
       "      <td>N</td>\n",
       "      <td>...</td>\n",
       "      <td></td>\n",
       "      <td>QUEENS</td>\n",
       "      <td></td>\n",
       "      <td></td>\n",
       "      <td>H</td>\n",
       "      <td></td>\n",
       "      <td></td>\n",
       "      <td>1024535</td>\n",
       "      <td>0209890</td>\n",
       "      <td>CM</td>\n",
       "    </tr>\n",
       "  </tbody>\n",
       "</table>\n",
       "<p>5 rows × 92 columns</p>\n",
       "</div>"
      ],
      "text/plain": [
       "  recstat inout trhsloc crimsusp typeofid explnstp othpers arstmade arstoffn   \n",
       "0       A     O       P      CPW        P        Y       N        N           \\\n",
       "1       A     O       P     BURG        P        Y       Y        N            \n",
       "2       1     O       P     MISD        V        Y       N        N            \n",
       "3       A     O       P      MIS        P        Y       N        N            \n",
       "4       A     O       P      CPW        P        Y       Y        N            \n",
       "\n",
       "  sumissue  ... aptnum      city state zip sector beat post   xcoord   ycoord   \n",
       "0        N  ...            BRONX                G    7       1013067  0238633  \\\n",
       "1        N  ...           QUEENS                J            1012043  0212157   \n",
       "2        N  ...            BRONX                E            1017599  0240200   \n",
       "3        N  ...         BROOKLYN                J    4   35  1002625  0183442   \n",
       "4        N  ...           QUEENS                H            1024535  0209890   \n",
       "\n",
       "  dettypcm  \n",
       "0       CM  \n",
       "1       CM  \n",
       "2       CM  \n",
       "3       CM  \n",
       "4       CM  \n",
       "\n",
       "[5 rows x 92 columns]"
      ]
     },
     "execution_count": 289,
     "metadata": {},
     "output_type": "execute_result"
    }
   ],
   "source": [
    "# 3.1 Obtenga una lista con todas las variables categoricas que tengan entre\n",
    "# 2 y 99 categorías (inclusive). (hint: son las variables tipo categoricas\n",
    "\n",
    "#Filtrar categóricas\n",
    "variables_categoricas = df_consolidado.select_dtypes(include=['object'])\n",
    "variables_categoricas.head(5)\n"
   ]
  },
  {
   "cell_type": "code",
   "execution_count": 290,
   "id": "368e68c4",
   "metadata": {},
   "outputs": [
    {
     "name": "stdout",
     "output_type": "stream",
     "text": [
      "Lista de variables categoricas con entre 2 y 99 categorías:  ['trhsloc', 'typeofid', 'sex', 'race', 'haircolr', 'eyecolor', 'build', 'city', 'sector', 'beat']\n"
     ]
    }
   ],
   "source": [
    "#Listar las que tienen entre 2 y 99 categorías\n",
    "valores_distintos = variables_categoricas.nunique()\n",
    "valores_distintos[(valores_distintos > 2) & (valores_distintos < 99)]\n",
    "\n",
    "#crea una lista\n",
    "list_variables_categoricas = list(valores_distintos[(valores_distintos > 2) & (valores_distintos < 99)].index)\n",
    "\n",
    "print('Lista de variables categoricas con entre 2 y 99 categorías: ', list_variables_categoricas)\n",
    "\n",
    "\n",
    "\n"
   ]
  },
  {
   "cell_type": "code",
   "execution_count": 291,
   "id": "ee635241",
   "metadata": {},
   "outputs": [
    {
     "name": "stdout",
     "output_type": "stream",
     "text": [
      "0\n",
      "0\n",
      "True\n",
      "0\n",
      "0\n",
      "True\n",
      "0\n",
      "0\n",
      "True\n"
     ]
    }
   ],
   "source": [
    "#3.2 Reemplaze las siguientes clases faltantes:\n",
    "# -Si alguna categoría de las columnas officrid, offshld o offverb es igual a \"\"\n",
    "# cambielo a 'N' y en caso contrario dejelo como 'Y'\n",
    "\n",
    "\n",
    "#Revisar si las variables continen NA o \"\"\n",
    "print(df_consolidado[\"officrid\"].isna().sum())\n",
    "print(df_consolidado[\"officrid\"].isnull().sum())\n",
    "print(\" \"in df_consolidado[\"officrid\"].values)\n",
    "print(df_consolidado[\"offshld\"].isna().sum())\n",
    "print(df_consolidado[\"offshld\"].isnull().sum())\n",
    "print(\" \"in df_consolidado[\"offshld\"].values)\n",
    "print(df_consolidado[\"offverb\"].isna().sum())\n",
    "print(df_consolidado[\"offverb\"].isnull().sum())\n",
    "print(\" \"in df_consolidado[\"offverb\"].values)\n",
    "\n"
   ]
  },
  {
   "cell_type": "code",
   "execution_count": 292,
   "id": "5429904f",
   "metadata": {},
   "outputs": [
    {
     "name": "stdout",
     "output_type": "stream",
     "text": [
      "offverb\n",
      "N    9246\n",
      "Y    2579\n",
      "Name: count, dtype: int64\n",
      "offshld\n",
      "N    8575\n",
      "Y    3250\n",
      "Name: count, dtype: int64\n",
      "officrid\n",
      "N    11664\n",
      "Y      161\n",
      "Name: count, dtype: int64\n"
     ]
    }
   ],
   "source": [
    "# -Si alguna categoría de las columnas officrid, offshld o offverb es igual a \"\"\n",
    "# cambielo a 'N' y en caso contrario dejelo como 'Y'\n",
    "\n",
    "df_consolidado[\"offverb\"].fillna('N', inplace = True)\n",
    "df_consolidado[\"offverb\"].replace(\" \", 'N', inplace = True)\n",
    "df_consolidado[\"offverb\"].replace(\"V\", 'Y', inplace = True)\n",
    "df_consolidado[\"offshld\"].fillna('N', inplace = True)\n",
    "df_consolidado[\"offshld\"].replace(\" \", 'N', inplace = True)\n",
    "df_consolidado[\"offshld\"].replace(\"S\", 'Y', inplace = True)\n",
    "df_consolidado[\"officrid\"].fillna('N', inplace = True)\n",
    "df_consolidado[\"officrid\"].replace(\" \", 'N', inplace = True)\n",
    "df_consolidado[\"officrid\"].replace(\"I\", 'Y', inplace = True)\n",
    "\n",
    "\n",
    "\n",
    "print(df_consolidado[\"offverb\"].value_counts())\n",
    "print(df_consolidado[\"offshld\"].value_counts())\n",
    "print(df_consolidado[\"officrid\"].value_counts())\n",
    "\n"
   ]
  },
  {
   "cell_type": "code",
   "execution_count": 293,
   "id": "2be7a0c4",
   "metadata": {},
   "outputs": [
    {
     "name": "stdout",
     "output_type": "stream",
     "text": [
      "sector\n",
      "B    1175\n",
      "A    1146\n",
      "H    1124\n",
      "E    1116\n",
      "C    1095\n",
      "G    1080\n",
      "F    1021\n",
      "D     914\n",
      "I     872\n",
      "J     684\n",
      "K     397\n",
      "M     342\n",
      "U     293\n",
      "P     228\n",
      "N     148\n",
      "T      79\n",
      "Q      72\n",
      "R      39\n",
      "Name: count, dtype: int64\n",
      "trhsloc\n",
      "P    8869\n",
      "H    1859\n",
      "T     892\n",
      "U     205\n",
      "Name: count, dtype: int64\n",
      "beat\n",
      "U       7444\n",
      "9        422\n",
      "1        313\n",
      "7        305\n",
      "2        275\n",
      "        ... \n",
      "  62       1\n",
      "30         1\n",
      "32         1\n",
      "  61       1\n",
      "  42       1\n",
      "Name: count, Length: 64, dtype: int64\n"
     ]
    }
   ],
   "source": [
    "# -Si alguna categoría de las columnas sector, trhsloc o beat es igual a \"\" (o NA,\n",
    "# dependiendo de como haya catgado la base de datos), cambielo a 'U' y en caso\n",
    "# contrario mantenga su valor\n",
    "# Nota, los valores significan {N: No, Y: Yes, U: Unknown}\n",
    "\n",
    "df_consolidado[\"sector\"].fillna('U', inplace = True)\n",
    "df_consolidado[\"sector\"].replace(\" \", 'U', inplace = True)\n",
    "\n",
    "df_consolidado[\"trhsloc\"].fillna('U', inplace = True)\n",
    "df_consolidado[\"trhsloc\"].replace(\" \", 'U', inplace = True)\n",
    "\n",
    "df_consolidado[\"beat\"].fillna('U', inplace = True)\n",
    "df_consolidado[\"beat\"].replace(\" \", 'U', inplace = True)\n",
    "\n",
    "print(df_consolidado[\"sector\"].value_counts())\n",
    "print(df_consolidado[\"trhsloc\"].value_counts())\n",
    "print(df_consolidado[\"beat\"].value_counts())\n"
   ]
  },
  {
   "cell_type": "code",
   "execution_count": 294,
   "id": "4a26c827",
   "metadata": {},
   "outputs": [
    {
     "name": "stdout",
     "output_type": "stream",
     "text": [
      "0    4.2672\n",
      "1    3.0480\n",
      "2    2.7432\n",
      "3    3.0480\n",
      "4    3.3528\n",
      "Name: ht_feet.ht_inch, dtype: float64\n",
      "\n",
      "(11825, 113)\n"
     ]
    }
   ],
   "source": [
    "# 3.3 Transforme las columnas ht_feet junto con ht_inch en una única\n",
    "# columna (de la forma \"ht_feet.ht_inch\") llamado 'meters' (hint: transforme\n",
    "# con el siguiente cálculo: metros = (pies+pulgadas)*0.3048)\n",
    "\n",
    "df_consolidado[\"ht_feet.ht_inch\"] = (df_consolidado[\"ht_feet\"] + df_consolidado[\"ht_inch\"]) * 0.3048\n",
    "\n",
    "print(df_consolidado[\"ht_feet.ht_inch\"].head(5))\n",
    "print()\n",
    "print(df_consolidado.shape)\n"
   ]
  },
  {
   "cell_type": "code",
   "execution_count": 295,
   "id": "34ffa56e",
   "metadata": {},
   "outputs": [
    {
     "name": "stdout",
     "output_type": "stream",
     "text": [
      "0     4\n",
      "1    10\n",
      "2    10\n",
      "3     1\n",
      "4    12\n",
      "Name: month, dtype: int32\n",
      "0    2009\n",
      "1    2009\n",
      "2    2009\n",
      "3    2009\n",
      "4    2009\n",
      "Name: year, dtype: int32\n"
     ]
    }
   ],
   "source": [
    "# 3.4 Note que la fecha viene en un formato MMDDAAAA en la columna\n",
    "# datestop. Genere 2 nuevas columnas llamadas month y year que solo\n",
    "# tenga el mes y el año respectivamente.\n",
    "\n",
    "#agregar 0 a la izquierda a los meses de un solo dígito\n",
    "df_consolidado[\"datestop\"] = df_consolidado[\"datestop\"].astype(str).str.zfill(8)\n",
    "\n",
    "df_consolidado[\"month\"] = df_consolidado[\"datestop\"].astype(str).str[0:2].astype(int) \n",
    "df_consolidado[\"year\"] = df_consolidado[\"datestop\"].astype(str).str[4:8].astype(int)\n",
    "print(df_consolidado[\"month\"].head(5))\n",
    "print(df_consolidado[\"year\"].head(5))\n",
    "\n"
   ]
  },
  {
   "cell_type": "code",
   "execution_count": 296,
   "id": "474a37a7",
   "metadata": {},
   "outputs": [
    {
     "name": "stdout",
     "output_type": "stream",
     "text": [
      "Lista completa de variables:  ['trhsloc', 'typeofid', 'sex', 'race', 'haircolr', 'eyecolor', 'build', 'city', 'sector', 'beat', 'month', 'year', 'ht_feet.ht_inch', 'age', 'arstmade']\n",
      "  trhsloc typeofid sex race haircolr eyecolor build       city sector beat   \n",
      "0       P        P   M    B       BK       BR     M      BRONX      G    7  \\\n",
      "2       P        V   M    Q       BR       BR     M      BRONX      E    U   \n",
      "3       P        P   M    B       BK       BR     T   BROOKLYN      J    4   \n",
      "4       P        P   M    Q       BK       BR     M     QUEENS      H    U   \n",
      "5       T        V   M    B       BK       BR     M  MANHATTAN      F   16   \n",
      "\n",
      "   month  year  ht_feet.ht_inch  age arstmade  \n",
      "0      4  2009           4.2672   24        N  \n",
      "2     10  2009           2.7432   21        N  \n",
      "3      1  2009           3.0480   22        N  \n",
      "4     12  2009           3.3528   18        N  \n",
      "5      5  2009           3.9624   47        N  \n",
      "(10078, 15)\n"
     ]
    }
   ],
   "source": [
    "# 3.5 Filtre su DataFrame y solo deje las columnas seleccionadas en el punto 3.1, \n",
    "# el mes, el año, los metros y la edad. Luego solo deje los registros cuyas\n",
    "# edades esten entre 18 y 100 años, ambos inclusive.\n",
    "\n",
    "list_variables_categoricas.append(\"month\")\n",
    "list_variables_categoricas.append(\"year\")\n",
    "list_variables_categoricas.append(\"ht_feet.ht_inch\")\n",
    "list_variables_categoricas.append(\"age\")\n",
    "list_variables_categoricas.append(\"arstmade\")\n",
    "\n",
    "\n",
    "print(\"Lista completa de variables: \", list_variables_categoricas)\n",
    "\n",
    "df_filtrado=pd.DataFrame(df_consolidado[(df_consolidado[\"age\"] >= 18) & (df_consolidado[\"age\"] <= 100)], columns=list_variables_categoricas)\n",
    "print(df_filtrado.head(5))\n",
    "print(df_filtrado.shape)\n"
   ]
  },
  {
   "cell_type": "code",
   "execution_count": 297,
   "id": "9cba8c0c",
   "metadata": {},
   "outputs": [
    {
     "data": {
      "image/png": "[encoded data removed]",
      "text/plain": [
       "<Figure size 640x480 with 1 Axes>"
      ]
     },
     "metadata": {},
     "output_type": "display_data"
    },
    {
     "name": "stdout",
     "output_type": "stream",
     "text": [
      "arstmade\n",
      "N    11077\n",
      "Y      748\n",
      "Name: count, dtype: int64\n",
      "\n",
      "count     10078\n",
      "unique        2\n",
      "top           N\n",
      "freq       9432\n",
      "Name: arstmade, dtype: object\n"
     ]
    }
   ],
   "source": [
    "# 4.- Análisis exploratorio\n",
    "\n",
    "# 4.1 Estudie la variable respuesta por si sola (arstmade), puede ayudarse\n",
    "# de un gráfico. Comente\n",
    "\n",
    "#Gráfico de torta\n",
    "df_filtrado[\"arstmade\"].value_counts().plot(kind='pie', autopct='%1.1f%%', shadow=True, startangle=90)\n",
    "plt.title(\"Arrestos realizados\")\n",
    "#agregar leyenda\n",
    "plt.legend(labels=[\"No\", \"Yes\"], loc=\"upper right\")\n",
    "plt.show()\n",
    "\n",
    "print(df_consolidado[\"arstmade\"].value_counts())\n",
    "print()\n",
    "print(df_filtrado[\"arstmade\"].describe())\n",
    "\n",
    "# De acuerdo a los datos obtenidos, se puede observar que +/- el 93% de los arrestos no se realizaron.\n",
    "# Por lo tanto, se puede concluir que la mayoría de los arrestos no se realizan.\n",
    "\n"
   ]
  },
  {
   "cell_type": "code",
   "execution_count": 298,
   "id": "1a649c0d",
   "metadata": {},
   "outputs": [
    {
     "data": {
      "image/png": "[encoded data removed]",
      "text/plain": [
       "<Figure size 800x600 with 2 Axes>"
      ]
     },
     "metadata": {},
     "output_type": "display_data"
    }
   ],
   "source": [
    "# 4.2.- Estudie la relación de la variable respuesta en comportamiento con la raza (race), comente.\n",
    "\n",
    "contingency_table = pd.crosstab(df_filtrado['arstmade'], df_filtrado['race'])\n",
    "plt.figure(figsize=(8, 6))\n",
    "sns.heatmap(contingency_table,cmap=\"coolwarm\", annot=True, fmt=\"d\")\n",
    "plt.title(\"Arrestos x Raza\")\n",
    "plt.xlabel(\"Raza\")\n",
    "plt.ylabel(\"Arrestos\")\n",
    "plt.show()\n",
    "\n",
    "# Se observa que la mayor frecuencia de arrestos realizados y no realizados estan concentrados en las razas B, Q y W.\n",
    "# Por lo tanto, se puede concluir que la raza no es un factor determinante para realizar un arresto.\n",
    "\n"
   ]
  },
  {
   "cell_type": "code",
   "execution_count": 299,
   "id": "9b54f885",
   "metadata": {},
   "outputs": [
    {
     "data": {
      "image/png": "[encoded data removed]",
      "text/plain": [
       "<Figure size 800x600 with 2 Axes>"
      ]
     },
     "metadata": {},
     "output_type": "display_data"
    }
   ],
   "source": [
    "# 4.3 Estudie la relación de la variable respuesta en comportamiento con la sexo (sex), comente.\n",
    "\n",
    "contingency_table = pd.crosstab(df_filtrado['arstmade'], df_filtrado['sex'])\n",
    "plt.figure(figsize=(8, 6))\n",
    "sns.heatmap(contingency_table,cmap=\"coolwarm\", annot=True, fmt=\"d\")\n",
    "plt.title(\"Arrestos x Sexo\")\n",
    "plt.xlabel(\"Sexo\")\n",
    "plt.ylabel(\"Arrestos\")\n",
    "plt.show()\n",
    "\n",
    "# Se observa una gran concentracion de arrestos no realizados en el sexo masculino.\n",
    "# Por lo tanto, se puede concluir que el sexo es un factor determinante para realizar un arresto.\n",
    "\n"
   ]
  },
  {
   "cell_type": "code",
   "execution_count": 300,
   "id": "41953cd7",
   "metadata": {},
   "outputs": [
    {
     "data": {
      "image/png": "[encoded data removed]",
      "text/plain": [
       "<Figure size 1500x600 with 2 Axes>"
      ]
     },
     "metadata": {},
     "output_type": "display_data"
    }
   ],
   "source": [
    "# 4.3 Estudie la relación de la variable respuesta en comportamiento con la\n",
    "# sexo y la edad en su conjunto, comente.\n",
    "\n",
    "contingency_table = pd.crosstab(df_filtrado['arstmade'], [df_filtrado['sex'], df_filtrado['age']])\n",
    "plt.figure(figsize=(15, 6))\n",
    "sns.heatmap(contingency_table,cmap=\"coolwarm\", annot=True, fmt=\"d\")\n",
    "plt.title(\"Arrestos x Sexo y Edad\")\n",
    "plt.xlabel(\"Sexo y Edad\")\n",
    "plt.ylabel(\"Arrestos\")\n",
    "plt.show()\n",
    "\n",
    "# Se observa una gran concentracion de arrestos no realizados en el sexo masculino de 20 años.\n",
    "# Por lo tanto, se puede concluir que el sexo y la edad son factores determinantes para realizar un arresto.\n",
    "\n"
   ]
  },
  {
   "cell_type": "code",
   "execution_count": 301,
   "id": "54d3cc0d",
   "metadata": {},
   "outputs": [
    {
     "name": "stdout",
     "output_type": "stream",
     "text": [
      "arstmade\n",
      "0    9432\n",
      "1     646\n",
      "Name: count, dtype: int64\n"
     ]
    }
   ],
   "source": [
    "# 4.4 Recodifique la variable respuesta a 1 y 0. Donde 0 es N y 1 es Y\n",
    "\n",
    "df_filtrado[\"arstmade\"].replace(\"N\", 0, inplace = True)\n",
    "df_filtrado[\"arstmade\"].replace(\"Y\", 1, inplace = True)\n",
    "\n",
    "print(df_filtrado[\"arstmade\"].value_counts())\n"
   ]
  },
  {
   "cell_type": "code",
   "execution_count": 302,
   "id": "2c67be26",
   "metadata": {},
   "outputs": [
    {
     "data": {
      "image/png": "[encoded data removed]",
      "text/plain": [
       "<Figure size 640x480 with 1 Axes>"
      ]
     },
     "metadata": {},
     "output_type": "display_data"
    },
    {
     "name": "stdout",
     "output_type": "stream",
     "text": [
      "race         A         B    I         P         Q         U         W   \n",
      "sex                                                                     \n",
      "F     0.043478  0.122642  0.0  0.115385  0.070064  0.000000  0.098039  \\\n",
      "M     0.069091  0.059400  0.0  0.058608  0.064010  0.035088  0.071511   \n",
      "Z     0.000000  0.000000  NaN  0.000000  0.125000  0.200000  0.000000   \n",
      "\n",
      "race         Z  \n",
      "sex             \n",
      "F     0.000000  \n",
      "M     0.079137  \n",
      "Z     0.052083  \n"
     ]
    }
   ],
   "source": [
    "# 4.5 Muestre en un gráfico la probabilidad que un individuo sea\n",
    "# arrestado, condicional al género y a la raza. ¿qué implicancias éticas tienen\n",
    "# algunas conclusiones de lo que observa?.\n",
    "\n",
    "probabilities = df_filtrado.groupby(['sex', 'race'])['arstmade'].mean().unstack()\n",
    "\n",
    "# Genera el gráfico de barras apiladas\n",
    "ax = probabilities.plot(kind='bar', stacked=True)\n",
    "ax.set_xlabel('Género')\n",
    "ax.set_ylabel('Probabilidad de arresto')\n",
    "ax.set_title('Probabilidad de arresto condicional al género y raza')\n",
    "ax.legend(title='Raza')\n",
    "plt.show()\n",
    "\n",
    "# metricas\n",
    "print(probabilities)\n",
    "\n",
    "# Se observa que la probabilidad de arresto es mayor en el sexo masculino y en la raza B.\n",
    "# Por lo tanto, se puede concluir que el sexo y la raza son factores determinantes para realizar un arresto.\n",
    "# Implicancias éticas: Se puede concluir que existe un sesgo en la probabilidad de arresto, ya que se observa que la probabilidad de arresto es mayor en el sexo masculino y en la raza B.\n"
   ]
  },
  {
   "cell_type": "code",
   "execution_count": 303,
   "id": "8359f879",
   "metadata": {},
   "outputs": [
    {
     "name": "stdout",
     "output_type": "stream",
     "text": [
      "violencia\n",
      "0    75.41649\n",
      "1    24.58351\n",
      "Name: proportion, dtype: float64\n"
     ]
    },
    {
     "data": {
      "image/png": "[encoded data removed]",
      "text/plain": [
       "<Figure size 640x480 with 1 Axes>"
      ]
     },
     "metadata": {},
     "output_type": "display_data"
    }
   ],
   "source": [
    "# 5.- Determinar si el procedimiento policial concluirá en alguna acción violenta.\n",
    "# Los atributos que tienen el prefijo pf (['pf_hands'],['pf_wall'], ['pf_grnd'],\n",
    "# ['pf_drwep'], ['pf_ptwep'],['pf_baton'],['pf_hcuff'], ['pf_pepsp'] y ['pf_other']) indican\n",
    "# si hubo fuerza fisica utilizada por el oficial al momento del procedimiento, con la\n",
    "# marca 'Y'.\n",
    "# Genere una nueva variable llamada 'violencia' la cual sea 1 si en cualquiera de\n",
    "# las 9 variables pf hubo alguna 'Y', y 0 en otro caso. Luego indique el porcentaje\n",
    "# de casos que terminaron con violencia.\n",
    "\n",
    "# Se crea la variable \"violencia\" con el valor 1 si en cualquiera de las 9 variables pf hubo alguna 'Y', y 0 en otro caso.\n",
    "df_consolidado[\"violencia\"] = 0\n",
    "\n",
    "df_consolidado.loc[(df_consolidado[\"pf_hands\"] == \"Y\") | (df_consolidado[\"pf_wall\"] == \"Y\") | (df_consolidado[\"pf_grnd\"] == \"Y\") | (df_consolidado[\"pf_drwep\"] == \"Y\") | (df_consolidado[\"pf_ptwep\"] == \"Y\") | (df_consolidado[\"pf_baton\"] == \"Y\") | (df_consolidado[\"pf_hcuff\"] == \"Y\") | (df_consolidado[\"pf_pepsp\"] == \"Y\") | (df_consolidado[\"pf_other\"] == \"Y\"), \"violencia\"] = 1\n",
    "print(df_consolidado[\"violencia\"].value_counts(normalize=True)*100)\n",
    "\n",
    "# graficar\n",
    "df_consolidado[\"violencia\"].value_counts(normalize=True).plot(kind=\"bar\")\n",
    "plt.title(\"Violencia\")\n",
    "plt.xlabel(\"Violencia\")\n",
    "plt.ylabel(\"Frecuencia\")\n",
    "plt.show()\n",
    "\n",
    "\n",
    "# Se observa que el 99% de los casos no terminaron con violencia.\n",
    "# Por lo tanto, se puede concluir que la mayoría de los casos no terminan con violencia.\n"
   ]
  },
  {
   "cell_type": "code",
   "execution_count": 304,
   "id": "db2079f4",
   "metadata": {},
   "outputs": [
    {
     "name": "stdout",
     "output_type": "stream",
     "text": [
      "   year arstmade  Unnamed: 0_52  Unnamed: 0_135  Unnamed: 0_163   \n",
      "0  2009        N          False           False           False  \\\n",
      "1  2009        N          False           False           False   \n",
      "2  2009        N          False           False           False   \n",
      "3  2009        N          False           False           False   \n",
      "4  2009        N          False           False           False   \n",
      "\n",
      "   Unnamed: 0_189  Unnamed: 0_205  Unnamed: 0_226  Unnamed: 0_261   \n",
      "0           False           False           False           False  \\\n",
      "1           False           False           False           False   \n",
      "2           False           False           False           False   \n",
      "3           False           False           False           False   \n",
      "4           False           False           False           False   \n",
      "\n",
      "   Unnamed: 0_283  ...  month_5  month_6  month_7  month_8  month_9  month_10   \n",
      "0           False  ...    False    False    False    False    False     False  \\\n",
      "1           False  ...    False    False    False    False    False      True   \n",
      "2           False  ...    False    False    False    False    False      True   \n",
      "3           False  ...    False    False    False    False    False     False   \n",
      "4           False  ...    False    False    False    False    False     False   \n",
      "\n",
      "   month_11  month_12  violencia_0  violencia_1  \n",
      "0     False     False         True        False  \n",
      "1     False     False         True        False  \n",
      "2     False     False         True        False  \n",
      "3     False     False         True        False  \n",
      "4     False      True         True        False  \n",
      "\n",
      "[5 rows x 57968 columns]\n",
      "Index(['year', 'arstmade', 'Unnamed: 0_52', 'Unnamed: 0_135', 'Unnamed: 0_163',\n",
      "       'Unnamed: 0_189', 'Unnamed: 0_205', 'Unnamed: 0_226', 'Unnamed: 0_261',\n",
      "       'Unnamed: 0_283',\n",
      "       ...\n",
      "       'month_5', 'month_6', 'month_7', 'month_8', 'month_9', 'month_10',\n",
      "       'month_11', 'month_12', 'violencia_0', 'violencia_1'],\n",
      "      dtype='object', length=57968)\n",
      "<class 'pandas.core.frame.DataFrame'>\n",
      "RangeIndex: 11825 entries, 0 to 11824\n",
      "Columns: 57968 entries, year to violencia_1\n",
      "dtypes: bool(57966), int32(1), object(1)\n",
      "memory usage: 653.8+ MB\n",
      "None\n"
     ]
    }
   ],
   "source": [
    "# 6.- Modelación\n",
    "# 6.1 Genere las variables dummies correspondientes (Tenga cuidado de no\n",
    "# utilizar variables que expliquen lo mismo, ¡recuerde que acaba de crear\n",
    "# una variable a partir de otras!, además recuerde que creó una variable\n",
    "# numérica que es una categoría :) ). Luego genere los sets de train-test\n",
    "# utilizando el año 2009 para entrenar, y el año 2010 para testear.\n",
    "\n",
    "# Genere las variables dummies\n",
    "lista_dummies=[]\n",
    "for item in df_consolidado.columns:\n",
    "    if item not in ['year', 'arstmade']:\n",
    "        lista_dummies.append(item)\n",
    "\n",
    "df_final = pd.get_dummies(df_consolidado, columns=lista_dummies)\n",
    "print(df_final.head())\n",
    "print(df_final.columns)\n",
    "\n",
    "print(df_final.info())\n",
    "\n"
   ]
  },
  {
   "cell_type": "code",
   "execution_count": 305,
   "id": "60a322d5",
   "metadata": {},
   "outputs": [
    {
     "name": "stdout",
     "output_type": "stream",
     "text": [
      "(5812, 57967)\n",
      "(5812,)\n",
      "(6013, 57967)\n",
      "(6013,)\n"
     ]
    }
   ],
   "source": [
    "# Luego genere los sets de train-test\n",
    "# utilizando el año 2009 para entrenar, y el año 2010 para testear.\n",
    "\n",
    "# Se crea el set de entrenamiento\n",
    "\n",
    "\n",
    "X_train = df_final[df_final[\"year\"] == 2009].drop(\"arstmade\", axis=1)\n",
    "y_train = df_final[df_final[\"year\"] == 2009][\"arstmade\"]\n",
    "print(X_train.shape)\n",
    "print(y_train.shape)\n",
    "\n",
    "# Se crea el set de testeo\n",
    "X_test = df_final[df_final[\"year\"] == 2010].drop(\"arstmade\", axis=1)\n",
    "y_test = df_final[df_final[\"year\"] == 2010][\"arstmade\"]\n",
    "print(X_test.shape)\n",
    "print(y_test.shape)\n"
   ]
  },
  {
   "cell_type": "code",
   "execution_count": 306,
   "id": "b59962d6",
   "metadata": {},
   "outputs": [
    {
     "name": "stdout",
     "output_type": "stream",
     "text": [
      "Matriz de confusión: \n",
      " [[5613    0]\n",
      " [   9  391]]\n",
      "Exactitud: 1.00\n",
      "Reporte de clasificación: \n",
      "               precision    recall  f1-score   support\n",
      "\n",
      "           N       1.00      1.00      1.00      5613\n",
      "           Y       1.00      0.98      0.99       400\n",
      "\n",
      "    accuracy                           1.00      6013\n",
      "   macro avg       1.00      0.99      0.99      6013\n",
      "weighted avg       1.00      1.00      1.00      6013\n",
      "\n"
     ]
    }
   ],
   "source": [
    "# 6.2 Entrene un modelo de regresión logística con los datos de entrenamiento.\n",
    "# Luego calcule la matriz de confusión y el accuracy sobre los datos de\n",
    "# entrenamiento y de testeo. Comente.\n",
    "\n",
    "# add warnings\n",
    "import warnings\n",
    "warnings.filterwarnings('ignore')\n",
    "\n",
    "\n",
    "# Se entrena el modelo de regresión logística con los datos de entrenamiento\n",
    "# modelos\n",
    "from sklearn.linear_model import LogisticRegression\n",
    "\n",
    "modelo = LogisticRegression()\n",
    "modelo.fit(X_train, y_train)\n",
    "\n",
    "# prediccion\n",
    "y_pred = modelo.predict(X_test)\n",
    "\n",
    "# metricas\n",
    "from sklearn.metrics import confusion_matrix, accuracy_score, classification_report\n",
    "\n",
    "print('Matriz de confusión: \\n', confusion_matrix(y_test, y_pred))\n",
    "print('Exactitud: %.2f' % accuracy_score(y_test, y_pred))\n",
    "print('Reporte de clasificación: \\n', classification_report(y_test, y_pred))\n"
   ]
  },
  {
   "cell_type": "code",
   "execution_count": null,
   "id": "ad6fc5ed",
   "metadata": {},
   "outputs": [],
   "source": [
    "# ¿Que puede hacer para mejorar la predicción de los modelos?\n",
    "# Se puede mejorar la predicción de los modelos utilizando técnicas de selección de variables, como por ejemplo, la selección de variables por medio de la correlación.\n"
   ]
  }
 ],
 "metadata": {
  "kernelspec": {
   "display_name": "Python 3 (ipykernel)",
   "language": "python",
   "name": "python3"
  },
  "language_info": {
   "codemirror_mode": {
    "name": "ipython",
    "version": 3
   },
   "file_extension": ".py",
   "mimetype": "text/x-python",
   "name": "python",
   "nbconvert_exporter": "python",
   "pygments_lexer": "ipython3",
   "version": "3.10.11"
  }
 },
 "nbformat": 4,
 "nbformat_minor": 5
}
