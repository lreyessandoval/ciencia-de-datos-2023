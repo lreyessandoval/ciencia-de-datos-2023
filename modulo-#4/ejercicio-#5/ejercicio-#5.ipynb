{
 "cells": [
  {
   "cell_type": "code",
   "execution_count": 1,
   "metadata": {},
   "outputs": [
    {
     "name": "stdout",
     "output_type": "stream",
     "text": [
      "Reject the null hypothesis\n",
      "p-value: 0.02225218278641426\n"
     ]
    }
   ],
   "source": [
    "# Realizar una prueba de hipótesis para probar la validez de una\n",
    "# aseveración acerca de un parámetro de la población.\n",
    "\n",
    "# Caso 1\n",
    "# Se sabe que la media del consumo de energía eléctrica en cierta provincia es\n",
    "# de 721 kwh.\n",
    "# Una empresa tecnológica de la región cree que sus empleados consumen más\n",
    "# que el promedio provincial. Recoge información sobre los consumos de 20\n",
    "# empleados escogidos al azar, y obtiene los siguientes datos:\n",
    "\n",
    "# 710 774 814 768 823\n",
    "# 732 675 755 770 660\n",
    "# 654 757 736 677 797\n",
    "# 760 718 774 747 796\n",
    "\n",
    "# Si la distribución del consumo mensual de energía eléctrica es normal:\n",
    "\n",
    "# a) ¿Hay evidencias para afirmar que el promedio del consumo de energía\n",
    "# eléctrica hogareño de los empleados de la empresa es superior a la media\n",
    "# del consumo a nivel provincial? Usar un nivel de significación del 10%.\n",
    "\n",
    "import numpy as np\n",
    "from scipy import stats\n",
    "\n",
    "\n",
    "# thickness of windshields\n",
    "# null hypothesis value\n",
    "null_value = 721\n",
    "n = 20\n",
    "sample = np.array([710, 774, 814, 768, 823, 732, 675, 755, 770, 660,\n",
    "     654, 757, 736, 677, 797, 760, 718, 774, 747, 796])\n",
    "alpha = 0.1\n",
    "\n",
    "\n",
    "# one-sample t-test\n",
    "_, p_value = stats.ttest_1samp(\n",
    "    sample, null_value, alternative='greater'\n",
    ")\n",
    "\n",
    "# Check if the p-value is less than the significance level\n",
    "if p_value < alpha:\n",
    "    print(\"Reject the null hypothesis\")\n",
    "else:\n",
    "    print(\"Fail to reject the null hypothesis\")\n",
    "# Print the computed p-value\n",
    "print(\"p-value:\", p_value)\n",
    "\n"
   ]
  },
  {
   "cell_type": "code",
   "execution_count": 2,
   "metadata": {},
   "outputs": [
    {
     "name": "stdout",
     "output_type": "stream",
     "text": [
      "p-value: 0.02225218278641426\n"
     ]
    }
   ],
   "source": [
    "# b) ¿Cuál es el valor p de la decisión?\n",
    "\n",
    "# Print the computed p-value\n",
    "print(\"p-value:\", p_value)"
   ]
  },
  {
   "cell_type": "code",
   "execution_count": null,
   "metadata": {},
   "outputs": [],
   "source": [
    "# Pruebas de hipótesis.\n",
    "# Una prueba de hipótesis es un procedimiento estadístico que nos permite tomar una decisión (aceptar o rechazar la hipótesis nula) sobre una afirmación acerca de un parámetro poblacional.\n",
    "\n",
    "\n",
    "# Hipótesis nulas y alternativas\n",
    "# La hipótesis nula (H0) es una afirmación sobre un parámetro poblacional. Y las hipótesis alternativas (H1) son afirmaciones alternativas a H0.\n",
    "\n",
    "# El valor P\n",
    "# Corresponde a la probabilidad de obtener un valor de la estadística de prueba."
   ]
  }
 ],
 "metadata": {
  "kernelspec": {
   "display_name": "Python 3",
   "language": "python",
   "name": "python3"
  },
  "language_info": {
   "codemirror_mode": {
    "name": "ipython",
    "version": 3
   },
   "file_extension": ".py",
   "mimetype": "text/x-python",
   "name": "python",
   "nbconvert_exporter": "python",
   "pygments_lexer": "ipython3",
   "version": "3.10.11"
  },
  "orig_nbformat": 4
 },
 "nbformat": 4,
 "nbformat_minor": 2
}
