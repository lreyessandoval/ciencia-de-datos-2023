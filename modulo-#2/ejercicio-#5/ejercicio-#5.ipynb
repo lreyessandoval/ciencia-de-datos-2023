{
 "cells": [
  {
   "cell_type": "code",
   "execution_count": 30,
   "metadata": {},
   "outputs": [
    {
     "name": "stdout",
     "output_type": "stream",
     "text": [
      " B  I  N  G  O\n",
      " 1 17 38 46 63\n",
      " 7 18 40 49 64\n",
      " 8 21  0 52 67\n",
      "11 22 42 53 71\n",
      "14 26 43 58 74\n"
     ]
    }
   ],
   "source": [
    "# generar una carton de bingo\n",
    "# 1. generar una matriz de 5x5 con numeros aleatorios entre 1 y 90\n",
    "# 2. reemplazar los numeros repetidos por 0\n",
    "# 3. reemplazar los numeros que no estan en el rango 1-90 por 0\n",
    "\n",
    "\n",
    "import numpy as np\n",
    "import random\n",
    "import pandas as pd\n",
    "\n",
    "\n",
    "def generar_carton():\n",
    "    B = generar_numeros(1, 15, 5)\n",
    "    I = generar_numeros(16, 30, 5)\n",
    "    N = generar_numeros(31, 45, 5)\n",
    "    G = generar_numeros(46, 60, 5)\n",
    "    O = generar_numeros(61, 75, 5)\n",
    "\n",
    "\n",
    "    carton = np.concatenate((B, I, N, G, O), axis=0)\n",
    "\n",
    "    # transponer la matriz\n",
    "    carton = carton.T\n",
    "    # convertir la matriz en un dataframe\n",
    "    df = pd.DataFrame(carton)\n",
    "\n",
    "    # agregar los nombres de las columnas\n",
    "    df.columns = ['B', 'I', 'N', 'G', 'O']\n",
    "\n",
    "    df['N'][2] = '0'\n",
    "    return df\n",
    "\n",
    "\n",
    "def generar_numeros(desde, hasta, cantidad):\n",
    "    columna = np.random.randint(desde, hasta, (1, cantidad))\n",
    "    # verificar que no haya numeros repetidos\n",
    "    while len(np.unique(columna)) != cantidad:\n",
    "        columna = np.random.randint(desde, hasta, (1, cantidad))\n",
    "\n",
    "    return np.sort(columna)\n",
    "\n",
    "\n",
    "carton = generar_carton()\n",
    "\n",
    "# imprimir df sin indices\n",
    "print(carton.to_string(index=False))\n"
   ]
  }
 ],
 "metadata": {
  "kernelspec": {
   "display_name": "Python 3",
   "language": "python",
   "name": "python3"
  },
  "language_info": {
   "codemirror_mode": {
    "name": "ipython",
    "version": 3
   },
   "file_extension": ".py",
   "mimetype": "text/x-python",
   "name": "python",
   "nbconvert_exporter": "python",
   "pygments_lexer": "ipython3",
   "version": "3.10.11"
  },
  "orig_nbformat": 4
 },
 "nbformat": 4,
 "nbformat_minor": 2
}
