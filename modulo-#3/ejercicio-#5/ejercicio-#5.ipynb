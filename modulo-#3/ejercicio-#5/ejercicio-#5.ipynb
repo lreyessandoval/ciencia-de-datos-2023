{
 "cells": [
  {
   "cell_type": "code",
   "execution_count": 1,
   "metadata": {},
   "outputs": [
    {
     "name": "stdout",
     "output_type": "stream",
     "text": [
      "       country  year         pop continent  lifeExp   gdpPercap\n",
      "0  Afghanistan  1952   8425333.0      Asia   28.801  779.445314\n",
      "1  Afghanistan  1957   9240934.0      Asia   30.332  820.853030\n",
      "2  Afghanistan  1962  10267083.0      Asia   31.997  853.100710\n"
     ]
    }
   ],
   "source": [
    "# Para este ejercicio, primero debe obtener los datos de gapminder de la URL\n",
    "# de carpintería de software y cargarlos como marco de datos de pandas. Los\n",
    "# datos de gapminder tienen información sobre la vida útil, la población y el pib\n",
    "# de los países durante varios años.\n",
    "#\n",
    "#Para eso use el siguiente código:\n",
    "#gapminder_csv_url ='http://bit.ly/2cLzoxH'\n",
    "#gapminder = pandas.read_csv(gapminder_csv_url)\n",
    "\n",
    "import seaborn as sns\n",
    "import matplotlib.pyplot as plt\n",
    "import numpy as np\n",
    "import pandas as pd\n",
    "import warnings\n",
    "\n",
    "\n",
    "gapminder_csv_url ='http://bit.ly/2cLzoxH'\n",
    "gapminder = pd.read_csv(gapminder_csv_url)\n",
    "print(gapminder.head(3))\n",
    "\n"
   ]
  },
  {
   "cell_type": "code",
   "execution_count": 2,
   "metadata": {},
   "outputs": [
    {
     "name": "stdout",
     "output_type": "stream",
     "text": [
      "             year           pop      lifeExp      gdpPercap\n",
      "count  1704.00000  1.704000e+03  1704.000000    1704.000000\n",
      "mean   1979.50000  2.960121e+07    59.474439    7215.327081\n",
      "std      17.26533  1.061579e+08    12.917107    9857.454543\n",
      "min    1952.00000  6.001100e+04    23.599000     241.165876\n",
      "25%    1965.75000  2.793664e+06    48.198000    1202.060309\n",
      "50%    1979.50000  7.023596e+06    60.712500    3531.846988\n",
      "75%    1993.25000  1.958522e+07    70.845500    9325.462346\n",
      "max    2007.00000  1.318683e+09    82.603000  113523.132900\n"
     ]
    }
   ],
   "source": [
    "#1. Realice un resumen estadístico de sus datos.\n",
    "\n",
    "print(gapminder.describe())\n"
   ]
  },
  {
   "cell_type": "code",
   "execution_count": 5,
   "metadata": {},
   "outputs": [
    {
     "data": {
      "text/plain": [
       "<pandas.core.groupby.generic.DataFrameGroupBy object at 0x0000025A1A91F550>"
      ]
     },
     "execution_count": 5,
     "metadata": {},
     "output_type": "execute_result"
    }
   ],
   "source": [
    "#2. Agrupe por la variable “año”. Comente respecto al resultado al usar groupby.\n",
    "gapminder.groupby('year')\n",
    "\n",
    "# el resultado es un objeto de tipo DataFrameGroupBy, que es un objeto iterable\n",
    "# que contiene los grupos y sus nombres. Para acceder a los grupos se puede\n",
    "# iterar sobre el objeto o usar el método get_group().\n",
    "\n",
    "\n"
   ]
  },
  {
   "cell_type": "code",
   "execution_count": 6,
   "metadata": {},
   "outputs": [
    {
     "name": "stdout",
     "output_type": "stream",
     "text": [
      "       pop                           lifeExp                     gdpPercap   \n",
      "     count          mean      median   count       mean   median     count   \n",
      "year                                                                         \n",
      "1952   142  1.695040e+07   3943953.0     142  49.057620  45.1355       142  \\\n",
      "1957   142  1.876341e+07   4282942.0     142  51.507401  48.3605       142   \n",
      "1962   142  2.042101e+07   4686039.5     142  53.609249  50.8810       142   \n",
      "1967   142  2.265830e+07   5170175.5     142  55.678290  53.8250       142   \n",
      "1972   142  2.518998e+07   5877996.5     142  57.647386  56.5300       142   \n",
      "1977   142  2.767638e+07   6404036.5     142  59.570157  59.6720       142   \n",
      "1982   142  3.020730e+07   7007320.0     142  61.533197  62.4415       142   \n",
      "1987   142  3.303857e+07   7774861.5     142  63.212613  65.8340       142   \n",
      "1992   142  3.599092e+07   8688686.5     142  64.160338  67.7030       142   \n",
      "1997   142  3.883947e+07   9735063.5     142  65.014676  69.3940       142   \n",
      "2002   142  4.145759e+07  10372918.5     142  65.694923  70.8255       142   \n",
      "2007   142  4.402122e+07  10517531.0     142  67.007423  71.9355       142   \n",
      "\n",
      "                                 \n",
      "              mean       median  \n",
      "year                             \n",
      "1952   3725.276046  1968.528344  \n",
      "1957   4299.408345  2173.220291  \n",
      "1962   4725.812342  2335.439533  \n",
      "1967   5483.653047  2678.334740  \n",
      "1972   6770.082815  3339.129407  \n",
      "1977   7313.166421  3798.609244  \n",
      "1982   7518.901673  4216.228428  \n",
      "1987   7900.920218  4280.300366  \n",
      "1992   8158.608521  4386.085502  \n",
      "1997   9090.175363  4781.825478  \n",
      "2002   9917.848365  5319.804524  \n",
      "2007  11680.071820  6124.371108  \n"
     ]
    }
   ],
   "source": [
    "#3. Ahora obtenga la suma (la cantidad), la media y la mediana para cada grupo, es decir, por año.\n",
    "\n",
    "\n",
    "# fueron omitidas las columnas que no son numéricas...\n",
    "print(gapminder[['year','pop','lifeExp','gdpPercap']].groupby('year').agg(['count','mean','median']))\n"
   ]
  },
  {
   "cell_type": "code",
   "execution_count": 7,
   "metadata": {},
   "outputs": [
    {
     "name": "stdout",
     "output_type": "stream",
     "text": [
      "        country  year         pop continent  lifeExp    gdpPercap\n",
      "3   Afghanistan  1967  11537966.0      Asia   34.020   836.197138\n",
      "15      Albania  1967   1984060.0    Europe   66.220  2760.196931\n",
      "27      Algeria  1967  12760499.0    Africa   51.407  3246.991771\n",
      "\n",
      "    country  year        pop continent  lifeExp    gdpPercap\n",
      "15  Albania  1967  1984060.0    Europe    66.22  2760.196931\n"
     ]
    }
   ],
   "source": [
    "#4 ¿Sabías que en 1967 en Chile se inaugura el Aeropuerto Internacional Arturo Merino Benítez? Usando estos datos se puede especificar un año\n",
    "# y obtener un marco de datos más pequeño para el año usando la función get_group(). Por ejemplo, podemos obtener el marco de datos\n",
    "# agrupados para el año 1967. Comenta tus resultados. Escoge otro año explicando el porqué de la elección y qué resultados obtuviste.\n",
    "\n",
    "print(gapminder.groupby(['year']).get_group((1967)).head(3))\n",
    "print()\n",
    "print(gapminder.groupby(['year','country']).get_group((1967, 'Albania')).head(3))\n",
    "\n"
   ]
  },
  {
   "cell_type": "code",
   "execution_count": 9,
   "metadata": {},
   "outputs": [
    {
     "name": "stdout",
     "output_type": "stream",
     "text": [
      "           country  gdpPercap  lifeExp  pop  year\n",
      "continent                                        \n",
      "Africa         624        624      624  624   624\n",
      "Americas       300        300      300  300   300\n",
      "Asia           396        396      396  396   396\n",
      "Europe         360        360      360  360   360\n",
      "Oceania         24         24       24   24    24\n",
      "\n",
      "          count          mean\n",
      "            pop           pop\n",
      "continent                    \n",
      "Africa      624  9.916003e+06\n",
      "Americas    300  2.450479e+07\n",
      "Asia        396  7.703872e+07\n",
      "Europe      360  1.716976e+07\n",
      "Oceania      24  8.874672e+06\n"
     ]
    }
   ],
   "source": [
    "# Ahora con los datos anteriores construya tablas pivote según las siguientes instrucciones:\n",
    "# 1. Construya una tabla fijando “continent”, con las funciones vistas en clase\n",
    "\n",
    "print(gapminder.pivot_table(index='continent',aggfunc='count'))\n",
    "print()\n",
    "print(gapminder.pivot_table(index='continent',values='pop', aggfunc=['count','mean']))\n",
    "\n",
    "\n"
   ]
  },
  {
   "cell_type": "code",
   "execution_count": 10,
   "metadata": {},
   "outputs": [
    {
     "name": "stdout",
     "output_type": "stream",
     "text": [
      "           count                                       mean                \n",
      "continent Africa Americas Asia Europe Oceania        Africa     Americas   \n",
      "year                                                                       \n",
      "1952          52       25   33     30       2  4.570010e+06  13806097.84  \\\n",
      "1957          52       25   33     30       2  5.093033e+06  15478156.64   \n",
      "1962          52       25   33     30       2  5.702247e+06  17330810.16   \n",
      "1967          52       25   33     30       2  6.447875e+06  19229864.92   \n",
      "1972          52       25   33     30       2  7.305376e+06  21175368.40   \n",
      "1977          52       25   33     30       2  8.328097e+06  23122707.96   \n",
      "1982          52       25   33     30       2  9.602857e+06  25211636.80   \n",
      "1987          52       25   33     30       2  1.105450e+07  27310158.84   \n",
      "1992          52       25   33     30       2  1.267464e+07  29570964.16   \n",
      "1997          52       25   33     30       2  1.430448e+07  31876016.40   \n",
      "2002          52       25   33     30       2  1.603315e+07  33990910.48   \n",
      "2007          52       25   33     30       2  1.787576e+07  35954847.36   \n",
      "\n",
      "                                                   \n",
      "continent          Asia        Europe     Oceania  \n",
      "year                                               \n",
      "1952       4.228356e+07  1.393736e+07   5343003.0  \n",
      "1957       4.735699e+07  1.459635e+07   5970988.0  \n",
      "1962       5.140476e+07  1.534517e+07   6641759.0  \n",
      "1967       5.774736e+07  1.603930e+07   7300207.0  \n",
      "1972       6.518098e+07  1.668784e+07   8053050.0  \n",
      "1977       7.225799e+07  1.723882e+07   8619500.0  \n",
      "1982       7.909502e+07  1.770890e+07   9197425.0  \n",
      "1987       8.700669e+07  1.810314e+07   9787207.5  \n",
      "1992       9.494825e+07  1.860476e+07  10459825.5  \n",
      "1997       1.025238e+08  1.896480e+07  11120715.0  \n",
      "2002       1.091455e+08  1.927413e+07  11727414.5  \n",
      "2007       1.155138e+08  1.953662e+07  12274973.5  \n"
     ]
    }
   ],
   "source": [
    "# 2. Realice una tabla de doble entrada, fijando “continent” y “year”. Comente sus resultados.\n",
    "\n",
    "print(gapminder.pivot_table(index='year',columns='continent',values='pop', aggfunc=['count','mean']))\n",
    "\n",
    "\n"
   ]
  },
  {
   "cell_type": "code",
   "execution_count": 11,
   "metadata": {},
   "outputs": [
    {
     "name": "stdout",
     "output_type": "stream",
     "text": [
      "                   mean                                                     \n",
      "continent        Africa     Americas          Asia        Europe     Oceania\n",
      "year                                                                        \n",
      "1952       4.570010e+06  13806097.84  4.228356e+07  1.393736e+07   5343003.0\n",
      "1957       5.093033e+06  15478156.64  4.735699e+07  1.459635e+07   5970988.0\n",
      "1962       5.702247e+06  17330810.16  5.140476e+07  1.534517e+07   6641759.0\n",
      "1967       6.447875e+06  19229864.92  5.774736e+07  1.603930e+07   7300207.0\n",
      "1972       7.305376e+06  21175368.40  6.518098e+07  1.668784e+07   8053050.0\n",
      "1977       8.328097e+06  23122707.96  7.225799e+07  1.723882e+07   8619500.0\n",
      "1982       9.602857e+06  25211636.80  7.909502e+07  1.770890e+07   9197425.0\n",
      "1987       1.105450e+07  27310158.84  8.700669e+07  1.810314e+07   9787207.5\n",
      "1992       1.267464e+07  29570964.16  9.494825e+07  1.860476e+07  10459825.5\n",
      "1997       1.430448e+07  31876016.40  1.025238e+08  1.896480e+07  11120715.0\n",
      "2002       1.603315e+07  33990910.48  1.091455e+08  1.927413e+07  11727414.5\n",
      "2007       1.787576e+07  35954847.36  1.155138e+08  1.953662e+07  12274973.5\n"
     ]
    }
   ],
   "source": [
    "# 3. Con las variables anteriores, obtenga el promedio de la variable “pop”.\n",
    "\n",
    "print(gapminder.pivot_table(index='year',columns='continent',values='pop', aggfunc=['mean']))\n",
    "\n"
   ]
  },
  {
   "cell_type": "code",
   "execution_count": 12,
   "metadata": {},
   "outputs": [
    {
     "data": {
      "image/png": "[encoded data removed]",
      "text/plain": [
       "<Figure size 1000x500 with 1 Axes>"
      ]
     },
     "metadata": {},
     "output_type": "display_data"
    }
   ],
   "source": [
    "# 4. Obtenga un gráfico de barras del punto 3, comente sus resultados.\n",
    "\n",
    "gapminder.pivot_table(index='year',columns='continent',values='pop', aggfunc=['mean']).plot(kind='bar',figsize=(10,5))\n",
    "plt.show()\n",
    "\n"
   ]
  }
 ],
 "metadata": {
  "kernelspec": {
   "display_name": "Python 3",
   "language": "python",
   "name": "python3"
  },
  "language_info": {
   "codemirror_mode": {
    "name": "ipython",
    "version": 3
   },
   "file_extension": ".py",
   "mimetype": "text/x-python",
   "name": "python",
   "nbconvert_exporter": "python",
   "pygments_lexer": "ipython3",
   "version": "3.10.11"
  },
  "orig_nbformat": 4
 },
 "nbformat": 4,
 "nbformat_minor": 2
}
