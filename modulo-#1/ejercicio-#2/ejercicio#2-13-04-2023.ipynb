{
 "cells": [
  {
   "cell_type": "code",
   "execution_count": 4,
   "metadata": {},
   "outputs": [
    {
     "name": "stdout",
     "output_type": "stream",
     "text": [
      "¡Hola Mundo!\n"
     ]
    }
   ],
   "source": [
    "\"\"\" #1\n",
    "Escribir un programa que almacene la cadena ¡Hola Mundo! en una\n",
    "variable y luego muestre por pantalla el contenido de la variable.\n",
    "\"\"\"\n",
    "\n",
    "mensaje = \"¡Hola Mundo!\"\n",
    "print(mensaje)\n"
   ]
  },
  {
   "cell_type": "code",
   "execution_count": 10,
   "metadata": {},
   "outputs": [
    {
     "name": "stdout",
     "output_type": "stream",
     "text": [
      "El pago correspondiente es de: 2400000\n"
     ]
    }
   ],
   "source": [
    "\"\"\" #2\n",
    "Escribir un programa que pregunte al usuario por el número de horas\n",
    "trabajadas y el pago por hora. Después debe mostrar por pantalla el\n",
    "pago que le corresponde.\n",
    "\"\"\"\n",
    "\n",
    "horas_trabajadas = float(input(\"Ingrese el número de horas trabajadas: \"))\n",
    "pago_por_hora = float(input(\"Ingrese el pago por hora: \"))\n",
    "\n",
    "pago_total = horas_trabajadas * pago_por_hora\n",
    "\n",
    "print(f\"El pago correspondiente es de: {pago_total:.0f}\")\n",
    "\n"
   ]
  },
  {
   "cell_type": "code",
   "execution_count": 6,
   "metadata": {},
   "outputs": [
    {
     "name": "stdout",
     "output_type": "stream",
     "text": [
      "Precio habitual del kilo de pan: $ 1200\n",
      "Descuento por no ser fresco:  60.0 %\n",
      "Costo total de los kilos de pan vendidos: $ 28800.0\n"
     ]
    }
   ],
   "source": [
    "\"\"\" #3\n",
    "Una panadería vende el pan a $1200 cada Kg. El pan que no es el día\n",
    "tiene un descuento del 60%. Escribe un programa que comience\n",
    "leyendo el número de Kilos vendidos que no son del día. Después tu\n",
    "programa debe mostrar el precio habitual del kilo de pan, el descuento\n",
    "que se le hace por no ser fresco y el costo final total.\n",
    "\"\"\"\n",
    "precio_kilo = 1200\n",
    "descuento = 0.6\n",
    "\n",
    "kilos_no_frescos = float(input(\"Ingrese el número de kilos de pan no fresco vendidos: \"))\n",
    "\n",
    "costo_total = kilos_no_frescos * precio_kilo * (1 - descuento)\n",
    "\n",
    "print(\"Precio habitual del kilo de pan: $\", precio_kilo)\n",
    "print(\"Descuento por no ser fresco: \", descuento * 100, \"%\")\n",
    "print(\"Costo total de los kilos de pan vendidos: $\", costo_total)"
   ]
  },
  {
   "cell_type": "code",
   "execution_count": 8,
   "metadata": {},
   "outputs": [
    {
     "name": "stdout",
     "output_type": "stream",
     "text": [
      "El sueldo del trabajador es: 218499.99999999997\n"
     ]
    }
   ],
   "source": [
    "\"\"\"#4\n",
    "Dado el sueldo de un trabajador, aplique un aumento del 15% si su\n",
    "sueldo es inferior a $200.000. Imprima el resultado.\n",
    "\"\"\"\n",
    "sueldo = float(input(\"Ingrese el sueldo del trabajador: \"))\n",
    "\n",
    "if sueldo < 200000:\n",
    "    sueldo_aumentado = sueldo * 1.15\n",
    "else:\n",
    "    sueldo_aumentado = sueldo\n",
    "\n",
    "print(\"El sueldo del trabajador es:\", sueldo_aumentado)"
   ]
  },
  {
   "cell_type": "code",
   "execution_count": 14,
   "metadata": {},
   "outputs": [
    {
     "name": "stdout",
     "output_type": "stream",
     "text": [
      "El monto final después de 3.0 años es: 1685913.6000000006\n"
     ]
    }
   ],
   "source": [
    "\"\"\"#5\n",
    "Se coloca un capital C, a un interés I (que oscila entre 0 y 100), durante\n",
    "M años y se desea saber en cuánto se habrá convertido ese capital en\n",
    "“M” años, sabiendo que es acumulativo.\n",
    "\"\"\"\n",
    "\n",
    "capital = float(input(\"Ingrese el capital inicial: \"))\n",
    "tasa = float(input(\"Ingrese la tasa de interés anual (%): \"))\n",
    "años = float(input(\"Ingrese el número de años: \"))\n",
    "\n",
    "monto_final = capital * (1 + tasa/100)**años\n",
    "\n",
    "print(\"El monto final después de\", años, \"años es:\", monto_final)\n"
   ]
  },
  {
   "cell_type": "code",
   "execution_count": 1,
   "metadata": {},
   "outputs": [
    {
     "name": "stdout",
     "output_type": "stream",
     "text": [
      "50\n"
     ]
    }
   ],
   "source": [
    "\"\"\"#6\n",
    "Escriba una función que muestre por pantalla el resultado de multiplicar\n",
    "un número por 10.\n",
    "\"\"\"\n",
    "def multiplicar_por_10(numero):\n",
    "    resultado = numero * 10\n",
    "    print(resultado)\n",
    "\n",
    "multiplicar_por_10(5)"
   ]
  },
  {
   "cell_type": "code",
   "execution_count": 16,
   "metadata": {},
   "outputs": [
    {
     "name": "stdout",
     "output_type": "stream",
     "text": [
      "****************************************************************************************************\n",
      "****************************************************************************************************\n",
      "****************************************************************************************************\n"
     ]
    }
   ],
   "source": [
    "\"\"\"#7\n",
    "Desarrolle un programa que pida la anchura y altura de un rectángulo y\n",
    "lo dibuje con caracteres producto (*)\n",
    "\"\"\"\n",
    "altura = int(input(\"Ingrese la altura del rectángulo: \"))\n",
    "ancho = int(input(\"Ingrese la anchura del rectángulo: \"))\n",
    "\n",
    "for i in range(altura):\n",
    "    for j in range(ancho):\n",
    "        print(\"*\", end=\"\")\n",
    "    print()"
   ]
  },
  {
   "cell_type": "code",
   "execution_count": 5,
   "metadata": {},
   "outputs": [
    {
     "name": "stdout",
     "output_type": "stream",
     "text": [
      "10\n",
      "24\n"
     ]
    }
   ],
   "source": [
    "\"\"\"#8\n",
    "Escribir una función sum() y una función multip() que sumen y\n",
    "multipliquen respectivamente todos los números de una lista. Por\n",
    "ejemplo: sum([1,2,3,4]) debería devolver 10 y\n",
    "multip([1,2,3,4]) debería devolver 24.\n",
    "\"\"\"\n",
    "#funcion sum\n",
    "def sum(lista):\n",
    "    suma = 0\n",
    "    for num in lista:\n",
    "        suma += num\n",
    "    return suma\n",
    "\n",
    "#funcion multip\n",
    "def multip(lista):\n",
    "    producto = 1\n",
    "    for num in lista:\n",
    "        producto *= num\n",
    "    return producto\n",
    "\n",
    "#test\n",
    "print(sum([1,2,3,4]))\n",
    "print(multip([1,2,3,4]))\n"
   ]
  },
  {
   "cell_type": "code",
   "execution_count": 9,
   "metadata": {},
   "outputs": [
    {
     "data": {
      "text/plain": [
       "123"
      ]
     },
     "execution_count": 9,
     "metadata": {},
     "output_type": "execute_result"
    }
   ],
   "source": [
    "\"\"\"#9\n",
    "Crear una función que tome una lista de dígitos y devuelva al número al\n",
    "que corresponden. Por ejemplo [1,2,3] corresponde a el número\n",
    "ciento veintitrés (123) . (Puede utilizar la función reduce())\n",
    "\"\"\"\n",
    "\n",
    "from functools import reduce\n",
    "\n",
    "def lista_a_numero(lista):\n",
    "    return reduce(lambda x, y: x*10 + y, lista)\n",
    "\n",
    "#test \n",
    "lista_a_numero([1,2,3])"
   ]
  },
  {
   "cell_type": "code",
   "execution_count": null,
   "metadata": {},
   "outputs": [],
   "source": [
    "\"\"\" \n",
    "¿Qué son las variables?\n",
    "Una variable es un espacio en la memoria utilizado para almacenar un valor, como un número, una cadena de texto, una lista, un objeto, etc.\n",
    "\n",
    "¿Tipos de datos en Python?\n",
    "Los tipos de datos de Python son: \n",
    "-booleanos, \n",
    "-numéricos (enteros, punto flotante y complejos)\n",
    "-cadenas de caracteres\n",
    "-Secuencias: Los tipos list, tuple y range\n",
    "-Mapas: El tipo dict\n",
    "-Conjuntos: El tipo set\n",
    "-Iteradores\n",
    "-Clases\n",
    "-Instancias\n",
    "-Excepciones\n",
    "\n",
    "\n",
    "Control de flujos.\n",
    "El control de flujo se refiere a las estructuras que permiten controlar el flujo de ejecución de un programa, decidiendo qué se ejecuta y en qué orden.\n",
    "Algunas estructuras de control de flujo más comunes en Python son las siguientes:\n",
    "\n",
    "If/else: permite al programador ejecutar ciertas instrucciones sólo si se cumple una condición. Si la condición no se cumple, se ejecutan otras instrucciones.\n",
    "\n",
    "Bucles: permiten al programador ejecutar un bloque de código varias veces, hasta que se cumpla una condición. Los bucles más comunes en Python son:\n",
    "\n",
    "a. while: se ejecuta el bloque de código mientras se cumpla una condición.\n",
    "\n",
    "b. for: se utiliza para iterar sobre una secuencia de elementos (como una lista o un diccionario).\n",
    "\n",
    "Instrucciones break y continue: permiten al programador controlar la ejecución de un bucle. La instrucción break termina el bucle por completo, mientras que la instrucción continue salta una iteración del bucle.\n",
    "\n",
    "Try/except: permite al programador manejar excepciones y errores en el código de una manera controlada, evitando que el programa se detenga abruptamente.\n",
    "\n",
    "Funciones: permiten al programador dividir el código en bloques más pequeños y reutilizables, facilitando el control de flujo y la organización del código.\n",
    "\n",
    "\n",
    "\"\"\""
   ]
  }
 ],
 "metadata": {
  "kernelspec": {
   "display_name": "Python 3",
   "language": "python",
   "name": "python3"
  },
  "language_info": {
   "codemirror_mode": {
    "name": "ipython",
    "version": 3
   },
   "file_extension": ".py",
   "mimetype": "text/x-python",
   "name": "python",
   "nbconvert_exporter": "python",
   "pygments_lexer": "ipython3",
   "version": "3.10.11"
  },
  "orig_nbformat": 4
 },
 "nbformat": 4,
 "nbformat_minor": 2
}
