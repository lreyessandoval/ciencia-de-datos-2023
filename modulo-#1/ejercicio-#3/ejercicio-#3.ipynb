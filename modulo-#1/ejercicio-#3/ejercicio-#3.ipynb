{
 "cells": [
  {
   "cell_type": "code",
   "execution_count": 32,
   "metadata": {},
   "outputs": [],
   "source": [
    "L = [\"almacenar\", 8, \"a\", [1,2,3], True,(0,0,1), 85.7]\n",
    "\n",
    "#1a. ¿Cuál de estos elementos pertenece a ella?\n",
    "\n",
    "85.7, True, [1,2,3], \"a\"\n",
    "\n"
   ]
  },
  {
   "cell_type": "code",
   "execution_count": 91,
   "metadata": {},
   "outputs": [
    {
     "name": "stdout",
     "output_type": "stream",
     "text": [
      "El elemento (0,0,1) NO se encuentra en la Lista\n"
     ]
    }
   ],
   "source": [
    "#1b. ¿Cómo obtener la posición en que se encuentra el elemento (0,0,1)?\n",
    "L = [\"almacenar\", 8, \"a\", [1,2,3], True,(0,0,1), 85.7]\n",
    "\n",
    "try:\n",
    "    index = L.index((0,0,1))\n",
    "    print(f\"El elemento (0,0,1) se encuentra en la posición {index}\")\n",
    "except ValueError:\n",
    "    print(f\"El elemento (0,0,1) NO se encuentra en la Lista\")\n",
    "\n",
    "\n",
    "\n",
    "    "
   ]
  },
  {
   "cell_type": "code",
   "execution_count": 94,
   "metadata": {},
   "outputs": [
    {
     "name": "stdout",
     "output_type": "stream",
     "text": [
      "Lista actual: ['almacenar', 8, 'a', [1, 2, 3], True, (0, 0, 1), 85.7]\n",
      "Lista sin el último elemento: ['almacenar', 8, 'a', [1, 2, 3], True, (0, 0, 1)]\n"
     ]
    }
   ],
   "source": [
    "#1c. ¿Cómo eliminar el último elemento, independientemente de cuántos elementos haya en la lista?\n",
    "L = [\"almacenar\", 8, \"a\", [1,2,3], True,(0,0,1), 85.7]\n",
    "print (f\"Lista actual: {L}\")\n",
    "L.pop() \n",
    "print (f\"Lista sin el último elemento: {L}\")\n",
    "\n"
   ]
  },
  {
   "cell_type": "code",
   "execution_count": 96,
   "metadata": {},
   "outputs": [
    {
     "name": "stdout",
     "output_type": "stream",
     "text": [
      "1\n"
     ]
    }
   ],
   "source": [
    "#1d. Utilizar una operación para contar cuántas veces aparece el string “a”. ¿Cuál será el resultado?\n",
    "L = [\"almacenar\", 8, \"a\", [1,2,3], True,(0,0,1), 85.7]\n",
    "print (L.count(True))\n"
   ]
  },
  {
   "cell_type": "code",
   "execution_count": 97,
   "metadata": {},
   "outputs": [
    {
     "name": "stdout",
     "output_type": "stream",
     "text": [
      "La palabra Oso SI es un palíndromo\n"
     ]
    }
   ],
   "source": [
    "#2. Escribir un programa que pida al usuario una palabra y muestre por pantalla si es un palíndromo.\n",
    "palabra = input(\"Ingrese una palabra: \")\n",
    "\n",
    "palabra_list = list(palabra.lower())\n",
    "palabra_invertida = palabra_list.copy()\n",
    "palabra_invertida.reverse()\n",
    "\n",
    "if (palabra_list == palabra_invertida): \n",
    "    print(f\"La palabra {palabra} SI es un palíndromo\")\n",
    "else:\n",
    "    print(f\"La palabra {palabra} NO es un palíndromo\")\n"
   ]
  },
  {
   "cell_type": "code",
   "execution_count": 100,
   "metadata": {},
   "outputs": [
    {
     "name": "stdout",
     "output_type": "stream",
     "text": [
      "1, 2, 3, 4, 5, 6, 7, 8, 9, 10\n",
      "10, 9, 8, 7, 6, 5, 4, 3, 2, 1\n"
     ]
    }
   ],
   "source": [
    "#3. Escribir un programa que almacene en una lista los números del 1 al 10 y los muestre por pantalla en orden inverso separados por comas.\n",
    "L = [1,2,3,4,5,6,7,8,9,10]\n",
    "print(*L, sep = \", \")\n",
    "\n",
    "L.reverse()\n",
    "print(*L, sep = \", \")\n"
   ]
  },
  {
   "cell_type": "code",
   "execution_count": 101,
   "metadata": {},
   "outputs": [
    {
     "name": "stdout",
     "output_type": "stream",
     "text": [
      "En Matemáticas has sacado 5\n",
      "En Física has sacado 4\n",
      "En Química has sacado 6\n",
      "En Historia has sacado 4\n",
      "En Lengua has sacado 5\n"
     ]
    }
   ],
   "source": [
    "#4. Escribir un programa que almacene las asignaturas de un curso (por ejemplo Matemáticas, Física, Química, Historia y Lengua) en una lista, \n",
    "# pregunte al usuario la nota que ha sacado en cada asignatura, \n",
    "# y después las muestre por pantalla con el mensaje En <asignatura> has sacado <nota> donde <asignatura> es cada una de las asignaturas de la lista \n",
    "# y <nota> cada una de las correspondientes notas introducidas por el usuario.\n",
    "L=[[\"Matemáticas\", 0], [\"Física\",0], [\"Química\",0], [\"Historia\",0], [\"Lengua\",0]]\n",
    "\n",
    "#pide las notas\n",
    "for asignatura in L:\n",
    "    asignatura[1] = input(f\"¿Qué nota sacaste en {asignatura[0]}? \")\n",
    "\n",
    "#despliega las notas\n",
    "for asignatura in L:\n",
    "    print (f\"En {asignatura[0]} has sacado {asignatura[1]}\")\n"
   ]
  },
  {
   "cell_type": "code",
   "execution_count": 128,
   "metadata": {},
   "outputs": [
    {
     "name": "stdout",
     "output_type": "stream",
     "text": [
      "El producto de las matrices A y B es:\n",
      "[2, 5]\n",
      "[2, 11]\n"
     ]
    }
   ],
   "source": [
    "#5. Escribir un programa que almacene las matrices en una lista y muestre por pantalla su producto.\n",
    "#Nota: Para representar matrices mediante listas usar listas anidadas, representando cada vector fila en una lista.\n",
    "\n",
    "A = [[1,2,3],[4,5,6]]\n",
    "\n",
    "B = [[-1,0],[0,1],[1,1]]\n",
    "\n",
    "C = [[0,0],[0,0]]\n",
    "\n",
    "print(\"El producto de las matrices A y B es:\")\n",
    "for i in range(len(A)):\n",
    "    for j in range(len(B[0])):\n",
    "        for k in range(len(B)):\n",
    "            C[i][j] += A[i][k] * B[k][j]\n",
    "\n",
    "for fila in C:\n",
    "    print(fila)\n"
   ]
  },
  {
   "cell_type": "code",
   "execution_count": 117,
   "metadata": {},
   "outputs": [
    {
     "name": "stdout",
     "output_type": "stream",
     "text": [
      "El símbolo de la divisa Euro es €\n"
     ]
    }
   ],
   "source": [
    "#6. Escribir un programa que guarde en una variable el diccionario {'Euro':'€', 'Dollar':'$', 'Yen':'¥'}, pregunte al usuario por una divisa y muestre su símbolo o un mensaje de aviso si la divisa no está en el diccionario.\n",
    "\n",
    "money_list = {'Euro':'€', 'Dollar':'$', 'Yen':'¥'}\n",
    "divisa = input(\"Ingrese una divisa: \")\n",
    "\n",
    "if divisa in money_list:\n",
    "    print(f\"El símbolo de la divisa {divisa} es {money_list[divisa]}\")\n",
    "else:\n",
    "    print(f\"La divisa {divisa} no está en la lista\")\n",
    "    "
   ]
  },
  {
   "cell_type": "code",
   "execution_count": 124,
   "metadata": {},
   "outputs": [
    {
     "name": "stdout",
     "output_type": "stream",
     "text": [
      "14 de abril de 2023\n"
     ]
    }
   ],
   "source": [
    "#7. Escribir un programa que pregunte una fecha en formato dd/mm/aaaa y muestre por pantalla la misma fecha en formato dd de <mes> de aaaa donde <mes> es el nombre del mes.\n",
    "\n",
    "from datetime import datetime\n",
    "MESES = [\"enero\", \"febrero\", \"marzo\", \"abril\", \"mayo\", \"junio\", \"julio\", \"agosto\", \"septiembre\", \"octubre\", \"noviembre\", \"diciembre\"]\n",
    "try:\n",
    "    fecha = input(\"Ingrese una fecha en formato dd/mm/aaaa: \")\n",
    "    fecha = datetime.strptime(fecha, \"%d/%m/%Y\")\n",
    "    \n",
    "    print(f\"{fecha.day} de {MESES[fecha.month-1]} de {fecha.year}\")\n",
    "\n",
    "except ValueError:\n",
    "    print(\"La fecha ingresada no es válida\")\n"
   ]
  },
  {
   "cell_type": "code",
   "execution_count": null,
   "metadata": {},
   "outputs": [],
   "source": [
    "\"\"\"\n",
    "- ¿Sabemos que es una estructura de datos?\n",
    "Una estructura de datos es un tipo de objeto que se utiliza para almacenar y organizar datos de manera eficiente.\n",
    "\n",
    "- ¿Conocemos los conceptos de Listas, Tuplas, etc.?\n",
    "Las listas son estructuras de datos mutables y las tuplas son estructuras de datos inmutables. Las listas se representan con [] y las tuplas con (). \n",
    "Las listas son más flexibles que las tuplas, ya que las tuplas no pueden modificarse una vez creadas.\n",
    "\n",
    "\"\"\""
   ]
  }
 ],
 "metadata": {
  "kernelspec": {
   "display_name": "Python 3",
   "language": "python",
   "name": "python3"
  },
  "language_info": {
   "codemirror_mode": {
    "name": "ipython",
    "version": 3
   },
   "file_extension": ".py",
   "mimetype": "text/x-python",
   "name": "python",
   "nbconvert_exporter": "python",
   "pygments_lexer": "ipython3",
   "version": "3.10.11"
  },
  "orig_nbformat": 4
 },
 "nbformat": 4,
 "nbformat_minor": 2
}
