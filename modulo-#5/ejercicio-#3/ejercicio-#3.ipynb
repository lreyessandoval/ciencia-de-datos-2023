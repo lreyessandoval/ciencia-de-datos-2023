{
 "cells": [
  {
   "cell_type": "code",
   "execution_count": 1,
   "metadata": {},
   "outputs": [],
   "source": [
    "# Elaborar un modelo predictivo de regresión lineal múltiple\n",
    "# aplicando técnicas de selección de modelo y utilizando el lenguaje\n",
    "# Python para resolver un problema.\n"
   ]
  },
  {
   "cell_type": "code",
   "execution_count": 3,
   "metadata": {},
   "outputs": [
    {
     "data": {
      "text/html": [
       "<div>\n",
       "<style scoped>\n",
       "    .dataframe tbody tr th:only-of-type {\n",
       "        vertical-align: middle;\n",
       "    }\n",
       "\n",
       "    .dataframe tbody tr th {\n",
       "        vertical-align: top;\n",
       "    }\n",
       "\n",
       "    .dataframe thead th {\n",
       "        text-align: right;\n",
       "    }\n",
       "</style>\n",
       "<table border=\"1\" class=\"dataframe\">\n",
       "  <thead>\n",
       "    <tr style=\"text-align: right;\">\n",
       "      <th></th>\n",
       "      <th>tv</th>\n",
       "      <th>radio</th>\n",
       "      <th>periodico</th>\n",
       "      <th>ventas</th>\n",
       "    </tr>\n",
       "  </thead>\n",
       "  <tbody>\n",
       "    <tr>\n",
       "      <th>0</th>\n",
       "      <td>230.1</td>\n",
       "      <td>37.8</td>\n",
       "      <td>69.2</td>\n",
       "      <td>22.1</td>\n",
       "    </tr>\n",
       "    <tr>\n",
       "      <th>1</th>\n",
       "      <td>44.5</td>\n",
       "      <td>39.3</td>\n",
       "      <td>45.1</td>\n",
       "      <td>10.4</td>\n",
       "    </tr>\n",
       "    <tr>\n",
       "      <th>2</th>\n",
       "      <td>17.2</td>\n",
       "      <td>45.9</td>\n",
       "      <td>69.3</td>\n",
       "      <td>9.3</td>\n",
       "    </tr>\n",
       "    <tr>\n",
       "      <th>3</th>\n",
       "      <td>151.5</td>\n",
       "      <td>41.3</td>\n",
       "      <td>58.5</td>\n",
       "      <td>18.5</td>\n",
       "    </tr>\n",
       "    <tr>\n",
       "      <th>4</th>\n",
       "      <td>180.8</td>\n",
       "      <td>10.8</td>\n",
       "      <td>58.4</td>\n",
       "      <td>12.9</td>\n",
       "    </tr>\n",
       "    <tr>\n",
       "      <th>5</th>\n",
       "      <td>8.7</td>\n",
       "      <td>48.9</td>\n",
       "      <td>75.0</td>\n",
       "      <td>7.2</td>\n",
       "    </tr>\n",
       "    <tr>\n",
       "      <th>6</th>\n",
       "      <td>57.5</td>\n",
       "      <td>32.8</td>\n",
       "      <td>23.5</td>\n",
       "      <td>11.8</td>\n",
       "    </tr>\n",
       "    <tr>\n",
       "      <th>7</th>\n",
       "      <td>120.2</td>\n",
       "      <td>19.6</td>\n",
       "      <td>11.6</td>\n",
       "      <td>13.2</td>\n",
       "    </tr>\n",
       "    <tr>\n",
       "      <th>8</th>\n",
       "      <td>8.6</td>\n",
       "      <td>2.1</td>\n",
       "      <td>1.0</td>\n",
       "      <td>4.8</td>\n",
       "    </tr>\n",
       "    <tr>\n",
       "      <th>9</th>\n",
       "      <td>199.8</td>\n",
       "      <td>2.6</td>\n",
       "      <td>21.2</td>\n",
       "      <td>10.6</td>\n",
       "    </tr>\n",
       "  </tbody>\n",
       "</table>\n",
       "</div>"
      ],
      "text/plain": [
       "      tv  radio  periodico  ventas\n",
       "0  230.1   37.8       69.2    22.1\n",
       "1   44.5   39.3       45.1    10.4\n",
       "2   17.2   45.9       69.3     9.3\n",
       "3  151.5   41.3       58.5    18.5\n",
       "4  180.8   10.8       58.4    12.9\n",
       "5    8.7   48.9       75.0     7.2\n",
       "6   57.5   32.8       23.5    11.8\n",
       "7  120.2   19.6       11.6    13.2\n",
       "8    8.6    2.1        1.0     4.8\n",
       "9  199.8    2.6       21.2    10.6"
      ]
     },
     "execution_count": 3,
     "metadata": {},
     "output_type": "execute_result"
    }
   ],
   "source": [
    "# Ejercicio: Supóngase que el departamento de ventas de una empresa quiere\n",
    "# estudiar la influencia que tiene la publicidad a través de distintos canales sobre\n",
    "# el número de ventas de un producto. Se dispone de un conjunto de datos que\n",
    "# contiene los ingresos (en millones) conseguido por ventas en 200 regiones, así\n",
    "# como la cantidad de presupuesto, también en millones, destinado a anuncios\n",
    "# por radio, TV y periódicos en cada una de ellas.\n",
    "\n",
    "\n",
    "\n",
    "# generales\n",
    "import pandas as pd\n",
    "import numpy as np\n",
    "\n",
    "# graficos\n",
    "import matplotlib.pyplot as plt\n",
    "import seaborn as sns\n",
    "\n",
    "# modelos\n",
    "from sklearn.linear_model import LinearRegression\n",
    "from sklearn.model_selection import train_test_split\n",
    "from sklearn.model_selection import cross_val_score\n",
    "\n",
    "# metricas\n",
    "from sklearn.metrics import mean_absolute_error\n",
    "from sklearn.metrics import mean_squared_error\n",
    "from sklearn.metrics import r2_score\n",
    "\n",
    "from scipy import stats\n",
    "\n",
    "# Datos\n",
    "\n",
    "tv = [230.1, 44.5, 17.2, 151.5, 180.8, 8.7, 57.5, 120.2, 8.6, 199.8,\n",
    "      66.1, 214.7, 23.8, 97.5, 204.1, 195.4, 67.8, 281.4, 69.2, 147.3, 218.4,\n",
    "      237.4, 13.2, 228.3, 62.3, 262.9, 142.9, 240.1, 248.8, 70.6, 292.9, 112.9,\n",
    "      97.2, 265.6, 95.7, 290.7, 266.9, 74.7, 43.1, 228.0, 202.5, 177.0, 293.6,\n",
    "      206.9, 25.1,\n",
    "      175.1, 89.7, 239.9, 227.2, 66.9, 199.8, 100.4, 216.4, 182.6,\n",
    "      262.7, 198.9,\n",
    "      7.3, 136.2, 210.8, 210.7, 53.5, 261.3, 239.3, 102.7, 131.1,\n",
    "      69.0, 31.5,\n",
    "      139.3, 237.4, 216.8, 199.1, 109.8, 26.8, 129.4, 213.4, 16.9,\n",
    "      27.5, 120.5,\n",
    "      5.4, 116.0, 76.4, 239.8, 75.3, 68.4, 213.5, 193.2, 76.3, 110.7,\n",
    "      88.3, 109.8,\n",
    "      134.3, 28.6, 217.7, 250.9, 107.4, 163.3, 197.6, 184.9, 289.7,\n",
    "      135.2, 222.4,\n",
    "      296.4, 280.2, 187.9, 238.2, 137.9, 25.0, 90.4, 13.1, 255.4,\n",
    "      225.8, 241.7, 175.7,\n",
    "      209.6, 78.2, 75.1, 139.2, 76.4, 125.7, 19.4, 141.3, 18.8, 224.0,\n",
    "      123.1, 229.5,\n",
    "      87.2, 7.8, 80.2, 220.3, 59.6, 0.7, 265.2, 8.4, 219.8, 36.9,\n",
    "      48.3, 25.6, 273.7,\n",
    "      43.0, 184.9, 73.4, 193.7, 220.5, 104.6, 96.2, 140.3, 240.1,\n",
    "      243.2, 38.0, 44.7,\n",
    "      280.7, 121.0, 197.6, 171.3, 187.8, 4.1, 93.9, 149.8, 11.7,\n",
    "      131.7, 172.5, 85.7,\n",
    "      188.4, 163.5, 117.2, 234.5, 17.9, 206.8, 215.4, 284.3, 50.0,\n",
    "      164.5, 19.6, 168.4,\n",
    "      222.4, 276.9, 248.4, 170.2, 276.7, 165.6, 156.6, 218.5, 56.2,\n",
    "      287.6, 253.8, 205.0,\n",
    "      139.5, 191.1, 286.0, 18.7, 39.5, 75.5, 17.2, 166.8, 149.7, 38.2,\n",
    "      94.2, 177.0,\n",
    "      283.6, 232.1]\n",
    "\n",
    "radio = [37.8, 39.3, 45.9, 41.3, 10.8, 48.9, 32.8, 19.6, 2.1, 2.6,\n",
    "         5.8, 24.0, 35.1,\n",
    "         7.6, 32.9, 47.7, 36.6, 39.6, 20.5, 23.9, 27.7, 5.1, 15.9,\n",
    "         16.9, 12.6, 3.5,\n",
    "         29.3, 16.7, 27.1, 16.0, 28.3, 17.4, 1.5, 20.0, 1.4, 4.1,\n",
    "         43.8, 49.4, 26.7,\n",
    "         37.7, 22.3, 33.4, 27.7, 8.4, 25.7, 22.5, 9.9, 41.5, 15.8,\n",
    "         11.7, 3.1, 9.6,\n",
    "         41.7, 46.2, 28.8, 49.4, 28.1, 19.2, 49.6, 29.5, 2.0, 42.7,\n",
    "         15.5, 29.6, 42.8,\n",
    "         9.3, 24.6, 14.5, 27.5, 43.9, 30.6, 14.3, 33.0, 5.7, 24.6,\n",
    "         43.7, 1.6, 28.5,\n",
    "         29.9, 7.7, 26.7, 4.1, 20.3, 44.5, 43.0, 18.4, 27.5, 40.6,\n",
    "         25.5, 47.8, 4.9,\n",
    "         1.5, 33.5, 36.5, 14.0, 31.6, 3.5, 21.0, 42.3, 41.7, 4.3,\n",
    "         36.3, 10.1, 17.2,\n",
    "         34.3, 46.4, 11.0, 0.3, 0.4, 26.9, 8.2, 38.0, 15.4, 20.6,\n",
    "         46.8, 35.0, 14.3, 0.8, 36.9, 16.0, 26.8, 21.7, 2.4, 34.6, 32.3, 11.8, 38.9,\n",
    "         0.0, 49.0, 12.0,\n",
    "         39.6, 2.9, 27.2, 33.5, 38.6, 47.0, 39.0, 28.9, 25.9, 43.9,\n",
    "         17.0, 35.4, 33.2,\n",
    "         5.7, 14.8, 1.9, 7.3, 49.0, 40.3, 25.8, 13.9, 8.4, 23.3, 39.7,\n",
    "         21.1, 11.6, 43.5,\n",
    "         1.3, 36.9, 18.4, 18.1, 35.8, 18.1, 36.8, 14.7, 3.4, 37.6,\n",
    "         5.2, 23.6, 10.6, 11.6,\n",
    "         20.9, 20.1, 7.1, 3.4, 48.9, 30.2, 7.8, 2.3, 10.0, 2.6, 5.4,\n",
    "         5.7, 43.0, 21.3, 45.1,\n",
    "         2.1, 28.7, 13.9, 12.1, 41.1, 10.8, 4.1, 42.0, 35.6, 3.7, 4.9,\n",
    "         9.3, 42.0, 8.6]\n",
    "\n",
    "periodico = [69.2, 45.1, 69.3, 58.5, 58.4, 75.0, 23.5, 11.6, 1.0,\n",
    "             21.2, 24.2, 4.0,\n",
    "             65.9, 7.2, 46.0, 52.9, 114.0, 55.8, 18.3, 19.1, 53.4,\n",
    "             23.5, 49.6, 26.2,\n",
    "             18.3, 19.5, 12.6, 22.9, 22.9, 40.8, 43.2, 38.6, 30.0,\n",
    "             0.3, 7.4, 8.5, 5.0,\n",
    "             45.7, 35.1, 32.0, 31.6, 38.7, 1.8, 26.4, 43.3, 31.5,\n",
    "             35.7, 18.5, 49.9,\n",
    "             36.8, 34.6, 3.6, 39.6, 58.7, 15.9, 60.0, 41.4, 16.6,\n",
    "             37.7, 9.3, 21.4, 54.7,\n",
    "             27.3, 8.4, 28.9, 0.9, 2.2, 10.2, 11.0, 27.2, 38.7, 31.7,\n",
    "             19.3, 31.3, 13.1,\n",
    "             89.4, 20.7, 14.2, 9.4, 23.1, 22.3, 36.9, 32.5, 35.6,\n",
    "             33.8, 65.7, 16.0, 63.2,\n",
    "             73.4, 51.4, 9.3, 33.0, 59.0, 72.3, 10.9, 52.9, 5.9, 22.0,\n",
    "             51.2, 45.9, 49.8,\n",
    "             100.9, 21.4, 17.9, 5.3, 59.0, 29.7, 23.2, 25.6, 5.5,\n",
    "             56.5, 23.2, 2.4, 10.7,\n",
    "             34.5, 52.7, 25.6, 14.8, 79.2, 22.3, 46.2, 50.4, 15.6,\n",
    "             12.4, 74.2, 25.9, 50.6,\n",
    "             9.2, 3.2, 43.1, 8.7, 43.0, 2.1, 45.1, 65.6, 8.5, 9.3,\n",
    "             59.7, 20.5, 1.7, 12.9,\n",
    "             75.6, 37.9, 34.4, 38.9, 9.0, 8.7, 44.3, 11.9, 20.6, 37.0,\n",
    "             48.7, 14.2, 37.7,\n",
    "             9.5, 5.7, 50.5, 24.3, 45.2, 34.6, 30.7, 49.3, 25.6, 7.4,\n",
    "             5.4, 84.8, 21.6, 19.4,\n",
    "             57.6, 6.4, 18.4, 47.4, 17.0, 12.8, 13.1, 41.8, 20.3,\n",
    "             35.2, 23.7, 17.6, 8.3,\n",
    "             27.4, 29.7, 71.8, 30.0, 19.6, 26.6, 18.2, 3.7, 23.4, 5.8,\n",
    "             6.0, 31.6, 3.6, 6.0,\n",
    "             13.8, 8.1, 6.4, 66.2, 8.7]\n",
    "\n",
    "ventas = [22.1, 10.4, 9.3, 18.5, 12.9, 7.2, 11.8, 13.2, 4.8, 10.6,\n",
    "          8.6, 17.4, 9.2, 9.7, 19.0, 22.4, 12.5, 24.4, 11.3, 14.6, 18.0, 12.5, 5.6, 15.5,\n",
    "          9.7, 12.0, 15.0, 15.9,\n",
    "          18.9, 10.5, 21.4, 11.9, 9.6, 17.4, 9.5, 12.8, 25.4, 14.7,\n",
    "          10.1, 21.5, 16.6, 17.1,\n",
    "          20.7, 12.9, 8.5, 14.9, 10.6, 23.2, 14.8, 9.7, 11.4, 10.7,\n",
    "          22.6, 21.2, 20.2, 23.7,\n",
    "          5.5, 13.2, 23.8, 18.4, 8.1, 24.2, 15.7, 14.0, 18.0, 9.3,\n",
    "          9.5, 13.4, 18.9, 22.3,\n",
    "          18.3, 12.4, 8.8, 11.0, 17.0, 8.7, 6.9, 14.2, 5.3, 11.0,\n",
    "          11.8, 12.3, 11.3, 13.6,\n",
    "          21.7, 15.2, 12.0, 16.0, 12.9, 16.7, 11.2, 7.3, 19.4, 22.2,\n",
    "          11.5, 16.9, 11.7, 15.5,\n",
    "          25.4, 17.2, 11.7, 23.8, 14.8, 14.7, 20.7, 19.2, 7.2, 8.7,\n",
    "          5.3, 19.8, 13.4, 21.8,\n",
    "          14.1, 15.9, 14.6, 12.6, 12.2, 9.4, 15.9, 6.6, 15.5, 7.0,\n",
    "          11.6, 15.2, 19.7, 10.6,\n",
    "          6.6, 8.8, 24.7, 9.7, 1.6, 12.7, 5.7, 19.6, 10.8, 11.6, 9.5,\n",
    "          20.8, 9.6, 20.7, 10.9,\n",
    "          19.2, 20.1, 10.4, 11.4, 10.3, 13.2, 25.4, 10.9, 10.1, 16.1,\n",
    "          11.6, 16.6, 19.0, 15.6,\n",
    "          3.2, 15.3, 10.1, 7.3, 12.9, 14.4, 13.3, 14.9, 18.0, 11.9,\n",
    "          11.9, 8.0, 12.2, 17.1,\n",
    "          15.0, 8.4, 14.5, 7.6, 11.7, 11.5, 27.0, 20.2, 11.7, 11.8,\n",
    "          12.6, 10.5, 12.2, 8.7,\n",
    "          26.2, 17.6, 22.6, 10.3, 17.3, 15.9, 6.7, 10.8, 9.9, 5.9,\n",
    "          19.6, 17.3, 7.6, 9.7, 12.8,\n",
    "          25.5, 13.4]\n",
    "\n",
    "datos = pd.DataFrame({'tv': tv, 'radio': radio, 'periodico': periodico,\n",
    "                      'ventas': ventas})\n",
    "\n",
    "datos.head(10)\n"
   ]
  },
  {
   "cell_type": "code",
   "execution_count": 4,
   "metadata": {},
   "outputs": [
    {
     "name": "stdout",
     "output_type": "stream",
     "text": [
      "               tv       radio   periodico      ventas\n",
      "count  200.000000  200.000000  200.000000  200.000000\n",
      "mean   147.042500   23.264000   30.554000   14.022500\n",
      "std     85.854236   14.846809   21.778621    5.217457\n",
      "min      0.700000    0.000000    0.300000    1.600000\n",
      "25%     74.375000    9.975000   12.750000   10.375000\n",
      "50%    149.750000   22.900000   25.750000   12.900000\n",
      "75%    218.825000   36.525000   45.100000   17.400000\n",
      "max    296.400000   49.600000  114.000000   27.000000\n"
     ]
    }
   ],
   "source": [
    "print(datos.describe())\n"
   ]
  },
  {
   "cell_type": "code",
   "execution_count": 5,
   "metadata": {},
   "outputs": [
    {
     "data": {
      "image/png": "[encoded data removed]",
      "text/plain": [
       "<Figure size 1000x1000 with 4 Axes>"
      ]
     },
     "metadata": {},
     "output_type": "display_data"
    }
   ],
   "source": [
    "# Para esto obtenga lo siguiente:\n",
    "\n",
    "# 1. Obtenga la distribución de cada una de las variables\n",
    "\n",
    "i=1\n",
    "plt.figure(figsize=(10, 10))\n",
    "for col in datos.columns: #recorre las columnas del dataframe\n",
    "    plt.subplot(2, 2, i)\n",
    "    plt.hist(datos[col])\n",
    "    plt.title(f'Distribucion de la variable {col}')\n",
    "    plt.xlabel(col)\n",
    "    plt.ylabel('Frecuencia')\n",
    "    i+=1\n",
    "plt.show()\n"
   ]
  },
  {
   "cell_type": "code",
   "execution_count": 7,
   "metadata": {},
   "outputs": [],
   "source": [
    "# 2. Separe sus datos en 70/30 \n",
    "\n",
    "X = datos[['tv', 'radio', 'periodico']]\n",
    "y = datos['ventas']\n",
    "\n",
    "X_train, X_test, y_train, y_test = train_test_split(X, y, test_size=0.3, random_state=42) # 70% training and 30%\n",
    "\n",
    "\n"
   ]
  },
  {
   "cell_type": "code",
   "execution_count": 8,
   "metadata": {},
   "outputs": [
    {
     "data": {
      "text/html": [
       "<style>#sk-container-id-1 {color: black;background-color: white;}#sk-container-id-1 pre{padding: 0;}#sk-container-id-1 div.sk-toggleable {background-color: white;}#sk-container-id-1 label.sk-toggleable__label {cursor: pointer;display: block;width: 100%;margin-bottom: 0;padding: 0.3em;box-sizing: border-box;text-align: center;}#sk-container-id-1 label.sk-toggleable__label-arrow:before {content: \"▸\";float: left;margin-right: 0.25em;color: #696969;}#sk-container-id-1 label.sk-toggleable__label-arrow:hover:before {color: black;}#sk-container-id-1 div.sk-estimator:hover label.sk-toggleable__label-arrow:before {color: black;}#sk-container-id-1 div.sk-toggleable__content {max-height: 0;max-width: 0;overflow: hidden;text-align: left;background-color: #f0f8ff;}#sk-container-id-1 div.sk-toggleable__content pre {margin: 0.2em;color: black;border-radius: 0.25em;background-color: #f0f8ff;}#sk-container-id-1 input.sk-toggleable__control:checked~div.sk-toggleable__content {max-height: 200px;max-width: 100%;overflow: auto;}#sk-container-id-1 input.sk-toggleable__control:checked~label.sk-toggleable__label-arrow:before {content: \"▾\";}#sk-container-id-1 div.sk-estimator input.sk-toggleable__control:checked~label.sk-toggleable__label {background-color: #d4ebff;}#sk-container-id-1 div.sk-label input.sk-toggleable__control:checked~label.sk-toggleable__label {background-color: #d4ebff;}#sk-container-id-1 input.sk-hidden--visually {border: 0;clip: rect(1px 1px 1px 1px);clip: rect(1px, 1px, 1px, 1px);height: 1px;margin: -1px;overflow: hidden;padding: 0;position: absolute;width: 1px;}#sk-container-id-1 div.sk-estimator {font-family: monospace;background-color: #f0f8ff;border: 1px dotted black;border-radius: 0.25em;box-sizing: border-box;margin-bottom: 0.5em;}#sk-container-id-1 div.sk-estimator:hover {background-color: #d4ebff;}#sk-container-id-1 div.sk-parallel-item::after {content: \"\";width: 100%;border-bottom: 1px solid gray;flex-grow: 1;}#sk-container-id-1 div.sk-label:hover label.sk-toggleable__label {background-color: #d4ebff;}#sk-container-id-1 div.sk-serial::before {content: \"\";position: absolute;border-left: 1px solid gray;box-sizing: border-box;top: 0;bottom: 0;left: 50%;z-index: 0;}#sk-container-id-1 div.sk-serial {display: flex;flex-direction: column;align-items: center;background-color: white;padding-right: 0.2em;padding-left: 0.2em;position: relative;}#sk-container-id-1 div.sk-item {position: relative;z-index: 1;}#sk-container-id-1 div.sk-parallel {display: flex;align-items: stretch;justify-content: center;background-color: white;position: relative;}#sk-container-id-1 div.sk-item::before, #sk-container-id-1 div.sk-parallel-item::before {content: \"\";position: absolute;border-left: 1px solid gray;box-sizing: border-box;top: 0;bottom: 0;left: 50%;z-index: -1;}#sk-container-id-1 div.sk-parallel-item {display: flex;flex-direction: column;z-index: 1;position: relative;background-color: white;}#sk-container-id-1 div.sk-parallel-item:first-child::after {align-self: flex-end;width: 50%;}#sk-container-id-1 div.sk-parallel-item:last-child::after {align-self: flex-start;width: 50%;}#sk-container-id-1 div.sk-parallel-item:only-child::after {width: 0;}#sk-container-id-1 div.sk-dashed-wrapped {border: 1px dashed gray;margin: 0 0.4em 0.5em 0.4em;box-sizing: border-box;padding-bottom: 0.4em;background-color: white;}#sk-container-id-1 div.sk-label label {font-family: monospace;font-weight: bold;display: inline-block;line-height: 1.2em;}#sk-container-id-1 div.sk-label-container {text-align: center;}#sk-container-id-1 div.sk-container {/* jupyter's `normalize.less` sets `[hidden] { display: none; }` but bootstrap.min.css set `[hidden] { display: none !important; }` so we also need the `!important` here to be able to override the default hidden behavior on the sphinx rendered scikit-learn.org. See: https://github.com/scikit-learn/scikit-learn/issues/21755 */display: inline-block !important;position: relative;}#sk-container-id-1 div.sk-text-repr-fallback {display: none;}</style><div id=\"sk-container-id-1\" class=\"sk-top-container\"><div class=\"sk-text-repr-fallback\"><pre>LinearRegression()</pre><b>In a Jupyter environment, please rerun this cell to show the HTML representation or trust the notebook. <br />On GitHub, the HTML representation is unable to render, please try loading this page with nbviewer.org.</b></div><div class=\"sk-container\" hidden><div class=\"sk-item\"><div class=\"sk-estimator sk-toggleable\"><input class=\"sk-toggleable__control sk-hidden--visually\" id=\"sk-estimator-id-1\" type=\"checkbox\" checked><label for=\"sk-estimator-id-1\" class=\"sk-toggleable__label sk-toggleable__label-arrow\">LinearRegression</label><div class=\"sk-toggleable__content\"><pre>LinearRegression()</pre></div></div></div></div></div>"
      ],
      "text/plain": [
       "LinearRegression()"
      ]
     },
     "execution_count": 8,
     "metadata": {},
     "output_type": "execute_result"
    }
   ],
   "source": [
    "# 3. Obtenga su modelo de Regresión lineal\n",
    "\n",
    "modelo = LinearRegression()\n",
    "modelo.fit(X_train, y_train)\n",
    "\n"
   ]
  },
  {
   "cell_type": "code",
   "execution_count": 9,
   "metadata": {},
   "outputs": [
    {
     "name": "stdout",
     "output_type": "stream",
     "text": [
      "Intercepto:  2.7089490925159065\n",
      "Coeficiente:  [0.04405928 0.1992875  0.00688245]\n",
      "R2:  0.9055159502227753\n"
     ]
    }
   ],
   "source": [
    "# 4. Entregue la recta matemática de regresión con las estimaciones obtenidas\n",
    "\n",
    "print('Intercepto: ', modelo.intercept_)\n",
    "print('Coeficiente: ', modelo.coef_)\n",
    "print('R2: ', modelo.score(X_train, y_train))\n",
    "\n"
   ]
  },
  {
   "cell_type": "code",
   "execution_count": 10,
   "metadata": {},
   "outputs": [
    {
     "data": {
      "image/png": "[encoded data removed]",
      "text/plain": [
       "<Figure size 640x480 with 1 Axes>"
      ]
     },
     "metadata": {},
     "output_type": "display_data"
    }
   ],
   "source": [
    "# 5. Realice un diagnóstico de los residuos del modelo.\n",
    "\n",
    "y_pred = modelo.predict(X_test)\n",
    "residuos = y_test - y_pred\n",
    "\n",
    "plt.scatter(y_test, residuos)\n",
    "plt.xlabel('y_test')\n",
    "plt.ylabel('residuos')\n",
    "plt.axhline(y=0, color='r', label='residuo = 0')\n",
    "plt.legend()\n",
    "plt.show()\n"
   ]
  },
  {
   "cell_type": "code",
   "execution_count": 13,
   "metadata": {},
   "outputs": [
    {
     "name": "stdout",
     "output_type": "stream",
     "text": [
      "Test de normalidad:  ShapiroResult(statistic=0.925661027431488, pvalue=0.0013061452191323042)\n"
     ]
    }
   ],
   "source": [
    "# 6. Realice el test de normalidad\n",
    "\n",
    "print('Test de normalidad: ', stats.shapiro(residuos))\n",
    "\n",
    "\n",
    "\n"
   ]
  },
  {
   "cell_type": "code",
   "execution_count": 14,
   "metadata": {},
   "outputs": [
    {
     "name": "stdout",
     "output_type": "stream",
     "text": [
      "Predicciones:  [16.5653963  21.18822792 21.55107058 10.88923816 22.20231988 13.35556872\n",
      " 21.19692502  7.35028523 13.27547079 15.12449511  9.01443026  6.52542825\n",
      " 14.30205991  8.97026042  9.45679576 12.00454351  8.91549403 16.15619251\n",
      " 10.29582883 18.72473553 19.76821818 13.77469028 12.49638908 21.53501762\n",
      "  7.60860741  5.6119801  20.91759483 11.80627665  9.08076637  8.51412012\n",
      " 12.17604891  9.9691939  21.73008956 12.77770578 18.1011362  20.07590796\n",
      " 14.26202556 20.93826535 10.83938827  4.38190607  9.51332406 12.40486324\n",
      " 10.17045434  8.09081363 13.16388427  5.2243552   9.28893833 14.09330719\n",
      "  8.69024497 11.66119763 15.71848432 11.63156862 13.35360735 11.1531472\n",
      "  6.33636845  9.76157954  9.4195714  24.25516546  7.69519137 12.15317572]\n"
     ]
    }
   ],
   "source": [
    "# 7. Obtenga las predicciones del modelo\n",
    "\n",
    "y_pred = modelo.predict(X_test)\n",
    "print('Predicciones: ', y_pred)\n"
   ]
  },
  {
   "cell_type": "code",
   "execution_count": 15,
   "metadata": {},
   "outputs": [
    {
     "name": "stdout",
     "output_type": "stream",
     "text": [
      "Error del test:  3.79679723671522\n"
     ]
    }
   ],
   "source": [
    "# 8. Entregue el error del test\n",
    "\n",
    "print('Error del test: ', mean_squared_error(y_test, y_pred))\n"
   ]
  },
  {
   "cell_type": "code",
   "execution_count": 26,
   "metadata": {},
   "outputs": [],
   "source": [
    "# 9. Interprete sus resultados y responda al problema planteado.\n",
    "\n",
    "# Basado en los resultados obtenidos, se puede concluir que el modelo de regresión lineal \n",
    "# es un buen modelo para predecir las ventas de un producto, ya que el R2 es de 0.9, \n",
    "# lo que indica que el modelo explica el 90% de la variabilidad de la variable dependiente (ventas). \n",
    "# Además, el test de normalidad indica que los residuos se distribuyen normalmente, \n",
    "# lo que indica que el modelo es bueno. Finalmente, el error del test es de 2.4, \n",
    "# lo que indica que el modelo tiene un error bajo, por lo que es un buen modelo para predecir las ventas de un producto.\n",
    "\n",
    "\n"
   ]
  }
 ],
 "metadata": {
  "kernelspec": {
   "display_name": "Python 3",
   "language": "python",
   "name": "python3"
  },
  "language_info": {
   "codemirror_mode": {
    "name": "ipython",
    "version": 3
   },
   "file_extension": ".py",
   "mimetype": "text/x-python",
   "name": "python",
   "nbconvert_exporter": "python",
   "pygments_lexer": "ipython3",
   "version": "3.10.11"
  },
  "orig_nbformat": 4
 },
 "nbformat": 4,
 "nbformat_minor": 2
}
