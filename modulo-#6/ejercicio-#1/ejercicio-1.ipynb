{
 "cells": [
  {
   "cell_type": "code",
   "execution_count": null,
   "metadata": {},
   "outputs": [],
   "source": [
    "# 1. Describir los principales conceptos y técnicas asociadas al aprendizaje\n",
    "# de máquina no supervisado para resolver un problema."
   ]
  },
  {
   "cell_type": "code",
   "execution_count": null,
   "metadata": {},
   "outputs": [],
   "source": [
    "# Pregunta: Cree un resumen o mapa conceptual que relacione los conceptos\n",
    "# claves de la clase. Es decir, su trabajo debe considerar los siguientes\n",
    "# conceptos:\n",
    "\n",
    "# - Aprendizaje de máquina\n",
    "# R: El aprendizaje de máquina es un campo de la inteligencia artificial que\n",
    "# se enfoca en el estudio y desarrollo de técnicas que permitan que las\n",
    "# computadoras aprendan. El aprendizaje de máquina se puede dividir en dos\n",
    "# categorías: supervisado y no supervisado.\n"
   ]
  },
  {
   "cell_type": "code",
   "execution_count": null,
   "metadata": {},
   "outputs": [],
   "source": [
    "\n",
    "\n",
    "# - Modelos no supervisados\n",
    "# R: Los modelos no supervisados son aquellos que no requieren de un conjunto\n",
    "# de datos etiquetados para su entrenamiento. En otras palabras, no se\n",
    "# conoce la respuesta correcta. El objetivo de los modelos no supervisados\n",
    "# es explorar la estructura de los datos para extraer información relevante\n",
    "# o patrones ocultos. Los modelos no supervisados se pueden dividir en\n",
    "# clustering y asociación.\n"
   ]
  },
  {
   "cell_type": "code",
   "execution_count": null,
   "metadata": {},
   "outputs": [],
   "source": [
    "# - Data compression\n",
    "#R: La compresión de datos es una técnica que permite reducir el tamaño de\n",
    "# los datos. La compresión de datos se puede dividir en dos categorías:\n",
    "# compresión con pérdida y compresión sin pérdida. La compresión con pérdida\n",
    "# es aquella que permite reducir el tamaño de los datos eliminando\n",
    "# información redundante. La compresión sin pérdida es aquella que permite\n",
    "# reducir el tamaño de los datos sin eliminar información redundante.\n"
   ]
  },
  {
   "cell_type": "code",
   "execution_count": null,
   "metadata": {},
   "outputs": [],
   "source": [
    "# - Anomalías\n",
    "# R: Las anomalías son aquellos datos que se desvían de lo normal. Las\n",
    "# anomalías también se conocen como outliers. Las anomalías se pueden\n",
    "# detectar utilizando modelos no supervisados.\n",
    "\n"
   ]
  },
  {
   "cell_type": "code",
   "execution_count": null,
   "metadata": {},
   "outputs": [],
   "source": [
    "# - Segmentación\n",
    "#R: La segmentación es una técnica que permite dividir un conjunto de datos\n",
    "# en grupos de datos similares. La segmentación se puede realizar utilizando\n",
    "# modelos no supervisados.\n"
   ]
  },
  {
   "cell_type": "code",
   "execution_count": null,
   "metadata": {},
   "outputs": [],
   "source": [
    "# - Compresión con pérdida\n",
    "#R: La compresión con pérdida es una técnica que permite reducir el tamaño de\n",
    "# los datos eliminando información redundante."
   ]
  },
  {
   "cell_type": "code",
   "execution_count": null,
   "metadata": {},
   "outputs": [],
   "source": [
    "# - Compresión sin pérdida\n",
    "#R: La compresión sin pérdida es una técnica que permite reducir el tamaño de\n",
    "# los datos sin eliminar información redundante.\n"
   ]
  },
  {
   "cell_type": "code",
   "execution_count": null,
   "metadata": {},
   "outputs": [],
   "source": [
    "# - Aprendizaje de máquina\n",
    "#R: El aprendizaje de máquina es un campo de la inteligencia artificial que\n",
    "# se enfoca en el estudio y desarrollo de técnicas que permitan que las\n",
    "# computadoras aprendan. El aprendizaje de máquina se puede dividir en dos\n",
    "# categorías: supervisado y no supervisado.\n"
   ]
  }
 ],
 "metadata": {
  "kernelspec": {
   "display_name": "Python 3",
   "language": "python",
   "name": "python3"
  },
  "language_info": {
   "name": "python",
   "version": "3.10.11"
  },
  "orig_nbformat": 4
 },
 "nbformat": 4,
 "nbformat_minor": 2
}
