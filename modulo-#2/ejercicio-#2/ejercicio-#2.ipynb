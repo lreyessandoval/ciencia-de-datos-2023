{
 "cells": [
  {
   "cell_type": "code",
   "execution_count": 1,
   "metadata": {},
   "outputs": [
    {
     "name": "stdout",
     "output_type": "stream",
     "text": [
      "Ventas Históricas\n",
      "2020    100\n",
      "2021    150\n",
      "2022    250\n",
      "2023    300\n",
      "dtype: int64\n",
      "Ventas Reajustadas\n",
      "2020    110.0\n",
      "2021    165.0\n",
      "2022    275.0\n",
      "2023    330.0\n",
      "dtype: float64\n"
     ]
    }
   ],
   "source": [
    "# 1 Escribir un programa que pregunte al usuario por las ventas de un rango de años y muestre por pantalla una serie\n",
    "# con los datos de las ventas indexada por los años, antes y después de aplicarles un descuento del 10%.\n",
    "\n",
    "import numpy as np\n",
    "import pandas as pd\n",
    "\n",
    "# pedir al usuario el valor de la serie\n",
    "index = [2020, 2021, 2022, 2023]\n",
    "index\n",
    "ventas = pd.Series([int(input(\n",
    "    f\"Ingrese el valor de la venta para el año {index[i]}: \")) for i in range(4)], index)\n",
    "\n",
    "print(\"Ventas Históricas\")\n",
    "print(ventas)\n",
    "\n",
    "try:\n",
    "    ventas_reajustadas = ventas * 1.1\n",
    "    print(\"Ventas Reajustadas\")\n",
    "    print(ventas_reajustadas)\n",
    "except:\n",
    "    print(\"Error al reajustar las ventas\")\n"
   ]
  },
  {
   "cell_type": "code",
   "execution_count": 3,
   "metadata": {},
   "outputs": [
    {
     "name": "stdout",
     "output_type": "stream",
     "text": [
      "count    5.00000\n",
      "mean     5.20000\n",
      "std      1.30384\n",
      "min      4.00000\n",
      "25%      4.00000\n",
      "50%      5.00000\n",
      "75%      6.00000\n",
      "max      7.00000\n",
      "dtype: float64\n"
     ]
    }
   ],
   "source": [
    "# 2. Escribir una función que reciba un diccionario con las notas de los alumnos en curso en un examen\n",
    "# y devuelva una serie con la nota mínima, # la máxima, media y la desviación típica.\n",
    "\n",
    "import numpy as np\n",
    "import pandas as pd\n",
    "\n",
    "\n",
    "def notas(notas):\n",
    "    notas = pd.Series(notas)\n",
    "    return notas.describe()\n",
    "\n",
    "\n",
    "notas = notas({'Juan': 4, 'Ana': 5, 'Pedro': 6, 'María': 7, 'Luis': 4})\n",
    "print(notas)\n"
   ]
  },
  {
   "cell_type": "code",
   "execution_count": 8,
   "metadata": {},
   "outputs": [
    {
     "name": "stdout",
     "output_type": "stream",
     "text": [
      "María    7\n",
      "Ana      5\n",
      "Juan     4\n",
      "Luis     4\n",
      "dtype: int64\n"
     ]
    }
   ],
   "source": [
    "# 3. Escribir una función que reciba una diccionario con las notas de los\n",
    "# alumnos en curso en un examen y devuelva una serie con las notas de los alumnos aprobados ordenadas de mayor a menor.\n",
    "\n",
    "import numpy as np\n",
    "import pandas as pd\n",
    "\n",
    "\n",
    "def notas(notas):\n",
    "    notas = pd.Series(notas)\n",
    "    notas = notas[notas >= 4]  # aprobados\n",
    "    notas = notas.sort_values(ascending=False)  # ordenar de mayor a menor\n",
    "    return notas\n",
    "\n",
    "\n",
    "notas = notas({'Juan': 4, 'Ana': 5, 'Pedro': 3, 'María': 7, 'Luis': 4})\n",
    "print(notas)\n"
   ]
  },
  {
   "cell_type": "code",
   "execution_count": 12,
   "metadata": {},
   "outputs": [
    {
     "name": "stdout",
     "output_type": "stream",
     "text": [
      "       Mes  Ventas  Gastos\n",
      "0    enero   30500   22000\n",
      "1  febrero   35600   23400\n",
      "2    marzo   28300   18100\n",
      "3    abril   33900   20700\n"
     ]
    }
   ],
   "source": [
    "# 4. Escribir programa que genere y muestre por pantalla un DataFrame con los datos de la tabla siguiente:\n",
    "# mes   ventas  gastos\n",
    "# enero 30500   22000 \n",
    "# febrero 35600 23400\n",
    "# marzo 28300 18100\n",
    "# abril 33900 20700\n",
    "\n",
    "import numpy as np\n",
    "import pandas as pd\n",
    "\n",
    "meses = ['enero', 'febrero', 'marzo', 'abril']\n",
    "ventas = [30500, 35600, 28300, 33900]\n",
    "gastos = [22000, 23400, 18100, 20700]\n",
    "\n",
    "data = {'Mes': meses, 'Ventas': ventas, 'Gastos': gastos}\n",
    "data = pd.DataFrame(data)\n",
    "print(data)\n",
    "\n",
    "\n",
    "\n"
   ]
  },
  {
   "cell_type": "code",
   "execution_count": null,
   "metadata": {},
   "outputs": [],
   "source": [
    "#¿Qué es la librería Pandas?\n",
    "# Pandas es una librería de Python que nos permite trabajar y manipular datos de forma muy eficiente\n",
    "\n",
    "\n",
    "#¿Qué son los DataFrame?\n",
    "#Los DataFrame son estructuras de datos bidimensionales, es decir, que tienen filas y columnas. Estas estructuras de datos son muy similares a las tablas de una base de datos relacional.\n"
   ]
  }
 ],
 "metadata": {
  "kernelspec": {
   "display_name": "Python 3",
   "language": "python",
   "name": "python3"
  },
  "language_info": {
   "codemirror_mode": {
    "name": "ipython",
    "version": 3
   },
   "file_extension": ".py",
   "mimetype": "text/x-python",
   "name": "python",
   "nbconvert_exporter": "python",
   "pygments_lexer": "ipython3",
   "version": "3.10.11"
  },
  "orig_nbformat": 4
 },
 "nbformat": 4,
 "nbformat_minor": 2
}
