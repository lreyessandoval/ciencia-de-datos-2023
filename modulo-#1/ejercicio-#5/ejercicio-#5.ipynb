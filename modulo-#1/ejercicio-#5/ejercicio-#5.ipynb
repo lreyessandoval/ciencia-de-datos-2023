{
 "cells": [
  {
   "cell_type": "code",
   "execution_count": 3,
   "metadata": {},
   "outputs": [
    {
     "name": "stdout",
     "output_type": "stream",
     "text": [
      "10/5 = 2\n"
     ]
    }
   ],
   "source": [
    "# 1. Para el siguientes ejemplo, proporcione la(s) excepción(es) adecuada(s):\n",
    "\n",
    "try:\n",
    "    a = 10\n",
    "    b = 5\n",
    "    c = a / b\n",
    "    print(f\"{a}/{b} = %d\" % c)\n",
    "except ZeroDivisionError:\n",
    "    print(\"No se puede dividir por cero\")\n",
    "\n"
   ]
  },
  {
   "cell_type": "code",
   "execution_count": 5,
   "metadata": {},
   "outputs": [
    {
     "name": "stdout",
     "output_type": "stream",
     "text": [
      "10/2 = 5\n"
     ]
    }
   ],
   "source": [
    "# 2. Con el ejercicio anterior, cree un programa que le pida ingresar los valores al usuario.\n",
    "\n",
    "try:\n",
    "    a = int(input(\"Ingrese el valor de a: \"))\n",
    "    b = int(input(\"Ingrese el valor de b: \"))\n",
    "    c = a / b\n",
    "    print(f\"{a}/{b} = %d\" % c)\n",
    "except ZeroDivisionError:\n",
    "    print(\"No se puede dividir por cero\")\n",
    "\n"
   ]
  },
  {
   "cell_type": "code",
   "execution_count": 1,
   "metadata": {},
   "outputs": [
    {
     "name": "stdout",
     "output_type": "stream",
     "text": [
      "La tasa 101 no puede ser mayor a 100....\n"
     ]
    }
   ],
   "source": [
    "#3. Cree una función de interés simple, entregando una excepción si la tasa es superior a 100.\n",
    "# El programa debe recibir: monto, año y tasa.\n",
    "# El cálculo de i nt er és será: (monto * año * tasa) / 100\n",
    "# Agregue mensajes adecuados al contexto, para la interacción del programa.\n",
    "\n",
    "def interes_simple(monto, año, tasa):\n",
    "    if tasa > 100:\n",
    "        raise Exception(f\"La tasa {tasa} no puede ser mayor a 100....\")\n",
    "    return (monto * año * tasa) / 100\n",
    "\n",
    "try:\n",
    "    monto = int(input(\"Ingrese el monto: \"))\n",
    "    año = int(input(\"Ingrese la cantidad de año(s): \"))\n",
    "    tasa = int(input(\"Ingrese la tasa: \"))\n",
    "    interes = interes_simple(monto, año, tasa)\n",
    "    print(f\"El interés es: {interes}\")\n",
    "except Exception as e:\n",
    "    print(e)\n",
    "    \n"
   ]
  },
  {
   "cell_type": "code",
   "execution_count": null,
   "metadata": {},
   "outputs": [],
   "source": [
    "# ¿Cómo manejar las excepciones usando las sentencias try, except, finally ?\n",
    "\n",
    "# el bloque try contiene el código principal en donde se podría generar una excepción\n",
    "# el bloque except contiene el código que se ejecuta en el caso de que se genere una excepción\n",
    "# el bloque finally contiene el código que se ejecuta siempre, independientemente de si se genera una excepción o no\n",
    "\n",
    "\n",
    "# ¿Cómo generar excepciones?\n",
    "\n",
    "# se puede generar una excepción con la sentencia raise Ej: raise Exception(f\"La tasa {tasa} no puede ser mayor a 100....\")\n"
   ]
  }
 ],
 "metadata": {
  "kernelspec": {
   "display_name": "Python 3",
   "language": "python",
   "name": "python3"
  },
  "language_info": {
   "codemirror_mode": {
    "name": "ipython",
    "version": 3
   },
   "file_extension": ".py",
   "mimetype": "text/x-python",
   "name": "python",
   "nbconvert_exporter": "python",
   "pygments_lexer": "ipython3",
   "version": "3.10.11"
  },
  "orig_nbformat": 4
 },
 "nbformat": 4,
 "nbformat_minor": 2
}
