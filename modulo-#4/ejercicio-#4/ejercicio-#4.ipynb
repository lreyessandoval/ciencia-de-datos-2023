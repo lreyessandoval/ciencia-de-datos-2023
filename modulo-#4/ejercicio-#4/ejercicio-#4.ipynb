{
 "cells": [
  {
   "cell_type": "code",
   "execution_count": 2,
   "metadata": {},
   "outputs": [
    {
     "name": "stdout",
     "output_type": "stream",
     "text": [
      "El valor mínimo de n es: 2401.0\n"
     ]
    }
   ],
   "source": [
    "# Para estimar la proporción de habitantes de una ciudad que poseen ordenador\n",
    "# personal se toma una muestra de tamaño n. Calcula el valor mínimo de n para\n",
    "# garantizar, con un nivel de confianza del 95 %, que el error de estimación no\n",
    "# supera el 2 %. (Como se desconoce la proporción, se hará a partir del caso más\n",
    "# desfavorable, que será 0,5).\n",
    "\n",
    "# Importamos las librerías necesarias\n",
    "import numpy as np\n",
    "import scipy.stats as st\n",
    "\n",
    "# Definimos los datos del enunciado\n",
    "confianza = 0.95\n",
    "error = 0.02\n",
    "p = 0.5\n",
    "\n",
    "# Calculamos el valor mínimo de n\n",
    "n = np.ceil((st.norm.ppf(1 - (1 - confianza) / 2) / error) ** 2 * p * (1 - p))\n",
    "print(\"El valor mínimo de n es:\", n)\n",
    "\n",
    "\n"
   ]
  },
  {
   "cell_type": "code",
   "execution_count": 4,
   "metadata": {},
   "outputs": [
    {
     "name": "stdout",
     "output_type": "stream",
     "text": [
      "El valor mínimo de n es: 8.0\n"
     ]
    }
   ],
   "source": [
    "# Un fabricante de electrodomésticos sabe que la vida media de estos sigue una\n",
    "# distribución normal con media 100 meses y desviación típica 12 meses.\n",
    "# Determina el mínimo tamaño muestral que garantiza, con una probabilidad\n",
    "# de 0,98, que la vida media de los electrodomésticos en dicha muestra se\n",
    "# encuentre entre 90 y 100 meses.\n",
    "\n",
    "# Importamos las librerías necesarias\n",
    "import numpy as np\n",
    "import scipy.stats as st\n",
    "\n",
    "# Definimos los datos del enunciado\n",
    "confianza = 0.98\n",
    "media = 100\n",
    "desviacion_tipica = 12\n",
    "intervalo_confianza = (90, 100)\n",
    "z = st.norm.ppf(1 - (1 - confianza) / 2)\n",
    "\n",
    "# Calculamos el valor mínimo de n\n",
    "\n",
    "n = np.ceil((z * desviacion_tipica / (intervalo_confianza[1] - intervalo_confianza[0])) ** 2)\n",
    "print(\"El valor mínimo de n es:\", n)\n",
    "\n"
   ]
  },
  {
   "cell_type": "code",
   "execution_count": 14,
   "metadata": {},
   "outputs": [
    {
     "name": "stdout",
     "output_type": "stream",
     "text": [
      "El nivel de confianza es: 1.9875806693484477\n"
     ]
    }
   ],
   "source": [
    "# Se desea obtener la media de una variable aleatoria que se distribuye\n",
    "# normalmente con una desviación típica de 3,2. Para ello se toma una muestra\n",
    "# de 64 individuos obteniéndose una media de 32,5.\n",
    "\n",
    "# a) ¿Con qué nivel de confianza se puede afirmar que la media de la población está entre 31,5 y 33,5?\n",
    "\n",
    "# Importamos las librerías necesarias\n",
    "import numpy as np\n",
    "import scipy.stats as st\n",
    "\n",
    "# Definimos los datos del enunciado\n",
    "confianza = 0.95\n",
    "media_muestra = 32.5\n",
    "desviacion_tipica = 3.2\n",
    "intervalo_confianza = (31.5, 33.5)\n",
    "n = 64\n",
    "\n",
    "# Calculamos el nivel de confianza\n",
    "z = (media_muestra - intervalo_confianza[0]) / (desviacion_tipica / np.sqrt(n))\n",
    "confianza = st.norm.cdf(z) * 2\n",
    "print(\"El nivel de confianza es:\", confianza)\n"
   ]
  },
  {
   "cell_type": "code",
   "execution_count": 12,
   "metadata": {},
   "outputs": [
    {
     "name": "stdout",
     "output_type": "stream",
     "text": [
      "El valor mínimo de n es: 106\n"
     ]
    }
   ],
   "source": [
    "# b) Si la desviación típica de la población fuera 3, ¿qué tamaño mínimo\n",
    "# debería tener la muestra con la cual estimamos la media poblacional si\n",
    "# queremos que el nivel de confianza sea del 99 %, y el error admisible no\n",
    "# supere el valor de 0,75?\n",
    "\n",
    "# Importamos las librerías necesarias\n",
    "import numpy as np\n",
    "import scipy.stats as st\n",
    "\n",
    "# Definimos los datos del enunciado\n",
    "confianza = 0.99\n",
    "error = 0.75\n",
    "desviacion_tipica = 3\n",
    "z = st.norm.ppf(1 - (1 - confianza) / 2)\n",
    "\n",
    "# Calculamos el valor mínimo de n\n",
    "n = (z / error) ** 2 * desviacion_tipica ** 2\n",
    "print(f\"El valor mínimo de n es: {n:.0f}\")\n",
    "\n"
   ]
  },
  {
   "cell_type": "code",
   "execution_count": null,
   "metadata": {},
   "outputs": [],
   "source": [
    "# Técnicas de muestreo\n",
    "# Se refiere a la selección de una muestra de una población finita o infinita.\n",
    "\n",
    "# Muestreo probabilístico\n",
    "# Se basa en la teoría de la probabilidad y se caracteriza por el hecho de que cada elemento de la población tiene una probabilidad conocida de ser seleccionado en la muestra.\n",
    "\n",
    "# Muestreo no probabilístico\n",
    "# Se basa en el juicio del investigador y no en la teoría de la probabilidad. En este tipo de muestreo no se conoce la probabilidad de que cada elemento de la población sea seleccionado en la muestra.\n"
   ]
  }
 ],
 "metadata": {
  "kernelspec": {
   "display_name": "Python 3",
   "language": "python",
   "name": "python3"
  },
  "language_info": {
   "codemirror_mode": {
    "name": "ipython",
    "version": 3
   },
   "file_extension": ".py",
   "mimetype": "text/x-python",
   "name": "python",
   "nbconvert_exporter": "python",
   "pygments_lexer": "ipython3",
   "version": "3.10.11"
  },
  "orig_nbformat": 4
 },
 "nbformat": 4,
 "nbformat_minor": 2
}
