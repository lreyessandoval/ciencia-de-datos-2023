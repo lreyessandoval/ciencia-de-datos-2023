{
 "cells": [
  {
   "cell_type": "code",
   "execution_count": 2,
   "metadata": {},
   "outputs": [
    {
     "name": "stdout",
     "output_type": "stream",
     "text": [
      "[[ 3  7 11]\n",
      " [15 19 23]\n",
      " [27 31 35]]\n"
     ]
    }
   ],
   "source": [
    "# 1. Dadas 2 matrices con dimensiones similares, ¿cómo obtener una salida de matriz en la que cada elemento es una suma de elementos de las 2\n",
    "# matrices? (solo puede usar numpy como librería, si realiza la matriz con otro paquete el ejercicio no es válido)\n",
    "\n",
    "import numpy as np\n",
    "\n",
    "# Matriz 1\n",
    "matriz_1 = np.array([[1, 3, 5], [7, 9, 11], [13, 15, 17]])\n",
    "\n",
    "# Matriz 2\n",
    "matriz_2 = np.array([[2, 4, 6], [8, 10, 12], [14, 16, 18]])\n",
    "\n",
    "# Matriz de salida\n",
    "matriz_salida = matriz_1 + matriz_2\n",
    "\n",
    "print(matriz_salida)\n"
   ]
  },
  {
   "cell_type": "code",
   "execution_count": 4,
   "metadata": {},
   "outputs": [
    {
     "name": "stdout",
     "output_type": "stream",
     "text": [
      "[[1. 0. 0. 0.]\n",
      " [0. 1. 0. 0.]\n",
      " [0. 0. 1. 0.]\n",
      " [0. 0. 0. 1.]]\n"
     ]
    }
   ],
   "source": [
    "# 2 Cree una matriz de identidad de dimensión 4.\n",
    "\n",
    "# Matriz de identidad\n",
    "matriz_identidad = np.identity(4)\n",
    "\n",
    "print(matriz_identidad)\n"
   ]
  },
  {
   "cell_type": "code",
   "execution_count": 6,
   "metadata": {},
   "outputs": [
    {
     "name": "stdout",
     "output_type": "stream",
     "text": [
      "[[False  True False  True]\n",
      " [ True False  True False]\n",
      " [False  True False  True]]\n"
     ]
    }
   ],
   "source": [
    "# 3. Convierte una matriz numpy binaria (que contiene solo 0 y 1) en una matriz numpy booleana.\n",
    "\n",
    "# Matriz binaria\n",
    "matriz_binaria = np.array([[0, 1, 0, 1], [1, 0, 1, 0], [0, 1, 0, 1]])\n",
    "\n",
    "# Matriz booleana\n",
    "matriz_booleana = matriz_binaria.astype(bool)\n",
    "\n",
    "print(matriz_booleana)\n"
   ]
  },
  {
   "cell_type": "code",
   "execution_count": 7,
   "metadata": {},
   "outputs": [
    {
     "name": "stdout",
     "output_type": "stream",
     "text": [
      "[ 0  2  4  6  8 10 12 14 16 18 20 22 24 26 28 30 32 34 36 38 40 42 44 46\n",
      " 48 50 52 54 56 58 60 62 64 66 68 70 72 74 76 78 80 82 84 86 88 90 92 94\n",
      " 96 98]\n"
     ]
    }
   ],
   "source": [
    "# 4. Genere una secuencia de números en forma de matriz numpy de 0 a 100 con espacios de 2 números, por ejemplo: 0, 2, 4 ...\n",
    "\n",
    "# Matriz de secuencia\n",
    "matriz_secuencia = np.arange(0, 100, 2)\n",
    "\n",
    "print(matriz_secuencia)\n",
    "\n"
   ]
  },
  {
   "cell_type": "code",
   "execution_count": 24,
   "metadata": {},
   "outputs": [],
   "source": [
    "# ¿Qué es la librería numpy?\n",
    "# Es una librería de Python que nos permite realizar operaciones matemáticas y estadísticas sobre matrices y vectores.\n",
    "\n",
    "# ¿Conocemos los términos de vectores y matrices?\n",
    "# Un vector es una lista de números, mientras que una matriz es una lista de vectores.\n"
   ]
  }
 ],
 "metadata": {
  "kernelspec": {
   "display_name": "Python 3",
   "language": "python",
   "name": "python3"
  },
  "language_info": {
   "codemirror_mode": {
    "name": "ipython",
    "version": 3
   },
   "file_extension": ".py",
   "mimetype": "text/x-python",
   "name": "python",
   "nbconvert_exporter": "python",
   "pygments_lexer": "ipython3",
   "version": "3.10.11"
  },
  "orig_nbformat": 4
 },
 "nbformat": 4,
 "nbformat_minor": 2
}
